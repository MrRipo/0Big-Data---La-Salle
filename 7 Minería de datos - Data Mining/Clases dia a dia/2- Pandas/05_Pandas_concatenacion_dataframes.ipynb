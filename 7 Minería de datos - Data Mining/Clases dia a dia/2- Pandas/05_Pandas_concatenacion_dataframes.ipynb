{
  "cells": [
    {
      "cell_type": "markdown",
      "metadata": {
        "id": "kUBVslDibarn"
      },
      "source": [
        "# Pandas 3 - Concatenar DataFrames\n",
        "- - -"
      ]
    },
    {
      "cell_type": "code",
      "execution_count": null,
      "metadata": {
        "id": "Dycy4wmMbart"
      },
      "outputs": [],
      "source": [
        "import pandas as pd"
      ]
    },
    {
      "cell_type": "markdown",
      "metadata": {
        "id": "Sb1pQLTHbaru"
      },
      "source": [
        "### Concatenate"
      ]
    },
    {
      "cell_type": "code",
      "execution_count": null,
      "metadata": {
        "id": "NidJ3tvKbarv"
      },
      "outputs": [],
      "source": [
        "df_a = pd.DataFrame({\"Nombre\": [\"Alice\", \"Bob\", \"Eve\", \"Colin\"], \n",
        "                    \"Expediente\": [\"005\",\"007\",\"008\",\"010\"]})"
      ]
    },
    {
      "cell_type": "code",
      "execution_count": null,
      "metadata": {
        "id": "7IW68at0barw"
      },
      "outputs": [],
      "source": [
        "df_b = pd.DataFrame({\"Nombre\": [\"Peter\", \"Frank\", \"Julie\"],\n",
        "                    \"Expediente\": [\"014\",\"016\",\"019\"]})"
      ]
    },
    {
      "cell_type": "code",
      "execution_count": null,
      "metadata": {
        "id": "w37eyQzlbarw"
      },
      "outputs": [],
      "source": [
        "df_a"
      ]
    },
    {
      "cell_type": "code",
      "execution_count": null,
      "metadata": {
        "id": "wNllN8Kpbary"
      },
      "outputs": [],
      "source": [
        "df_b"
      ]
    },
    {
      "cell_type": "code",
      "execution_count": null,
      "metadata": {
        "id": "ipP7uVnebarz"
      },
      "outputs": [],
      "source": [
        "pd.concat([df_a, df_b])"
      ]
    },
    {
      "cell_type": "code",
      "execution_count": null,
      "metadata": {
        "id": "77ki2AMEbarz"
      },
      "outputs": [],
      "source": [
        "pd.concat([df_a, df_b], ignore_index=True)"
      ]
    },
    {
      "cell_type": "code",
      "execution_count": null,
      "metadata": {
        "id": "hdxm3e0ebar0"
      },
      "outputs": [],
      "source": [
        "nuevo_df = pd.concat([df_a, df_b], ignore_index=True)\n",
        "print(nuevo_df)"
      ]
    },
    {
      "cell_type": "markdown",
      "metadata": {
        "id": "c0VTxTzJbar1"
      },
      "source": [
        "### Merge"
      ]
    },
    {
      "cell_type": "code",
      "execution_count": null,
      "metadata": {
        "id": "RuiKXabrbar1"
      },
      "outputs": [],
      "source": [
        "otro_df = pd.DataFrame({\"Apellido\": [\"Smith\", \"Johnson\", \"Williams\" , \"Miller\", \"Davis\"], \n",
        "                        \"Expediente\": [\"004\",\"005\",\"007\",\"008\",\"011\"]})"
      ]
    },
    {
      "cell_type": "code",
      "execution_count": null,
      "metadata": {
        "id": "nkGI5k04bar1"
      },
      "outputs": [],
      "source": [
        "otro_df"
      ]
    },
    {
      "cell_type": "code",
      "execution_count": null,
      "metadata": {
        "id": "pN5jPF0Tbar2"
      },
      "outputs": [],
      "source": [
        "pd.merge(nuevo_df, otro_df, on=\"Expediente\")"
      ]
    },
    {
      "cell_type": "code",
      "execution_count": null,
      "metadata": {
        "id": "Mv9R2fMZbar2"
      },
      "outputs": [],
      "source": [
        "#Igual que el valor por defecto\n",
        "pd.merge(nuevo_df, otro_df, on=\"Expediente\", how=\"inner\")"
      ]
    },
    {
      "cell_type": "code",
      "execution_count": null,
      "metadata": {
        "id": "aEc-NRK6bar2"
      },
      "outputs": [],
      "source": [
        "pd.merge(nuevo_df, otro_df, on=\"Expediente\", how=\"left\")"
      ]
    },
    {
      "cell_type": "code",
      "execution_count": null,
      "metadata": {
        "id": "9Esk-dc6bar3"
      },
      "outputs": [],
      "source": [
        "pd.merge(nuevo_df, otro_df, on=\"Expediente\", how=\"right\")"
      ]
    },
    {
      "cell_type": "code",
      "execution_count": null,
      "metadata": {
        "id": "Ct7oyePSbar3"
      },
      "outputs": [],
      "source": [
        "pd.merge(nuevo_df, otro_df, on=\"Expediente\", how=\"outer\")"
      ]
    },
    {
      "cell_type": "markdown",
      "metadata": {
        "id": "iC_1F4a3bar4"
      },
      "source": [
        "- - -"
      ]
    }
  ],
  "metadata": {
    "kernelspec": {
      "display_name": "Python 3",
      "language": "python",
      "name": "python3"
    },
    "language_info": {
      "codemirror_mode": {
        "name": "ipython",
        "version": 3
      },
      "file_extension": ".py",
      "mimetype": "text/x-python",
      "name": "python",
      "nbconvert_exporter": "python",
      "pygments_lexer": "ipython3",
      "version": "3.8.5"
    },
    "colab": {
      "provenance": []
    }
  },
  "nbformat": 4,
  "nbformat_minor": 0
}