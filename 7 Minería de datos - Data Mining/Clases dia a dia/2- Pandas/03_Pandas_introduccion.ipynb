{
  "cells": [
    {
      "cell_type": "markdown",
      "metadata": {
        "id": "d4eSi89jJLPM"
      },
      "source": [
        "# Pandas 1\n",
        "- - -"
      ]
    },
    {
      "cell_type": "markdown",
      "metadata": {
        "id": "tBwUON5KJLPQ"
      },
      "source": [
        "## Primer Paso"
      ]
    },
    {
      "cell_type": "code",
      "execution_count": null,
      "metadata": {
        "id": "3wkkeRbdJLPR"
      },
      "outputs": [],
      "source": [
        "import pandas as pd"
      ]
    },
    {
      "cell_type": "markdown",
      "metadata": {
        "id": "xpeqeKElJLPS"
      },
      "source": [
        "### DataFrame"
      ]
    },
    {
      "cell_type": "markdown",
      "metadata": {
        "id": "yqRJraAOJLPS"
      },
      "source": [
        "Ahora vamos a crear una estructura de datos que sera la que más utilizaremos, un DataFrame.  \n",
        "El DataFrame es una estructura de datos que se compone de columnas y filas ordenadas.\n",
        "\n",
        "Un DataFrame se puede construir de diferentes formas, como por ejemplo a partir de una lista, un diccionario, de otro DataFrame, desde una tabla excel, un fichero csv, etc."
      ]
    },
    {
      "cell_type": "code",
      "execution_count": null,
      "metadata": {
        "id": "vu4F6tXCJLPT"
      },
      "outputs": [],
      "source": [
        "mi_diccionario  = {\"Nombre\": [\"Alice\", \"Bob\", \"Eve\", \"Colin\", \"Peter\", \"Frank\", \"Julie\"], \n",
        "                   \"Edad\": [23, 38, 26, 30, 34, 23, 27],\n",
        "                   \"Altura\": [1.65, 1.71, 1.68, 1.73, 1.68, 1.77, 1.64], \n",
        "                   \"Peso\": [56, 65, 58, 68, 72, 64, 70]}"
      ]
    },
    {
      "cell_type": "code",
      "execution_count": null,
      "metadata": {
        "id": "c4qqjzffJLPT"
      },
      "outputs": [],
      "source": [
        "mi_diccionario"
      ]
    },
    {
      "cell_type": "code",
      "execution_count": null,
      "metadata": {
        "id": "kSa51F6UJLPV"
      },
      "outputs": [],
      "source": [
        "df = pd.DataFrame(mi_diccionario)"
      ]
    },
    {
      "cell_type": "code",
      "execution_count": null,
      "metadata": {
        "id": "x5Q62j3UJLPV"
      },
      "outputs": [],
      "source": [
        "df"
      ]
    },
    {
      "cell_type": "code",
      "execution_count": null,
      "metadata": {
        "id": "kYRRo5VGJLPW"
      },
      "outputs": [],
      "source": [
        "df.head()"
      ]
    },
    {
      "cell_type": "code",
      "execution_count": null,
      "metadata": {
        "id": "E7hqbCzvJLPX"
      },
      "outputs": [],
      "source": [
        "df.tail()"
      ]
    },
    {
      "cell_type": "code",
      "execution_count": null,
      "metadata": {
        "id": "2vNbOPpAJLPX"
      },
      "outputs": [],
      "source": [
        "df.index"
      ]
    },
    {
      "cell_type": "code",
      "execution_count": null,
      "metadata": {
        "id": "9hhbts50JLPY"
      },
      "outputs": [],
      "source": [
        "df.columns"
      ]
    },
    {
      "cell_type": "code",
      "source": [
        "df.dtypes"
      ],
      "metadata": {
        "id": "6JKM3LOwCQqa"
      },
      "execution_count": null,
      "outputs": []
    },
    {
      "cell_type": "code",
      "source": [
        "print(\"Filas:\" + str(df.shape[0]))\n",
        "print(\"Columnas:\" + str(df.shape[1]))"
      ],
      "metadata": {
        "id": "bJYkHFWfh0Hh"
      },
      "execution_count": null,
      "outputs": []
    },
    {
      "cell_type": "markdown",
      "metadata": {
        "id": "RYxJ5r3RJLPY"
      },
      "source": [
        "### Selección"
      ]
    },
    {
      "cell_type": "code",
      "execution_count": null,
      "metadata": {
        "id": "lHkKlATJJLPY"
      },
      "outputs": [],
      "source": [
        "df"
      ]
    },
    {
      "cell_type": "code",
      "execution_count": null,
      "metadata": {
        "id": "xC8EEd24JLPZ"
      },
      "outputs": [],
      "source": [
        "df[\"Nombre\"]"
      ]
    },
    {
      "cell_type": "code",
      "execution_count": null,
      "metadata": {
        "id": "msDXPyVAJLPZ"
      },
      "outputs": [],
      "source": [
        "df[[\"Nombre\", \"Edad\"]]"
      ]
    },
    {
      "cell_type": "code",
      "execution_count": null,
      "metadata": {
        "id": "RIALuPBPJLPa"
      },
      "outputs": [],
      "source": [
        "df.iloc[[1]]"
      ]
    },
    {
      "cell_type": "code",
      "execution_count": null,
      "metadata": {
        "id": "5Gms_JSLJLPa"
      },
      "outputs": [],
      "source": [
        "df.iloc[2:6]"
      ]
    },
    {
      "cell_type": "markdown",
      "metadata": {
        "id": "h24e5_AlJLPa"
      },
      "source": [
        "- - -\n",
        "El \",\" nos sera útil para poder la distinguir selección de filas de la selección de columnas\n",
        "- - -"
      ]
    },
    {
      "cell_type": "code",
      "execution_count": null,
      "metadata": {
        "id": "apG5ra4SJLPb"
      },
      "outputs": [],
      "source": [
        "df.iloc[:,0:2]"
      ]
    },
    {
      "cell_type": "code",
      "execution_count": null,
      "metadata": {
        "id": "whyaRyuHJLPb"
      },
      "outputs": [],
      "source": [
        "df.iloc[3:6:,0:2]"
      ]
    },
    {
      "cell_type": "code",
      "execution_count": null,
      "metadata": {
        "id": "8pHDAyEsJLPb"
      },
      "outputs": [],
      "source": [
        "df.iloc[[1,3,5]]"
      ]
    },
    {
      "cell_type": "code",
      "execution_count": null,
      "metadata": {
        "id": "AtbMwcEMJLPb"
      },
      "outputs": [],
      "source": [
        "df.iloc[[1,4,5],[0,3]]"
      ]
    },
    {
      "cell_type": "markdown",
      "metadata": {
        "id": "MWHlw7X9JLPc"
      },
      "source": [
        "### Añadir y eliminar columnas"
      ]
    },
    {
      "cell_type": "code",
      "source": [
        "df"
      ],
      "metadata": {
        "id": "C23LOgRDjUhc"
      },
      "execution_count": null,
      "outputs": []
    },
    {
      "cell_type": "code",
      "execution_count": null,
      "metadata": {
        "id": "KXN5CT07JLPc"
      },
      "outputs": [],
      "source": [
        "df[\"Sexo\"] = [\"Femenino\", \"Masculino\", \"Femenino\", \"Masculino\", \"Masculino\", \"Masculino\", \"Femenino\"]"
      ]
    },
    {
      "cell_type": "code",
      "execution_count": null,
      "metadata": {
        "id": "AuyWPKvzJLPc"
      },
      "outputs": [],
      "source": [
        "df[\"Estudiante\"] = [\"Yes\", \"No\", \"Yes\", \"Yes\", \"Yes\", \"Yes\", \"Yes\"]"
      ]
    },
    {
      "cell_type": "code",
      "execution_count": null,
      "metadata": {
        "id": "eXGJ9LHcJLPc"
      },
      "outputs": [],
      "source": [
        "df"
      ]
    },
    {
      "cell_type": "code",
      "execution_count": null,
      "metadata": {
        "id": "DaHxpaTEJLPc"
      },
      "outputs": [],
      "source": [
        "df.drop(1)"
      ]
    },
    {
      "cell_type": "code",
      "source": [
        "df"
      ],
      "metadata": {
        "id": "x2eQK33xjspE"
      },
      "execution_count": null,
      "outputs": []
    },
    {
      "cell_type": "code",
      "source": [
        "df.drop(\"Estudiante\")"
      ],
      "metadata": {
        "id": "FfIf2RR7Ef4t"
      },
      "execution_count": null,
      "outputs": []
    },
    {
      "cell_type": "code",
      "execution_count": null,
      "metadata": {
        "id": "MdswrB5vJLPd"
      },
      "outputs": [],
      "source": [
        "df.drop(\"Estudiante\", axis=1)"
      ]
    },
    {
      "cell_type": "code",
      "execution_count": null,
      "metadata": {
        "id": "_EFNuQM1JLPd"
      },
      "outputs": [],
      "source": [
        "df"
      ]
    },
    {
      "cell_type": "code",
      "execution_count": null,
      "metadata": {
        "scrolled": true,
        "id": "tetNeirSJLPd"
      },
      "outputs": [],
      "source": [
        "otro_df = df.drop([\"Estudiante\", \"Peso\",\"Edad\"], axis=1)"
      ]
    },
    {
      "cell_type": "code",
      "execution_count": null,
      "metadata": {
        "id": "vyhUoTpIJLPd"
      },
      "outputs": [],
      "source": [
        "otro_df"
      ]
    },
    {
      "cell_type": "code",
      "execution_count": null,
      "metadata": {
        "id": "REXenfk6JLPd"
      },
      "outputs": [],
      "source": [
        "df"
      ]
    },
    {
      "cell_type": "code",
      "execution_count": null,
      "metadata": {
        "id": "_ymqhfDcJLPe"
      },
      "outputs": [],
      "source": [
        "df.drop(2)"
      ]
    },
    {
      "cell_type": "code",
      "execution_count": null,
      "metadata": {
        "id": "rwnSh5e1JLPe"
      },
      "outputs": [],
      "source": [
        "df.drop([1,3,5])"
      ]
    },
    {
      "cell_type": "markdown",
      "metadata": {
        "id": "n7JdzTXjJLPe"
      },
      "source": [
        "### Reset Index"
      ]
    },
    {
      "cell_type": "code",
      "execution_count": null,
      "metadata": {
        "id": "YNLfTL9BJLPe"
      },
      "outputs": [],
      "source": [
        "otro_df = df.drop([1,3,5])"
      ]
    },
    {
      "cell_type": "code",
      "execution_count": null,
      "metadata": {
        "id": "H7Fbm9dXJLPe"
      },
      "outputs": [],
      "source": [
        "otro_df"
      ]
    },
    {
      "cell_type": "code",
      "execution_count": null,
      "metadata": {
        "id": "-scjb6DmJLPf"
      },
      "outputs": [],
      "source": [
        "otro_df.reset_index()"
      ]
    },
    {
      "cell_type": "code",
      "source": [
        "otro_df.reset_index(drop = True)"
      ],
      "metadata": {
        "id": "aD98ZR--Glj7"
      },
      "execution_count": null,
      "outputs": []
    },
    {
      "cell_type": "markdown",
      "metadata": {
        "id": "egswD5_JJLPf"
      },
      "source": [
        "### Condicionales"
      ]
    },
    {
      "cell_type": "code",
      "execution_count": null,
      "metadata": {
        "id": "FMD7h5LXJLPf"
      },
      "outputs": [],
      "source": [
        "df[\"Edad\"]"
      ]
    },
    {
      "cell_type": "code",
      "execution_count": null,
      "metadata": {
        "id": "z40GesBbJLPf"
      },
      "outputs": [],
      "source": [
        "df[\"Edad\"] > 29"
      ]
    },
    {
      "cell_type": "code",
      "execution_count": null,
      "metadata": {
        "id": "hpnRCUJcJLPf"
      },
      "outputs": [],
      "source": [
        "df[df[\"Edad\"] > 25]"
      ]
    },
    {
      "cell_type": "code",
      "execution_count": null,
      "metadata": {
        "id": "Z7HtUzkwJLPf"
      },
      "outputs": [],
      "source": [
        "df[df[\"Edad\"] < 35]"
      ]
    },
    {
      "cell_type": "code",
      "execution_count": null,
      "metadata": {
        "id": "1ApMQPDyJLPf"
      },
      "outputs": [],
      "source": [
        "df[df[\"Edad\"] <= 34]"
      ]
    },
    {
      "cell_type": "code",
      "execution_count": null,
      "metadata": {
        "id": "FRfjdub-JLPg"
      },
      "outputs": [],
      "source": [
        "df[df[\"Edad\"] == 27]"
      ]
    },
    {
      "cell_type": "code",
      "execution_count": null,
      "metadata": {
        "id": "JXWUTBKEJLPg"
      },
      "outputs": [],
      "source": [
        "df[df[\"Edad\"] != 27]"
      ]
    },
    {
      "cell_type": "markdown",
      "metadata": {
        "id": "1mIZThZ2JLPg"
      },
      "source": [
        "### AND, OR"
      ]
    },
    {
      "cell_type": "code",
      "execution_count": null,
      "metadata": {
        "id": "9bs27tv6JLPg"
      },
      "outputs": [],
      "source": [
        "df[(df[\"Edad\"] > 25) and (df[\"Edad\"] < 35)]"
      ]
    },
    {
      "cell_type": "code",
      "execution_count": null,
      "metadata": {
        "id": "93BMN-cTJLPg"
      },
      "outputs": [],
      "source": [
        "df[(df[\"Edad\"] > 25) & (df[\"Edad\"] < 35)]"
      ]
    },
    {
      "cell_type": "code",
      "execution_count": null,
      "metadata": {
        "id": "Nh-ydKSKJLPh"
      },
      "outputs": [],
      "source": [
        "df[(df[\"Peso\"] > 70) or (df[\"Peso\"] < 60)]"
      ]
    },
    {
      "cell_type": "code",
      "execution_count": null,
      "metadata": {
        "id": "84HALCBbJLPh"
      },
      "outputs": [],
      "source": [
        "df[(df[\"Peso\"] > 70) | (df[\"Peso\"] < 60)]"
      ]
    },
    {
      "cell_type": "markdown",
      "metadata": {
        "id": "HPCpRWhCJLPh"
      },
      "source": [
        "### Ordenar, contar y distinguir"
      ]
    },
    {
      "cell_type": "code",
      "execution_count": null,
      "metadata": {
        "id": "vAWDnmhlJLPh"
      },
      "outputs": [],
      "source": [
        "df"
      ]
    },
    {
      "cell_type": "code",
      "execution_count": null,
      "metadata": {
        "id": "9ooFyOq1JLPh"
      },
      "outputs": [],
      "source": [
        "df.sort_values(\"Altura\")"
      ]
    },
    {
      "cell_type": "code",
      "execution_count": null,
      "metadata": {
        "id": "8IRzaK2kJLPh"
      },
      "outputs": [],
      "source": [
        "df.sort_values(\"Altura\", ascending=False)"
      ]
    },
    {
      "cell_type": "code",
      "execution_count": null,
      "metadata": {
        "id": "HRTanCduJLPi"
      },
      "outputs": [],
      "source": [
        "df[\"Edad\"].count()"
      ]
    },
    {
      "cell_type": "code",
      "execution_count": null,
      "metadata": {
        "id": "a4YQbfB7JLPi"
      },
      "outputs": [],
      "source": [
        "df[\"Edad\"].unique()"
      ]
    },
    {
      "cell_type": "code",
      "execution_count": null,
      "metadata": {
        "id": "oIE8FkcyJLPi"
      },
      "outputs": [],
      "source": [
        "df[\"Edad\"].nunique()"
      ]
    },
    {
      "cell_type": "code",
      "execution_count": null,
      "metadata": {
        "id": "l1-CSxfHJLPi"
      },
      "outputs": [],
      "source": [
        "df[\"Edad\"].value_counts()"
      ]
    },
    {
      "cell_type": "code",
      "execution_count": null,
      "metadata": {
        "id": "C_vQslFCJLPi"
      },
      "outputs": [],
      "source": [
        "df[\"Sexo\"].value_counts()"
      ]
    },
    {
      "cell_type": "markdown",
      "metadata": {
        "id": "MTOZ-IAWJLPi"
      },
      "source": [
        "### IS IN"
      ]
    },
    {
      "cell_type": "code",
      "execution_count": null,
      "metadata": {
        "id": "4pQ7_-dkJLPj"
      },
      "outputs": [],
      "source": [
        "df[\"Estudiante\"]"
      ]
    },
    {
      "cell_type": "code",
      "execution_count": null,
      "metadata": {
        "id": "uy-UDcSMJLPj"
      },
      "outputs": [],
      "source": [
        "df[\"Estudiante\"].isin([\"Yes\"])"
      ]
    },
    {
      "cell_type": "code",
      "execution_count": null,
      "metadata": {
        "id": "1M_O20ClJLPj"
      },
      "outputs": [],
      "source": [
        "df[df[\"Estudiante\"].isin([\"Yes\"])]"
      ]
    },
    {
      "cell_type": "code",
      "execution_count": null,
      "metadata": {
        "id": "k6uP2uKDJLPj"
      },
      "outputs": [],
      "source": [
        "df[\"Nombre\"][df[\"Estudiante\"].isin([\"Yes\"])]"
      ]
    },
    {
      "cell_type": "code",
      "execution_count": null,
      "metadata": {
        "id": "aTlor7r1JLPj"
      },
      "outputs": [],
      "source": [
        "df[df[\"Edad\"].isin([26,27])]"
      ]
    },
    {
      "cell_type": "code",
      "execution_count": null,
      "metadata": {
        "id": "X6iHwzxdJLPj"
      },
      "outputs": [],
      "source": [
        "df[\"Nombre\"][df[\"Edad\"].isin([26,27])]"
      ]
    },
    {
      "cell_type": "code",
      "source": [
        "df[\"Estudiante\"][df[\"Estudiante\"] == \"Yes\"] = True\n",
        "df[\"Estudiante\"][df[\"Estudiante\"] == \"No\"] = False\n",
        "df[\"Edad\"][df[\"Edad\"] > 25 ] = 70\n",
        "df[\"Estudiante\"] = df[\"Estudiante\"].replace(False, \"NO!!!\")\n"
      ],
      "metadata": {
        "id": "nsJ7lz0Fn85a"
      },
      "execution_count": null,
      "outputs": []
    },
    {
      "cell_type": "code",
      "source": [
        "df"
      ],
      "metadata": {
        "id": "RTh6vplmorrf"
      },
      "execution_count": null,
      "outputs": []
    },
    {
      "cell_type": "markdown",
      "metadata": {
        "id": "me4v-A_yJLPj"
      },
      "source": [
        "### Operaciones varias"
      ]
    },
    {
      "cell_type": "code",
      "execution_count": null,
      "metadata": {
        "id": "uztvOc3bJLPj"
      },
      "outputs": [],
      "source": [
        "df[\"Altura\"].sum()"
      ]
    },
    {
      "cell_type": "code",
      "execution_count": null,
      "metadata": {
        "id": "zNDQpLXLJLPk"
      },
      "outputs": [],
      "source": [
        "df[\"Peso\"].min()"
      ]
    },
    {
      "cell_type": "code",
      "execution_count": null,
      "metadata": {
        "id": "dDoT7KJ8JLPk"
      },
      "outputs": [],
      "source": [
        "df[\"Edad\"].max()"
      ]
    },
    {
      "cell_type": "code",
      "execution_count": null,
      "metadata": {
        "id": "FPwvR1KeJLPk"
      },
      "outputs": [],
      "source": [
        "df.mean()"
      ]
    },
    {
      "cell_type": "code",
      "execution_count": null,
      "metadata": {
        "id": "kYO8QN1HJLPk"
      },
      "outputs": [],
      "source": [
        "df.describe()"
      ]
    },
    {
      "cell_type": "markdown",
      "metadata": {
        "id": "8Yedf0BQJLPk"
      },
      "source": [
        "### Apply"
      ]
    },
    {
      "cell_type": "code",
      "execution_count": null,
      "metadata": {
        "id": "H1BQ06VYJLPk"
      },
      "outputs": [],
      "source": [
        "df[\"Altura\"]"
      ]
    },
    {
      "cell_type": "code",
      "execution_count": null,
      "metadata": {
        "id": "U_x-ExwKJLPk"
      },
      "outputs": [],
      "source": [
        "def m_to_cm(x):\n",
        "    return x * 100 "
      ]
    },
    {
      "cell_type": "code",
      "execution_count": null,
      "metadata": {
        "id": "56PJOYY6JLPk"
      },
      "outputs": [],
      "source": [
        "df[\"Altura\"].apply(m_to_cm)"
      ]
    },
    {
      "cell_type": "markdown",
      "metadata": {
        "id": "fArq3ypbJLPl"
      },
      "source": [
        "## Extra:"
      ]
    },
    {
      "cell_type": "markdown",
      "metadata": {
        "id": "P4HQLhwNJLPl"
      },
      "source": [
        "### GroupBy"
      ]
    },
    {
      "cell_type": "code",
      "execution_count": null,
      "metadata": {
        "id": "YY4IFvGQJLPl"
      },
      "outputs": [],
      "source": [
        "df"
      ]
    },
    {
      "cell_type": "code",
      "execution_count": null,
      "metadata": {
        "id": "j-DkBKs5JLPl"
      },
      "outputs": [],
      "source": [
        "df.groupby(\"Estudiante\")"
      ]
    },
    {
      "cell_type": "code",
      "execution_count": null,
      "metadata": {
        "id": "Jfp4mFmWJLPl"
      },
      "outputs": [],
      "source": [
        "df.groupby(\"Estudiante\").mean()"
      ]
    },
    {
      "cell_type": "code",
      "execution_count": null,
      "metadata": {
        "id": "GWUBQWLvJLPl"
      },
      "outputs": [],
      "source": [
        "df.groupby(\"Estudiante\").sum()"
      ]
    },
    {
      "cell_type": "code",
      "execution_count": null,
      "metadata": {
        "id": "N5-OS4d8JLPl"
      },
      "outputs": [],
      "source": [
        "df.groupby(df[\"Edad\"] > 30).sum()"
      ]
    },
    {
      "cell_type": "code",
      "execution_count": null,
      "metadata": {
        "id": "Ydn94mRDJLPm"
      },
      "outputs": [],
      "source": [
        "df.groupby(df[\"Edad\"] > 30).describe()"
      ]
    },
    {
      "cell_type": "code",
      "execution_count": null,
      "metadata": {
        "id": "zxv4X1eUJLPm"
      },
      "outputs": [],
      "source": [
        "df.groupby(df[\"Edad\"] > 30).describe().transpose()"
      ]
    },
    {
      "cell_type": "markdown",
      "metadata": {
        "id": "m0iPYhOkJLPm"
      },
      "source": [
        "- - -"
      ]
    }
  ],
  "metadata": {
    "kernelspec": {
      "display_name": "Python 3",
      "language": "python",
      "name": "python3"
    },
    "language_info": {
      "codemirror_mode": {
        "name": "ipython",
        "version": 3
      },
      "file_extension": ".py",
      "mimetype": "text/x-python",
      "name": "python",
      "nbconvert_exporter": "python",
      "pygments_lexer": "ipython3",
      "version": "3.8.5"
    },
    "colab": {
      "provenance": []
    }
  },
  "nbformat": 4,
  "nbformat_minor": 0
}