{
  "cells": [
    {
      "cell_type": "markdown",
      "metadata": {
        "id": "Deel4HuwaqUJ"
      },
      "source": [
        "# Pandas 2 - Gestión de NaNs\n",
        "- - -"
      ]
    },
    {
      "cell_type": "code",
      "execution_count": null,
      "metadata": {
        "id": "hJY9bR5QaqUO"
      },
      "outputs": [],
      "source": [
        "import pandas as pd"
      ]
    },
    {
      "cell_type": "markdown",
      "metadata": {
        "id": "OcXOMTOCaqUQ"
      },
      "source": [
        "## NaN"
      ]
    },
    {
      "cell_type": "markdown",
      "metadata": {
        "id": "_MyuuqCMaqUR"
      },
      "source": [
        "Empezaremos por crear un dataframe desde una lista y con el aprenderemos a trabajar con NaN"
      ]
    },
    {
      "cell_type": "code",
      "execution_count": null,
      "metadata": {
        "id": "pRaVH8SZaqUR"
      },
      "outputs": [],
      "source": [
        "new_list = [7,9,8,7,3]"
      ]
    },
    {
      "cell_type": "code",
      "execution_count": null,
      "metadata": {
        "id": "HnaLaf5vaqUS"
      },
      "outputs": [],
      "source": [
        "df = pd.DataFrame(new_list)"
      ]
    },
    {
      "cell_type": "code",
      "execution_count": null,
      "metadata": {
        "id": "jJE1DWeqaqUS"
      },
      "outputs": [],
      "source": [
        "df"
      ]
    },
    {
      "cell_type": "code",
      "execution_count": null,
      "metadata": {
        "id": "8_YKjDFcaqUU"
      },
      "outputs": [],
      "source": [
        "new_list = [[6,6,8,7,3],[4,2,1,4,3],[8,3,6,1,7],[2,5,9,3,8],[5,4,6,1,8]]"
      ]
    },
    {
      "cell_type": "code",
      "execution_count": null,
      "metadata": {
        "id": "p0WXhlWJaqUU"
      },
      "outputs": [],
      "source": [
        "df = pd.DataFrame(new_list)"
      ]
    },
    {
      "cell_type": "code",
      "execution_count": null,
      "metadata": {
        "id": "Z1wMWmG5aqUV"
      },
      "outputs": [],
      "source": [
        "df"
      ]
    },
    {
      "cell_type": "code",
      "execution_count": null,
      "metadata": {
        "id": "cCtM3_IkaqUW"
      },
      "outputs": [],
      "source": [
        "my_columns_names = [\"A\", \"B\", \"C\", \"D\", \"E\"]"
      ]
    },
    {
      "cell_type": "code",
      "execution_count": null,
      "metadata": {
        "id": "v_GBRzGwaqUW"
      },
      "outputs": [],
      "source": [
        "df = pd.DataFrame(new_list, columns=my_columns_names)"
      ]
    },
    {
      "cell_type": "code",
      "execution_count": null,
      "metadata": {
        "id": "MJICNcJoaqUX"
      },
      "outputs": [],
      "source": [
        "df"
      ]
    },
    {
      "cell_type": "code",
      "execution_count": null,
      "metadata": {
        "id": "GiL-5YbmaqUX"
      },
      "outputs": [],
      "source": [
        "import numpy as np"
      ]
    },
    {
      "cell_type": "code",
      "execution_count": null,
      "metadata": {
        "id": "0RjPE6zXaqUX"
      },
      "outputs": [],
      "source": [
        "np.nan"
      ]
    },
    {
      "cell_type": "code",
      "execution_count": null,
      "metadata": {
        "id": "fBBkXtf8aqUX"
      },
      "outputs": [],
      "source": [
        "new_list =  [[6,6,8,7,3],[4,2,1,4,3],[8,3,6,1,np.nan],[2,5,9,np.nan,np.nan],[5,4,np.nan,np.nan,np.nan]]"
      ]
    },
    {
      "cell_type": "code",
      "execution_count": null,
      "metadata": {
        "id": "HERMa2gvaqUY"
      },
      "outputs": [],
      "source": [
        "df = pd.DataFrame(new_list, columns=my_columns_names)"
      ]
    },
    {
      "cell_type": "code",
      "execution_count": null,
      "metadata": {
        "id": "SV4WitppaqUY"
      },
      "outputs": [],
      "source": [
        "df"
      ]
    },
    {
      "cell_type": "code",
      "execution_count": null,
      "metadata": {
        "id": "-vAxFQCAaqUY"
      },
      "outputs": [],
      "source": [
        "df.dropna()"
      ]
    },
    {
      "cell_type": "code",
      "execution_count": null,
      "metadata": {
        "id": "TzSHy3UdaqUZ"
      },
      "outputs": [],
      "source": [
        "df.dropna(axis=1)"
      ]
    },
    {
      "cell_type": "markdown",
      "metadata": {
        "id": "Mt3UjqYLaqUZ"
      },
      "source": [
        "- - -\n",
        "Threshold se encargara de poner un límite al drop.\n",
        "\n",
        "En el siguiente ejemplo solo se eliminaran las columnas que dispongan de menos de 3 valores **no** NaN.\n",
        "- - -"
      ]
    },
    {
      "cell_type": "code",
      "execution_count": null,
      "metadata": {
        "id": "N4cWWBFuaqUZ"
      },
      "outputs": [],
      "source": [
        "df.dropna(axis=1, thresh=3)"
      ]
    },
    {
      "cell_type": "code",
      "execution_count": null,
      "metadata": {
        "id": "GntfVoQpaqUa"
      },
      "outputs": [],
      "source": [
        "#devuelve el dataframe df con únicamente aquellas columnas que tienen 4 valores \n",
        "#no NAN o más\n",
        "df.dropna(axis=0, thresh=3)"
      ]
    },
    {
      "cell_type": "code",
      "execution_count": null,
      "metadata": {
        "id": "SbHURf12aqUa"
      },
      "outputs": [],
      "source": [
        "df"
      ]
    },
    {
      "cell_type": "code",
      "execution_count": null,
      "metadata": {
        "id": "ZEsy8g6eaqUa"
      },
      "outputs": [],
      "source": [
        "df.fillna(0)"
      ]
    },
    {
      "cell_type": "code",
      "execution_count": null,
      "metadata": {
        "id": "8QdN6TCyaqUb"
      },
      "outputs": [],
      "source": [
        "df.mean()"
      ]
    },
    {
      "cell_type": "code",
      "execution_count": null,
      "metadata": {
        "id": "nM1zuyKWaqUb"
      },
      "outputs": [],
      "source": [
        "df.fillna(df.mean())"
      ]
    },
    {
      "cell_type": "markdown",
      "metadata": {
        "id": "gmPhEx24aqUb"
      },
      "source": [
        "- - -"
      ]
    }
  ],
  "metadata": {
    "kernelspec": {
      "display_name": "Python 3",
      "language": "python",
      "name": "python3"
    },
    "language_info": {
      "codemirror_mode": {
        "name": "ipython",
        "version": 3
      },
      "file_extension": ".py",
      "mimetype": "text/x-python",
      "name": "python",
      "nbconvert_exporter": "python",
      "pygments_lexer": "ipython3",
      "version": "3.8.5"
    },
    "colab": {
      "provenance": []
    }
  },
  "nbformat": 4,
  "nbformat_minor": 0
}