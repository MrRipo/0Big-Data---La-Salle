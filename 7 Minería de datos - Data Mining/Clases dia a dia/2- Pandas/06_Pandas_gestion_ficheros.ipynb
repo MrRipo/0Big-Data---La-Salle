{
  "cells": [
    {
      "cell_type": "markdown",
      "metadata": {
        "id": "Ok3Xz-kBboA4"
      },
      "source": [
        "# Pandas 4 - Lectura y escritura de ficheros\n",
        "- - -"
      ]
    },
    {
      "cell_type": "code",
      "execution_count": null,
      "metadata": {
        "id": "n7A-PT9yboA8"
      },
      "outputs": [],
      "source": [
        "import pandas as pd"
      ]
    },
    {
      "cell_type": "code",
      "source": [
        "from google.colab import drive\n",
        "drive.mount('/content/drive')"
      ],
      "metadata": {
        "id": "qYbi-agdsy7D"
      },
      "execution_count": null,
      "outputs": []
    },
    {
      "cell_type": "markdown",
      "metadata": {
        "id": "ds6yCNWCboA9"
      },
      "source": [
        "### Read & Write"
      ]
    },
    {
      "cell_type": "code",
      "execution_count": null,
      "metadata": {
        "id": "OqVL-KSrboA9"
      },
      "outputs": [],
      "source": [
        "mi_diccionario  = {\"Nombre\": [\"Alice\", \"Bob\", \"Eve\", \"Colin\", \"Peter\", \"Frank\", \"Julie\"],\n",
        "                   \"Edad\": [23, 38, 26, 30, 34, 23, 27],\n",
        "                   \"Altura\": [1.65, 1.71, 1.68, 1.73, 1.68, 1.77, 1.64], \n",
        "                   \"Peso\": [56, 65, 58, 68, 72, 64, 70]}"
      ]
    },
    {
      "cell_type": "code",
      "execution_count": null,
      "metadata": {
        "id": "BCxzozoFboA-"
      },
      "outputs": [],
      "source": [
        "df_original = pd.DataFrame(mi_diccionario)"
      ]
    },
    {
      "cell_type": "code",
      "execution_count": null,
      "metadata": {
        "scrolled": true,
        "id": "_VCXX470boA-"
      },
      "outputs": [],
      "source": [
        "df_original"
      ]
    },
    {
      "cell_type": "markdown",
      "metadata": {
        "id": "UEFizCNoboA_"
      },
      "source": [
        "### CSV"
      ]
    },
    {
      "cell_type": "markdown",
      "metadata": {
        "id": "OpybQ9wVboBA"
      },
      "source": [
        "- - -\n",
        "Un truco para conocer la ruta de nuestro notebook es aprovechar la posibilidad de ejecutar algunos comandos Bash sobre el propio notebook\n",
        "\n",
        "```\n",
        "pwd\n",
        "```\n",
        "- - -"
      ]
    },
    {
      "cell_type": "code",
      "source": [
        "pwd"
      ],
      "metadata": {
        "id": "SX-t3WLyMI9-"
      },
      "execution_count": null,
      "outputs": []
    },
    {
      "cell_type": "markdown",
      "metadata": {
        "id": "8Kt8vFHSboBB"
      },
      "source": [
        "Tened en cuenta que no se crea el directorio de destino. Por lo tanto, debéis crearlo previamente o usar uno existente."
      ]
    },
    {
      "cell_type": "code",
      "execution_count": null,
      "metadata": {
        "id": "47uRKsrxboBB"
      },
      "outputs": [],
      "source": [
        "df_original.to_csv(\"/content/drive/MyDrive/Mi_folder/ejemplo.csv\") "
      ]
    },
    {
      "cell_type": "markdown",
      "metadata": {
        "id": "kSTwG6JOboBC"
      },
      "source": [
        "Verifica las columnas del fichero generado en la unidad local leyendo el fichero"
      ]
    },
    {
      "cell_type": "code",
      "execution_count": null,
      "metadata": {
        "id": "4NK1EwyNboBC"
      },
      "outputs": [],
      "source": [
        "df = pd.read_csv(\"/content/drive/MyDrive/Mi_folder/ejemplo.csv\")"
      ]
    },
    {
      "cell_type": "code",
      "execution_count": null,
      "metadata": {
        "id": "pFWEE8NNboBD"
      },
      "outputs": [],
      "source": [
        "df"
      ]
    },
    {
      "cell_type": "markdown",
      "metadata": {
        "id": "oltgeeuEboBD"
      },
      "source": [
        "Una de varias alternativas para tratar con la columna extra:"
      ]
    },
    {
      "cell_type": "code",
      "execution_count": null,
      "metadata": {
        "id": "7mCoAc-sboBD"
      },
      "outputs": [],
      "source": [
        "df_original.to_csv(\"/content/drive/MyDrive/Mi_folder/ejemplo.csv\", index=False)"
      ]
    },
    {
      "cell_type": "code",
      "execution_count": null,
      "metadata": {
        "id": "LRNdA22gboBD"
      },
      "outputs": [],
      "source": [
        "df = pd.read_csv(\"/content/drive/MyDrive/Mi_folder/ejemplo.csv\")"
      ]
    },
    {
      "cell_type": "code",
      "execution_count": null,
      "metadata": {
        "id": "1D6p65AzboBE"
      },
      "outputs": [],
      "source": [
        "df"
      ]
    },
    {
      "cell_type": "markdown",
      "metadata": {
        "id": "zZILvi5DboBE"
      },
      "source": [
        "### TSV"
      ]
    },
    {
      "cell_type": "code",
      "execution_count": null,
      "metadata": {
        "id": "MuYxGEUpboBE"
      },
      "outputs": [],
      "source": [
        "df_original.to_csv(\"/content/drive/MyDrive/Mi_folder/ejemplo.tsv\", index=False, sep=\"\\t\")"
      ]
    },
    {
      "cell_type": "code",
      "execution_count": null,
      "metadata": {
        "id": "m7jrMIEmboBF"
      },
      "outputs": [],
      "source": [
        "#Si no ponemos el argumento separador correcto, no va a leerlo bien.\n",
        "df = pd.read_csv(\"/content/drive/MyDrive/Mi_folder/ejemplo.tsv\")"
      ]
    },
    {
      "cell_type": "code",
      "execution_count": null,
      "metadata": {
        "id": "6-ePulgCboBF"
      },
      "outputs": [],
      "source": [
        "df"
      ]
    },
    {
      "cell_type": "code",
      "execution_count": null,
      "metadata": {
        "id": "v9PpqqwYboBF"
      },
      "outputs": [],
      "source": [
        "df = pd.read_csv(\"/content/drive/MyDrive/Mi_folder/ejemplo.tsv\", sep=\"\\t\")"
      ]
    },
    {
      "cell_type": "code",
      "execution_count": null,
      "metadata": {
        "id": "46Hpa0MzboBF"
      },
      "outputs": [],
      "source": [
        "df"
      ]
    },
    {
      "cell_type": "markdown",
      "metadata": {
        "id": "cyH7Oqq_boBG"
      },
      "source": [
        "### Excel"
      ]
    },
    {
      "cell_type": "code",
      "execution_count": null,
      "metadata": {
        "id": "tyRdsA4MboBG"
      },
      "outputs": [],
      "source": [
        "df_original.to_excel(\"/content/drive/MyDrive/Mi_folder/ejemplo.xlsx\", index=False, sheet_name=\"Hoja1\")"
      ]
    },
    {
      "cell_type": "code",
      "execution_count": null,
      "metadata": {
        "id": "dVaOIfQgboBG"
      },
      "outputs": [],
      "source": [
        "df = pd.read_excel(\"/content/drive/MyDrive/Mi_folder/ejemplo.xlsx\", sheet_name='Hoja1')"
      ]
    },
    {
      "cell_type": "code",
      "execution_count": null,
      "metadata": {
        "id": "V_UQtvTeboBG"
      },
      "outputs": [],
      "source": [
        "df"
      ]
    },
    {
      "cell_type": "markdown",
      "metadata": {
        "id": "JWQmmlhuboBH"
      },
      "source": [
        "### Extra: HTML"
      ]
    },
    {
      "cell_type": "code",
      "execution_count": null,
      "metadata": {
        "id": "7dmpznLzboBH"
      },
      "outputs": [],
      "source": [
        "# Usualmente se requiere tener instalado (lxml, html5lib, BeautifulSoup4)"
      ]
    },
    {
      "cell_type": "code",
      "execution_count": null,
      "metadata": {
        "id": "T21YlNqsboBH"
      },
      "outputs": [],
      "source": [
        "df_original.to_html(\"/content/drive/MyDrive/Mi_folder/ejemplo.html\", index=False)"
      ]
    },
    {
      "cell_type": "code",
      "execution_count": null,
      "metadata": {
        "id": "wNLyYGsRboBH"
      },
      "outputs": [],
      "source": [
        "html = pd.read_html(\"/content/drive/MyDrive/Mi_folder/ejemplo.html\")"
      ]
    },
    {
      "cell_type": "code",
      "execution_count": null,
      "metadata": {
        "id": "8QZNOKTbboBH"
      },
      "outputs": [],
      "source": [
        "html"
      ]
    },
    {
      "cell_type": "code",
      "execution_count": null,
      "metadata": {
        "id": "amHwVLOEboBI"
      },
      "outputs": [],
      "source": [
        "type(html)"
      ]
    },
    {
      "cell_type": "code",
      "execution_count": null,
      "metadata": {
        "id": "3wvhEyeuboBI"
      },
      "outputs": [],
      "source": [
        "len(html)"
      ]
    },
    {
      "cell_type": "code",
      "execution_count": null,
      "metadata": {
        "id": "90Rf8Zp0boBI"
      },
      "outputs": [],
      "source": [
        "html[0]"
      ]
    },
    {
      "cell_type": "code",
      "execution_count": null,
      "metadata": {
        "id": "Ncum913lboBI"
      },
      "outputs": [],
      "source": [
        "type(html[0])"
      ]
    },
    {
      "cell_type": "code",
      "execution_count": null,
      "metadata": {
        "id": "NAAe7IViboBI"
      },
      "outputs": [],
      "source": [
        "df = html[0]"
      ]
    },
    {
      "cell_type": "code",
      "execution_count": null,
      "metadata": {
        "id": "vxJId-XAboBI"
      },
      "outputs": [],
      "source": [
        "df"
      ]
    },
    {
      "cell_type": "markdown",
      "metadata": {
        "id": "cWgbCp5gboBJ"
      },
      "source": [
        "#### Desde una URL"
      ]
    },
    {
      "cell_type": "code",
      "execution_count": null,
      "metadata": {
        "id": "wBZDnFxlboBJ"
      },
      "outputs": [],
      "source": [
        "wikipedia = pd.read_html(\"https://es.wikipedia.org/wiki/Wikipedia\")"
      ]
    },
    {
      "cell_type": "markdown",
      "metadata": {
        "id": "a7Vxd9VTboBJ"
      },
      "source": [
        "Buscaremos extraer la tabla de \"mayores categorías de artículos en la Wikipedia en inglés\""
      ]
    },
    {
      "cell_type": "code",
      "execution_count": null,
      "metadata": {
        "id": "oVqscQkzboBJ"
      },
      "outputs": [],
      "source": [
        "wikipedia"
      ]
    },
    {
      "cell_type": "code",
      "execution_count": null,
      "metadata": {
        "id": "4tZ82euzboBJ"
      },
      "outputs": [],
      "source": [
        "len(wikipedia)"
      ]
    },
    {
      "cell_type": "code",
      "execution_count": null,
      "metadata": {
        "id": "05ZwUOh7boBJ"
      },
      "outputs": [],
      "source": [
        "wikipedia[3]"
      ]
    },
    {
      "cell_type": "code",
      "execution_count": null,
      "metadata": {
        "id": "I9_iArTfboBK"
      },
      "outputs": [],
      "source": [
        "df_wiki = wikipedia[3]"
      ]
    },
    {
      "cell_type": "code",
      "execution_count": null,
      "metadata": {
        "id": "G6JRYR-pboBK"
      },
      "outputs": [],
      "source": [
        "df_wiki.to_html(\"/content/drive/MyDrive/Mi_folder/wiki.html\", index=False)"
      ]
    },
    {
      "cell_type": "markdown",
      "metadata": {
        "id": "GKOpth_DboBK"
      },
      "source": [
        "- - -\n",
        "Más información de Beatiful Soup:\n",
        "https://www.crummy.com/software/BeautifulSoup/\n",
        "- - -"
      ]
    }
  ],
  "metadata": {
    "kernelspec": {
      "display_name": "Python 3",
      "language": "python",
      "name": "python3"
    },
    "language_info": {
      "codemirror_mode": {
        "name": "ipython",
        "version": 3
      },
      "file_extension": ".py",
      "mimetype": "text/x-python",
      "name": "python",
      "nbconvert_exporter": "python",
      "pygments_lexer": "ipython3",
      "version": "3.8.5"
    },
    "colab": {
      "provenance": []
    }
  },
  "nbformat": 4,
  "nbformat_minor": 0
}