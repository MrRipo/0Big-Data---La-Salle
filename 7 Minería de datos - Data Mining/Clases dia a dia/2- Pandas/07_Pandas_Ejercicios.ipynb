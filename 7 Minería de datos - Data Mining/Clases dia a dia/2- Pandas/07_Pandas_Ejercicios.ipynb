{
  "cells": [
    {
      "cell_type": "markdown",
      "metadata": {
        "id": "E-j9_2GOcCaf"
      },
      "source": [
        "# Pandas - Ejercicios dataset Titanic\n",
        "\n",
        "\n",
        "\n",
        "- - -"
      ]
    },
    {
      "cell_type": "code",
      "execution_count": null,
      "metadata": {
        "id": "5JhfRP0BcCak"
      },
      "outputs": [],
      "source": [
        "import pandas as pd"
      ]
    },
    {
      "cell_type": "code",
      "execution_count": null,
      "metadata": {
        "id": "gF_krwnycCam"
      },
      "outputs": [],
      "source": [
        "df = pd.read_csv(\"https://raw.githubusercontent.com/4data-lab/datasets/master/titanic.csv\")"
      ]
    },
    {
      "cell_type": "markdown",
      "metadata": {
        "id": "_77s3_uUcCan"
      },
      "source": [
        "#### Columnas\n",
        "survived (Sobrevivió)  \n",
        "pclass (Clase de números)  \n",
        "sex (Sexo)  \n",
        "age (Edad)  \n",
        "sibsp (Número de hermanos/cónyuges abordo)  \n",
        "parch (Número de padres/hijos)   \n",
        "fare (Tarifa)  \n",
        "embarked (Embarcado)  \n",
        "class (Clase en texto)  \n",
        "adult_male (Hombre Adulto)  \n",
        "deck (Cubierta)  \n",
        "embark_town (Pueblo de embarcación)  \n",
        "alive (Vivo)  \n",
        "alone (Solo)\n"
      ]
    },
    {
      "cell_type": "markdown",
      "metadata": {
        "id": "pqNQmH2pcCao"
      },
      "source": [
        "- - -\n",
        "1 - Muestra solo los primeros 5 registros"
      ]
    },
    {
      "cell_type": "code",
      "execution_count": null,
      "metadata": {
        "id": "ZycKsztIcCao"
      },
      "outputs": [],
      "source": []
    },
    {
      "cell_type": "markdown",
      "metadata": {
        "id": "znL8XuLucCap"
      },
      "source": [
        "- - -\n",
        "2 - Obtén cuales son las distintas clases de viaje de este dataframe\n",
        "\n",
        "`array(['Third', 'First', 'Second'], dtype=object)`"
      ]
    },
    {
      "cell_type": "code",
      "execution_count": null,
      "metadata": {
        "id": "pV0MUnHJcCaq"
      },
      "outputs": [],
      "source": []
    },
    {
      "cell_type": "markdown",
      "metadata": {
        "id": "nghH8e26cCar"
      },
      "source": [
        "- - -\n",
        "3 - Obten el valor máximo de edad en el dataframe\n",
        "\n",
        "`Out: 80.0`"
      ]
    },
    {
      "cell_type": "code",
      "execution_count": null,
      "metadata": {
        "id": "e98wthHbcCar"
      },
      "outputs": [],
      "source": []
    },
    {
      "cell_type": "markdown",
      "metadata": {
        "id": "V5BNjtRicCas"
      },
      "source": [
        "- - -\n",
        "4 - Obten cúantos valores distintos hay en la columna de Pueblo de embarcación\n",
        "\n",
        "`Out: 3`"
      ]
    },
    {
      "cell_type": "code",
      "execution_count": null,
      "metadata": {
        "id": "qT6XJj_9cCas"
      },
      "outputs": [],
      "source": []
    },
    {
      "cell_type": "markdown",
      "metadata": {
        "id": "ZBzpwsCicCat"
      },
      "source": [
        "- - -\n",
        "5 - Muestra solo las primeras cinco edades más frencuentes\n",
        "\n",
        "`Out:\n",
        "24.0    30\n",
        "22.0    27\n",
        "18.0    26\n",
        "19.0    25\n",
        "30.0    25\n",
        "Name: age, dtype: int64`"
      ]
    },
    {
      "cell_type": "code",
      "execution_count": null,
      "metadata": {
        "id": "8kQ_c1q_cCat"
      },
      "outputs": [],
      "source": []
    },
    {
      "cell_type": "markdown",
      "metadata": {
        "id": "zABNFaKrcCat"
      },
      "source": [
        "- - -\n",
        "6 - Muestra los registros que cumplan la condición de disponer el valor de cubierta (\"deck\") \"F\""
      ]
    },
    {
      "cell_type": "code",
      "execution_count": null,
      "metadata": {
        "id": "QlYS1p4ocCat"
      },
      "outputs": [],
      "source": []
    },
    {
      "cell_type": "markdown",
      "metadata": {
        "id": "jqcq0HH8cCau"
      },
      "source": [
        "- - -\n",
        "7 - Muestra los registros que cumplan la condición de disponer más de 47 años y menos de 49 años"
      ]
    },
    {
      "cell_type": "code",
      "execution_count": null,
      "metadata": {
        "id": "Imde9mo3cCau"
      },
      "outputs": [],
      "source": []
    },
    {
      "cell_type": "markdown",
      "metadata": {
        "id": "BAPYqXNacCau"
      },
      "source": [
        "- - -\n",
        "8 - Obten los nombres de los pueblos de embarcación de los pasajeros de la cubierta \"A\"\n",
        "\n",
        "`Out: \n",
        "23     Southampton\n",
        "96       Cherbourg\n",
        "174      Cherbourg\n",
        "185    Southampton\n",
        "209      Cherbourg\n",
        "284    Southampton\n",
        "445    Southampton\n",
        "475    Southampton\n",
        "556      Cherbourg\n",
        "583      Cherbourg\n",
        "599      Cherbourg\n",
        "630    Southampton\n",
        "647      Cherbourg\n",
        "806    Southampton\n",
        "867    Southampton\n",
        "Name: embark_town, dtype: object`"
      ]
    },
    {
      "cell_type": "code",
      "execution_count": null,
      "metadata": {
        "id": "lcP420Y2cCau"
      },
      "outputs": [],
      "source": []
    },
    {
      "cell_type": "markdown",
      "source": [
        "- - - "
      ],
      "metadata": {
        "id": "uuT-Hj5fBkTZ"
      }
    },
    {
      "cell_type": "markdown",
      "metadata": {
        "id": "M3npKqwLcCav"
      },
      "source": [
        "9 - Muestra la media de los valores del dataframe agrupando por sexo"
      ]
    },
    {
      "cell_type": "code",
      "execution_count": null,
      "metadata": {
        "id": "3DEQSsOvcCav"
      },
      "outputs": [],
      "source": []
    },
    {
      "cell_type": "markdown",
      "metadata": {
        "id": "WJw0mlI1cCav"
      },
      "source": [
        "- - -\n",
        "10 - Define una función que capitalice strings y con pandas aplicala a la columna sexo\n",
        "\n",
        "`Entrada : hola mundo`\n",
        "`Salida: Hola mundo`\n",
        "`Pista: capitalize()`"
      ]
    },
    {
      "cell_type": "code",
      "execution_count": null,
      "metadata": {
        "id": "8cfs-gXrcCav"
      },
      "outputs": [],
      "source": []
    },
    {
      "cell_type": "markdown",
      "source": [
        "11 - Reemplaza todos los NaN de la columna deck por la palabra 'Unknown'"
      ],
      "metadata": {
        "id": "b8oUs9_h4edl"
      }
    },
    {
      "cell_type": "code",
      "source": [],
      "metadata": {
        "id": "8JKfmcJ24dnp"
      },
      "execution_count": null,
      "outputs": []
    },
    {
      "cell_type": "markdown",
      "source": [
        "12 - ¿Cuál es el precio promedio del billete que pagaron los pasajeros por cada clase (primera, segunda, tercera)?\n",
        "\n",
        "`Out: First     84.154687\n",
        "Second    20.662183\n",
        "Third     13.675550 `"
      ],
      "metadata": {
        "id": "5H7XakdX6aFS"
      }
    },
    {
      "cell_type": "markdown",
      "source": [
        "- - -"
      ],
      "metadata": {
        "id": "zNSyro3ABoR9"
      }
    },
    {
      "cell_type": "markdown",
      "source": [
        "13 - ¿Cuántos supervivientes están todavía vivos?\n",
        "\n",
        "\n",
        " `Out: 342`"
      ],
      "metadata": {
        "id": "A4MiEVn74WI1"
      }
    },
    {
      "cell_type": "code",
      "source": [],
      "metadata": {
        "id": "zDL6dI1A6ciX"
      },
      "execution_count": null,
      "outputs": []
    },
    {
      "cell_type": "markdown",
      "source": [
        "- - - "
      ],
      "metadata": {
        "id": "RgeAyxdLBq2Q"
      }
    },
    {
      "cell_type": "markdown",
      "source": [
        "14 - ¿Cuál fue el precio del billete de segunda clase más caro? ¿Y el más barato?\n",
        "\n",
        "\n",
        "`Out : Caro: 73.5 Barato: 0.0 `"
      ],
      "metadata": {
        "id": "0c5BvZxKCy7S"
      }
    },
    {
      "cell_type": "code",
      "source": [],
      "metadata": {
        "id": "9cJBQV3rqcxo"
      },
      "execution_count": null,
      "outputs": []
    },
    {
      "cell_type": "markdown",
      "source": [
        "- - - "
      ],
      "metadata": {
        "id": "Rg4GCKhkBtmc"
      }
    },
    {
      "cell_type": "markdown",
      "source": [
        "15- Elimina el tercer registro del dataframe"
      ],
      "metadata": {
        "id": "S33MaL8eJ2XM"
      }
    },
    {
      "cell_type": "code",
      "source": [],
      "metadata": {
        "id": "miUA3Vx4J1qM"
      },
      "execution_count": null,
      "outputs": []
    },
    {
      "cell_type": "markdown",
      "source": [
        "- - - "
      ],
      "metadata": {
        "id": "zvXsVdk5Bvx8"
      }
    },
    {
      "cell_type": "markdown",
      "source": [
        "16- Añade un nuevo registro al dataframe de un hombre que embarcó desde el puerto de Barcelona. Puedes inventarte el resto de campos."
      ],
      "metadata": {
        "id": "uydMKhfgKdeI"
      }
    },
    {
      "cell_type": "code",
      "source": [],
      "metadata": {
        "id": "5csg-0WDKeSp"
      },
      "execution_count": null,
      "outputs": []
    },
    {
      "cell_type": "markdown",
      "source": [
        "- - - "
      ],
      "metadata": {
        "id": "v0oPTlvWBxUO"
      }
    },
    {
      "cell_type": "markdown",
      "source": [
        "17- Ordena el dataframe según la edad de los registros."
      ],
      "metadata": {
        "id": "c6PR1Ws9KjH9"
      }
    },
    {
      "cell_type": "code",
      "source": [],
      "metadata": {
        "id": "JrizDbqVNlUF"
      },
      "execution_count": null,
      "outputs": []
    },
    {
      "cell_type": "markdown",
      "source": [
        "18 - Guarda el dataframe como un fichero de Excel."
      ],
      "metadata": {
        "id": "T8lxXh8YNmRn"
      }
    },
    {
      "cell_type": "code",
      "source": [],
      "metadata": {
        "id": "icaMm1XnNqZq"
      },
      "execution_count": null,
      "outputs": []
    },
    {
      "cell_type": "markdown",
      "metadata": {
        "id": "1cqGrmvwcCav"
      },
      "source": [
        "- - -"
      ]
    },
    {
      "cell_type": "markdown",
      "source": [
        "# Pandas - Ejercicios dataset Youtube"
      ],
      "metadata": {
        "id": "TeKypZFftFQE"
      }
    },
    {
      "cell_type": "markdown",
      "source": [
        "1- Descárgate el dataset de YouTube del eStudy y cárgalo en un DataFrame."
      ],
      "metadata": {
        "id": "9hGIZK9Um011"
      }
    },
    {
      "cell_type": "code",
      "source": [],
      "metadata": {
        "id": "eaEmVeVqrX1f"
      },
      "execution_count": null,
      "outputs": []
    },
    {
      "cell_type": "markdown",
      "source": [
        "2- Muestra los 3 primeros registros."
      ],
      "metadata": {
        "id": "Tr3lqEqsnSl2"
      }
    },
    {
      "cell_type": "code",
      "source": [],
      "metadata": {
        "id": "NtFJXed_rYWm"
      },
      "execution_count": null,
      "outputs": []
    },
    {
      "cell_type": "markdown",
      "source": [
        "3- ¿Cuál es el promedio de suscriptores que tiene cada canal?"
      ],
      "metadata": {
        "id": "ng8CnnkKnnhj"
      }
    },
    {
      "cell_type": "code",
      "source": [],
      "metadata": {
        "id": "duD_3xYKrY9k"
      },
      "execution_count": null,
      "outputs": []
    },
    {
      "cell_type": "markdown",
      "source": [
        "4- ¿Qué canal tiene el nombre más largo?"
      ],
      "metadata": {
        "id": "8fF-2qmPntID"
      }
    },
    {
      "cell_type": "code",
      "source": [],
      "metadata": {
        "id": "INVodc4PrZg8"
      },
      "execution_count": null,
      "outputs": []
    },
    {
      "cell_type": "markdown",
      "source": [
        "5- ¿Qué porcentaje de canales son de marcas?"
      ],
      "metadata": {
        "id": "GaHh2qzOoKgk"
      }
    },
    {
      "cell_type": "code",
      "source": [],
      "metadata": {
        "id": "ESg-cXKTraKt"
      },
      "execution_count": null,
      "outputs": []
    },
    {
      "cell_type": "markdown",
      "source": [
        "6- ¿Cuál es la categoría menos popular? ¿Y la más popular?"
      ],
      "metadata": {
        "id": "8uO3Mv4MoNh0"
      }
    },
    {
      "cell_type": "code",
      "source": [],
      "metadata": {
        "id": "64pB2z6hrcaw"
      },
      "execution_count": null,
      "outputs": []
    },
    {
      "cell_type": "markdown",
      "source": [
        "7- ¿Cuántos canales Educativos tienen el Inglés como lengua principal?"
      ],
      "metadata": {
        "id": "V8GOJoMCodZj"
      }
    },
    {
      "cell_type": "code",
      "source": [],
      "metadata": {
        "id": "Qq0OioDzrc_G"
      },
      "execution_count": null,
      "outputs": []
    },
    {
      "cell_type": "markdown",
      "source": [
        "8- Crea una nueva columna en el dataset con el continente de cada canal."
      ],
      "metadata": {
        "id": "eBj74Hlaotmz"
      }
    },
    {
      "cell_type": "code",
      "source": [],
      "metadata": {
        "id": "vwUMpuuardbd"
      },
      "execution_count": null,
      "outputs": []
    },
    {
      "cell_type": "markdown",
      "source": [
        "9- Enumera el promedio de suscriptores por continente."
      ],
      "metadata": {
        "id": "xfznG9nnpOXr"
      }
    },
    {
      "cell_type": "code",
      "source": [],
      "metadata": {
        "id": "yoKXssgwreAl"
      },
      "execution_count": null,
      "outputs": []
    },
    {
      "cell_type": "markdown",
      "source": [
        "10- Crea un DataFrame independiente con la información de los canales de YouTube de Lady Gaga y La Salle Campus Barcelona que tenga como datos el nombre del canal, los suscriptores y la categoría."
      ],
      "metadata": {
        "id": "oPw0Glezp84C"
      }
    },
    {
      "cell_type": "code",
      "source": [],
      "metadata": {
        "id": "rbKkkn1JreVF"
      },
      "execution_count": null,
      "outputs": []
    },
    {
      "cell_type": "markdown",
      "source": [
        "11- Une el DataFrame creado en el punto 10 con el DataFrame original en un nuevo DataFrame."
      ],
      "metadata": {
        "id": "0LGhrDRUqSXQ"
      }
    },
    {
      "cell_type": "code",
      "source": [],
      "metadata": {
        "id": "WqhOjEhRre5V"
      },
      "execution_count": null,
      "outputs": []
    },
    {
      "cell_type": "markdown",
      "source": [
        "12 - Modifica los nombres de los canales para que no haya espacio en ellos. Para ello, reemplaza todos los espacios por el carácter \"_\". "
      ],
      "metadata": {
        "id": "pl03K781rirl"
      }
    },
    {
      "cell_type": "code",
      "source": [],
      "metadata": {
        "id": "T01uR7tnriUV"
      },
      "execution_count": null,
      "outputs": []
    }
  ],
  "metadata": {
    "kernelspec": {
      "display_name": "Python 3",
      "language": "python",
      "name": "python3"
    },
    "language_info": {
      "codemirror_mode": {
        "name": "ipython",
        "version": 3
      },
      "file_extension": ".py",
      "mimetype": "text/x-python",
      "name": "python",
      "nbconvert_exporter": "python",
      "pygments_lexer": "ipython3",
      "version": "3.8.5"
    },
    "colab": {
      "provenance": []
    }
  },
  "nbformat": 4,
  "nbformat_minor": 0
}