{
  "cells": [
    {
      "cell_type": "markdown",
      "metadata": {
        "id": "yTNXhkAKXLA-"
      },
      "source": [
        "# Scikit Learn - Pre-procesado de datos"
      ]
    },
    {
      "cell_type": "markdown",
      "metadata": {
        "id": "jdkgcfqGXLBC"
      },
      "source": [
        "- - -"
      ]
    },
    {
      "cell_type": "markdown",
      "metadata": {
        "id": "t7ZqOq9bXLBD"
      },
      "source": [
        "Para esta ocación trabajaremos con un dataset que es un subconjunto creado por Barry Becker a partir de la base de datos del censo de 1994."
      ]
    },
    {
      "cell_type": "markdown",
      "metadata": {
        "id": "UOnWTvroXLBE"
      },
      "source": [
        "- - -\n",
        "+ age\n",
        "+ workclass\n",
        "+ fnlwgt\n",
        "+ education\n",
        "+ education-num\n",
        "+ marital-status\n",
        "+ occupation\n",
        "+ relationship\n",
        "+ race\n",
        "+ sex\n",
        "+ capital-gain\n",
        "+ capital-loss\n",
        "+ hours-per-week\n",
        "+ native-country\n",
        "\n",
        "\n",
        "+ income\n",
        "\n",
        "\"fnlwgt es número de unidades en la población objetivo que representa la fila del dataset\"\n",
        "- - -"
      ]
    },
    {
      "cell_type": "code",
      "execution_count": null,
      "metadata": {
        "id": "MelTPyyMXLBF"
      },
      "outputs": [],
      "source": [
        "import pandas as pd"
      ]
    },
    {
      "cell_type": "code",
      "execution_count": null,
      "metadata": {
        "id": "S5i8l8fUXLBG"
      },
      "outputs": [],
      "source": [
        "import warnings\n",
        "warnings.filterwarnings(action=\"ignore\")"
      ]
    },
    {
      "cell_type": "code",
      "execution_count": null,
      "metadata": {
        "id": "oyK4S2yMXLBH"
      },
      "outputs": [],
      "source": [
        "censo = pd.read_csv(\"https://raw.githubusercontent.com/4data-lab/datasets/master/adult.csv\")"
      ]
    },
    {
      "cell_type": "code",
      "execution_count": null,
      "metadata": {
        "id": "xI6EARlqXLBK"
      },
      "outputs": [],
      "source": [
        "censo.head()"
      ]
    },
    {
      "cell_type": "markdown",
      "metadata": {
        "id": "ol2hK7ItXLBL"
      },
      "source": [
        "- - -"
      ]
    },
    {
      "cell_type": "code",
      "execution_count": null,
      "metadata": {
        "id": "XyIThAp0XLBM"
      },
      "outputs": [],
      "source": [
        "columns_list = [\"age\", \"workclass\", \"fnlwgt\", \"education\", \"education-num\", \n",
        "           \"marital-status\", \"occupation\", \"relationship\", \"race\", \"sex\", \n",
        "           \"capital-gain\", \"capital-loss\", \"hours-per-week\", \"native-country\", \"income\"]"
      ]
    },
    {
      "cell_type": "code",
      "execution_count": null,
      "metadata": {
        "id": "xO-Kj93AXLBM"
      },
      "outputs": [],
      "source": [
        "censo = pd.read_csv(\"https://raw.githubusercontent.com/4data-lab/datasets/master/adult.csv\", header=None, names=columns_list)"
      ]
    },
    {
      "cell_type": "code",
      "execution_count": null,
      "metadata": {
        "id": "h2e2AHIIXLBN"
      },
      "outputs": [],
      "source": [
        "censo.head()"
      ]
    },
    {
      "cell_type": "code",
      "execution_count": null,
      "metadata": {
        "id": "PDpkx_SkXLBN"
      },
      "outputs": [],
      "source": [
        "censo.shape"
      ]
    },
    {
      "cell_type": "markdown",
      "metadata": {
        "id": "yVYmUMYUXLBO"
      },
      "source": [
        "- - -"
      ]
    },
    {
      "cell_type": "code",
      "execution_count": null,
      "metadata": {
        "id": "dFMLjzpcXLBO"
      },
      "outputs": [],
      "source": [
        "print(\"Edad máxima del dataset: \"+ str(censo[\"age\"].max()))"
      ]
    },
    {
      "cell_type": "code",
      "execution_count": null,
      "metadata": {
        "id": "XAUkqWicXLBO"
      },
      "outputs": [],
      "source": [
        "print(\"Edad mínima del dataset: \"+ str(censo[\"age\"].min()))"
      ]
    },
    {
      "cell_type": "markdown",
      "metadata": {
        "id": "fctmidFsXLBO"
      },
      "source": [
        "- - -"
      ]
    },
    {
      "cell_type": "markdown",
      "metadata": {
        "id": "PI_8ecjHXLBP"
      },
      "source": [
        "### Outliers\n",
        "\n",
        "<img src=https://i.ibb.co/T8pTYm0/01.png width=\"250\">\n",
        "\n",
        "- - -"
      ]
    },
    {
      "cell_type": "code",
      "execution_count": null,
      "metadata": {
        "id": "396XFs7TXLBP"
      },
      "outputs": [],
      "source": [
        "import matplotlib.pyplot as plt"
      ]
    },
    {
      "cell_type": "code",
      "execution_count": null,
      "metadata": {
        "id": "tTBUNYFJXLBP"
      },
      "outputs": [],
      "source": [
        "import seaborn as sns"
      ]
    },
    {
      "cell_type": "code",
      "execution_count": null,
      "metadata": {
        "id": "7k2PfX01XLBQ"
      },
      "outputs": [],
      "source": [
        "#¿Hay outliers en la edad del dataset?\n",
        "sns.boxplot(x=censo[\"age\"])"
      ]
    },
    {
      "cell_type": "code",
      "execution_count": null,
      "metadata": {
        "id": "Lu2JwIBgXLBQ"
      },
      "outputs": [],
      "source": [
        "plt.figure(figsize=(20,3))\n",
        "plt.xticks(range(0,100))\n",
        "sns.boxplot(x=censo[\"age\"])\n",
        "plt.show()"
      ]
    },
    {
      "cell_type": "markdown",
      "metadata": {
        "id": "2M54iXi_XLBQ"
      },
      "source": [
        "- - -\n",
        "En el gráfico de boxplot podemos apreciar el valor mínimo (17) y el valor máximo (90)\n",
        "- - -"
      ]
    },
    {
      "cell_type": "markdown",
      "metadata": {
        "id": "NjVmxkBlXLBR"
      },
      "source": [
        "- - -\n",
        "Recordad, ¿cómo podemos averiguar cuáles son los cortes para determinar un outlier?\n",
        "\n",
        "    corte inferior = primer cuartil - (rango intercuartil * 1.5)\n",
        "\n",
        "    corte superior = tercer cuartil + (rango intercuartil * 1.5)\n",
        "- - -"
      ]
    },
    {
      "cell_type": "markdown",
      "metadata": {
        "id": "6dYJe7W5XLBR"
      },
      "source": [
        "<img src=https://i.ibb.co/Kb5RJbv/02.png width=\"700\">"
      ]
    },
    {
      "cell_type": "markdown",
      "metadata": {
        "id": "5U9OuJFHXLBR"
      },
      "source": [
        "- - -"
      ]
    },
    {
      "cell_type": "code",
      "execution_count": null,
      "metadata": {
        "id": "lx3j1LGDXLBR"
      },
      "outputs": [],
      "source": [
        "Q1 = censo[\"age\"].quantile(0.25)\n",
        "print(Q1)\n",
        "#También se podría haber calculado con numpy de la siguiente manera:\n",
        "\n",
        "#import numpy as np\n",
        "#q1 = np.percentile(censo[\"age\"], 25)"
      ]
    },
    {
      "cell_type": "markdown",
      "metadata": {
        "id": "DUMyQyBsXLBS"
      },
      "source": [
        "- - -"
      ]
    },
    {
      "cell_type": "code",
      "execution_count": null,
      "metadata": {
        "id": "9K2C5qNUXLBS"
      },
      "outputs": [],
      "source": [
        "Q3 = censo[\"age\"].quantile(0.75)\n",
        "print(Q3)\n",
        "#También se podría haber calculado con numpy de la siguiente manera:\n",
        "\n",
        "#import numpy as np\n",
        "#q3 = np.percentile(censo[\"age\"], 75)"
      ]
    },
    {
      "cell_type": "markdown",
      "metadata": {
        "id": "ap1qAVceXLBS"
      },
      "source": [
        "- - -"
      ]
    },
    {
      "cell_type": "markdown",
      "metadata": {
        "id": "ANDPWuvhXLBT"
      },
      "source": [
        "<img src=https://i.ibb.co/tqzbQsW/03.gif width=\"250\">"
      ]
    },
    {
      "cell_type": "markdown",
      "metadata": {
        "id": "p15tTC7CXLBT"
      },
      "source": [
        "- - -"
      ]
    },
    {
      "cell_type": "markdown",
      "metadata": {
        "id": "ujNACpvQXLBT"
      },
      "source": [
        "Recordad que el rango intercuartil es Q3 - Q1"
      ]
    },
    {
      "cell_type": "code",
      "execution_count": null,
      "metadata": {
        "id": "H-x0dQK8XLBT"
      },
      "outputs": [],
      "source": [
        "IQR = Q3 - Q1\n",
        "print(IQR)"
      ]
    },
    {
      "cell_type": "code",
      "execution_count": null,
      "metadata": {
        "id": "rsdT7I7rXLBT"
      },
      "outputs": [],
      "source": [
        "corte_inferior = Q1 - (IQR * 1.5)\n",
        "corte_superior = Q3 + (IQR * 1.5)"
      ]
    },
    {
      "cell_type": "code",
      "execution_count": null,
      "metadata": {
        "id": "6Al58ai7XLBT"
      },
      "outputs": [],
      "source": [
        "corte_inferior"
      ]
    },
    {
      "cell_type": "code",
      "execution_count": null,
      "metadata": {
        "id": "ySgf21zwXLBU"
      },
      "outputs": [],
      "source": [
        "corte_superior"
      ]
    },
    {
      "cell_type": "markdown",
      "metadata": {
        "id": "8ifbJor3XLBU"
      },
      "source": [
        "- - -\n",
        "Nuestro datos contienen valores mayores a 78, pero no disponen de valores menores que -2.\n",
        "\n",
        "En el supueso caso que quisieramos aplicar dichos cortes a nuestro dataset podria hacerlo de la siguiente manera\n",
        "- - -"
      ]
    },
    {
      "cell_type": "code",
      "execution_count": null,
      "metadata": {
        "id": "i3m4hDCBXLBU"
      },
      "outputs": [],
      "source": [
        "censo_filtrado = censo[(censo[\"age\"] >= -2) & (censo[\"age\"] <= 78)]"
      ]
    },
    {
      "cell_type": "code",
      "execution_count": null,
      "metadata": {
        "id": "Hye_ch-0XLBU"
      },
      "outputs": [],
      "source": [
        "censo_filtrado.head()"
      ]
    },
    {
      "cell_type": "markdown",
      "metadata": {
        "id": "JrlZj7VLXLBU"
      },
      "source": [
        "Otras opciones podrían ser: no eliminar estos valores atípicos, eliminarlos con un criterio del ámbito o negocio, etc.\n",
        "\n",
        "Por ejemplo, en EEUU la edad mínima para poder trabajar con todos los derechos es 18 años.\n",
        "\n",
        "La edad para obtener una jubilación completa es a los 67 años."
      ]
    },
    {
      "cell_type": "markdown",
      "metadata": {
        "id": "saPgbZjmXLBV"
      },
      "source": [
        "- - -"
      ]
    },
    {
      "cell_type": "code",
      "execution_count": null,
      "metadata": {
        "id": "iDv_1YThXLBV"
      },
      "outputs": [],
      "source": [
        "#¿Qué tipo de income posible hay en el dataset?\n",
        "censo[\"income\"].value_counts()"
      ]
    },
    {
      "cell_type": "code",
      "execution_count": null,
      "metadata": {
        "id": "mfdLlegfXLBV"
      },
      "outputs": [],
      "source": [
        "#Vamos a ver cuánta gente cobra más de 50k\n",
        "censo[censo[\"income\"] == \">50K\"]"
      ]
    },
    {
      "cell_type": "markdown",
      "metadata": {
        "id": "9GzADqi0XLBV"
      },
      "source": [
        "- - -"
      ]
    },
    {
      "cell_type": "code",
      "execution_count": null,
      "metadata": {
        "id": "galQdpLIXLBV"
      },
      "outputs": [],
      "source": [
        "#Vaya, el resultado anterior no ha proporcionado ningún valor. ¿Qué ha sucedido?\n",
        "censo[\"income\"][0] #Vemos que hay un espacio indeseado"
      ]
    },
    {
      "cell_type": "code",
      "execution_count": null,
      "metadata": {
        "id": "n9iv7AdvXLBV"
      },
      "outputs": [],
      "source": [
        "censo[\"income\"][7]"
      ]
    },
    {
      "cell_type": "markdown",
      "metadata": {
        "id": "HO6jvBjgXLBW"
      },
      "source": [
        "- - -"
      ]
    },
    {
      "cell_type": "code",
      "execution_count": null,
      "metadata": {
        "id": "nQsRB8JMXLBW"
      },
      "outputs": [],
      "source": [
        "#recordad que con .columns podemos ver las columnas del dataset\n",
        "censo.columns"
      ]
    },
    {
      "cell_type": "code",
      "execution_count": null,
      "metadata": {
        "id": "-e_aYycIXLBW"
      },
      "outputs": [],
      "source": [
        "#printemos una instancia de cada columna para ver dónde hay espacios\n",
        "for i in censo.columns:\n",
        "    #Vamos a ver la primera fila campo a campo\n",
        "    print(censo[i][0])"
      ]
    },
    {
      "cell_type": "markdown",
      "metadata": {
        "id": "D8Gdipm_XLBW"
      },
      "source": [
        "- - -"
      ]
    },
    {
      "cell_type": "code",
      "execution_count": null,
      "metadata": {
        "scrolled": true,
        "id": "6qnYT3WDXLBW"
      },
      "outputs": [],
      "source": [
        "censo.dtypes"
      ]
    },
    {
      "cell_type": "markdown",
      "metadata": {
        "id": "w6Rj4hnAXLBX"
      },
      "source": [
        "- - -"
      ]
    },
    {
      "cell_type": "markdown",
      "metadata": {
        "id": "eR3TxfNNXLBX"
      },
      "source": [
        "Para eliminar los los caracteres iniciales y finales:\n",
        "```\n",
        ".str.strip \n",
        "```\n",
        "\n",
        "Para eliminar los caracteres iniciales:\n",
        "```\n",
        ".str.lstrip\n",
        "```\n",
        "\n",
        "\n",
        "Para eliminar los caracteres finales:\n",
        "```\n",
        ".str.rstrip\n",
        "```\n",
        "\n",
        "Más información:\n",
        "\n",
        "https://pandas.pydata.org/pandas-docs/stable/reference/api/pandas.Series.str.strip.html"
      ]
    },
    {
      "cell_type": "markdown",
      "metadata": {
        "id": "6YL1BjNHXLBY"
      },
      "source": [
        "- - -"
      ]
    },
    {
      "cell_type": "code",
      "execution_count": null,
      "metadata": {
        "id": "g1SewyuqXLBY"
      },
      "outputs": [],
      "source": [
        "ejemplo = pd.DataFrame([\"   Hola\", \"Mundo!   \", \" Hola Mundo! \", \"HELLO IT'S ME\"], columns=[\"COLUMN\"])"
      ]
    },
    {
      "cell_type": "code",
      "execution_count": null,
      "metadata": {
        "id": "MyOdpk1AXLBY"
      },
      "outputs": [],
      "source": [
        "print(ejemplo[\"COLUMN\"])"
      ]
    },
    {
      "cell_type": "code",
      "execution_count": null,
      "metadata": {
        "id": "JhLvwoQZXLBY"
      },
      "outputs": [],
      "source": [
        "ejemplo[\"COLUMN\"].str.strip()"
      ]
    },
    {
      "cell_type": "markdown",
      "metadata": {
        "id": "t2cbEWh8XLBY"
      },
      "source": [
        "- - -"
      ]
    },
    {
      "cell_type": "code",
      "execution_count": null,
      "metadata": {
        "id": "q4D1vcYpXLBY"
      },
      "outputs": [],
      "source": [
        "#Eliminamos definitivamente los espacios de nuestro dataset.\n",
        "for i in censo.columns:\n",
        "    if censo[i].dtype == \"object\":\n",
        "        censo[i] = censo[i].str.strip()\n",
        "\n"
      ]
    },
    {
      "cell_type": "markdown",
      "metadata": {
        "id": "Zeh22wHMXLBY"
      },
      "source": [
        "- - -"
      ]
    },
    {
      "cell_type": "code",
      "execution_count": null,
      "metadata": {
        "id": "HNpqXo-jXLBZ"
      },
      "outputs": [],
      "source": [
        "#comprovamos que efectivamente se han eliminado los espacios.\n",
        "for i in censo.columns:\n",
        "    print(censo[i][0])"
      ]
    },
    {
      "cell_type": "markdown",
      "metadata": {
        "id": "I3T2k2WCXLBZ"
      },
      "source": [
        "- - -"
      ]
    },
    {
      "cell_type": "code",
      "execution_count": null,
      "metadata": {
        "id": "_uopusaVXLBZ"
      },
      "outputs": [],
      "source": [
        "censo[\"income\"][0]"
      ]
    },
    {
      "cell_type": "code",
      "execution_count": null,
      "metadata": {
        "id": "qDjq49xDXLBZ"
      },
      "outputs": [],
      "source": [
        "censo[\"income\"][7]"
      ]
    },
    {
      "cell_type": "markdown",
      "metadata": {
        "id": "yD106hABXLBZ"
      },
      "source": [
        "- - -"
      ]
    },
    {
      "cell_type": "code",
      "source": [
        "#Ahora, vamos a pasar nuestras labels de income de tipo object a números binarios\n",
        "#(1 o 0)\n",
        "#Otro método de hacerlo sería utilizando la función replace que ya conocemos\n",
        "#censo[\"income\"].replace({\"<=50K\":0,\">50K\":1})"
      ],
      "metadata": {
        "id": "yh1XBB5gInWI"
      },
      "execution_count": null,
      "outputs": []
    },
    {
      "cell_type": "code",
      "execution_count": null,
      "metadata": {
        "id": "Jayhgr0JXLBa"
      },
      "outputs": [],
      "source": [
        "from sklearn import preprocessing"
      ]
    },
    {
      "cell_type": "code",
      "execution_count": null,
      "metadata": {
        "id": "-KMeylHRXLBa"
      },
      "outputs": [],
      "source": [
        "le = preprocessing.LabelEncoder()"
      ]
    },
    {
      "cell_type": "code",
      "execution_count": null,
      "metadata": {
        "id": "seZmOV47XLBa"
      },
      "outputs": [],
      "source": [
        "le.fit(censo[\"income\"])\n",
        "censo[\"income\"] = le.transform(censo[\"income\"])"
      ]
    },
    {
      "cell_type": "code",
      "execution_count": null,
      "metadata": {
        "id": "IL4P5yWlXLBa"
      },
      "outputs": [],
      "source": [
        "censo[\"income\"].value_counts()"
      ]
    },
    {
      "cell_type": "markdown",
      "metadata": {
        "id": "edQeArI8XLBa"
      },
      "source": [
        "- - -"
      ]
    },
    {
      "cell_type": "code",
      "execution_count": null,
      "metadata": {
        "id": "tADm1lX1XLBb"
      },
      "outputs": [],
      "source": [
        "#Vemos qué opciones hay en la columna de raza.\n",
        "censo[\"race\"].value_counts()"
      ]
    },
    {
      "cell_type": "markdown",
      "metadata": {
        "id": "cxYS1URxXLBb"
      },
      "source": [
        "- - -\n",
        "### Dummies\n",
        "<img src=https://i.ibb.co/mq2pWk9/04.png width=\"500\">\n"
      ]
    },
    {
      "cell_type": "code",
      "execution_count": null,
      "metadata": {
        "id": "Xuu-oOlpXLBb"
      },
      "outputs": [],
      "source": [
        "#Transformamos la raza en dummies\n",
        "dummies = pd.get_dummies(censo[\"race\"])"
      ]
    },
    {
      "cell_type": "code",
      "execution_count": null,
      "metadata": {
        "id": "FEdRyHu6XLBc"
      },
      "outputs": [],
      "source": [
        "dummies.head()"
      ]
    },
    {
      "cell_type": "code",
      "execution_count": null,
      "metadata": {
        "id": "ivbIkGeDXLBc"
      },
      "outputs": [],
      "source": [
        "#Añadimos los dummies en el dataset\n",
        "censo = pd.concat([censo, dummies], axis=1)"
      ]
    },
    {
      "cell_type": "code",
      "execution_count": null,
      "metadata": {
        "id": "s5nScQyDXLBc"
      },
      "outputs": [],
      "source": [
        "censo.head()"
      ]
    },
    {
      "cell_type": "code",
      "execution_count": null,
      "metadata": {
        "id": "nFyUD9y4XLBc"
      },
      "outputs": [],
      "source": [
        "#eliminamos la variable original de raza porque ya no nos interesa\n",
        "censo = censo.drop(\"race\", axis=1)"
      ]
    },
    {
      "cell_type": "code",
      "execution_count": null,
      "metadata": {
        "id": "h7lbFb6LXLBc"
      },
      "outputs": [],
      "source": [
        "censo.head(0)"
      ]
    },
    {
      "cell_type": "markdown",
      "metadata": {
        "id": "xtOACjiQXLBc"
      },
      "source": [
        "- - -"
      ]
    },
    {
      "cell_type": "code",
      "execution_count": null,
      "metadata": {
        "scrolled": true,
        "id": "TS9ta9zFXLBc"
      },
      "outputs": [],
      "source": [
        "#Analicemos ahora la feature de relationship y vemos que también hay varias opciones.\n",
        "censo[\"relationship\"].value_counts()"
      ]
    },
    {
      "cell_type": "code",
      "execution_count": null,
      "metadata": {
        "id": "w6scDMd6XLBd"
      },
      "outputs": [],
      "source": [
        "print('Los diferentes tipos de relaciones són:' + str(censo[\"relationship\"].unique()))\n",
        "print('Así que hay un total de {} categorías.' .format(censo[\"relationship\"].nunique()))\n"
      ]
    },
    {
      "cell_type": "markdown",
      "metadata": {
        "id": "GAIjAjgpXLBd"
      },
      "source": [
        "- - -"
      ]
    },
    {
      "cell_type": "code",
      "execution_count": null,
      "metadata": {
        "id": "Q7IGyKGEXLBd"
      },
      "outputs": [],
      "source": [
        "#Evaluamos cuántas cateogrías hay para cada tipo de variable\n",
        "for i in censo.columns:\n",
        "    if censo[i].dtypes == \"object\":\n",
        "        número_categorias = censo[i].nunique()\n",
        "        print(i, número_categorias)"
      ]
    },
    {
      "cell_type": "markdown",
      "metadata": {
        "id": "gedRbnQ2XLBd"
      },
      "source": [
        "- - -"
      ]
    },
    {
      "cell_type": "code",
      "execution_count": null,
      "metadata": {
        "id": "yQa1-nPaXLBd"
      },
      "outputs": [],
      "source": [
        "#Vemos que hay muchos países nativos.\n",
        "censo[\"native-country\"].value_counts()"
      ]
    },
    {
      "cell_type": "code",
      "execution_count": null,
      "metadata": {
        "id": "CaeFM8viXLBd"
      },
      "outputs": [],
      "source": [
        "#Vamos a filtrar y hacer únicamente dos categorías: USA o OTROS.\n",
        "def countries(x):\n",
        "    if x == \"United-States\":\n",
        "        return \"country-usa\"\n",
        "    else:\n",
        "        return \"country-other\""
      ]
    },
    {
      "cell_type": "code",
      "execution_count": null,
      "metadata": {
        "id": "HTlUm6ekXLBe"
      },
      "outputs": [],
      "source": [
        "censo[\"native-country\"] = censo[\"native-country\"].apply(countries)"
      ]
    },
    {
      "cell_type": "code",
      "execution_count": null,
      "metadata": {
        "id": "0Zl85qODXLBe"
      },
      "outputs": [],
      "source": [
        "censo[\"native-country\"].value_counts()"
      ]
    },
    {
      "cell_type": "markdown",
      "metadata": {
        "id": "iNeaDdTEXLBe"
      },
      "source": [
        "- - -\n",
        "Alternativamente, podríamos usar una funciones lambda como se indica a continuación:"
      ]
    },
    {
      "cell_type": "code",
      "source": [
        "#censo[\"native-country\"] = censo[\"native-country\"].apply(lambda x: \"country-usa\" if x==\"United-States\" else \"country-other\")\n",
        "#La diferencia entre Lambdas y List Comprehension estás ultimas se utilizan para crear listas, \n",
        "#las lambdas son funciones que pueden procesar como otras funciones y por lo tanto realizar un return de valores o listas"
      ],
      "metadata": {
        "id": "e9FEv_gGqBK2"
      },
      "execution_count": null,
      "outputs": []
    },
    {
      "cell_type": "code",
      "execution_count": null,
      "metadata": {
        "id": "mFX5KXm3XLBe"
      },
      "outputs": [],
      "source": [
        "#Ahora pasamos todas las columnas del dataset de tipo object a dummies\n",
        "for i in censo.columns:\n",
        "    if censo[i].dtypes == \"object\":\n",
        "        dummies = pd.get_dummies(censo[i])\n",
        "        censo = pd.concat([censo, dummies], axis=1)\n",
        "        censo = censo.drop(i, axis=1)"
      ]
    },
    {
      "cell_type": "code",
      "execution_count": null,
      "metadata": {
        "id": "VsIVjjSSXLBe"
      },
      "outputs": [],
      "source": [
        "censo.shape"
      ]
    },
    {
      "cell_type": "markdown",
      "metadata": {
        "id": "-7YKm3cUXLBf"
      },
      "source": [
        "- - -"
      ]
    },
    {
      "cell_type": "code",
      "execution_count": null,
      "metadata": {
        "id": "d9vubbmhXLBf"
      },
      "outputs": [],
      "source": [
        "#Dividimos entre X e y teniendo en cuenta que nuestro target va a ser averiguar \n",
        "#quién cobra más de 50K.\n",
        "X = censo.drop(\"income\", 1)\n",
        "y = censo[\"income\"]"
      ]
    },
    {
      "cell_type": "markdown",
      "metadata": {
        "id": "OsKreA2IXLBf"
      },
      "source": [
        "- - -\n",
        "### Escalado"
      ]
    },
    {
      "cell_type": "markdown",
      "metadata": {
        "id": "ewqR5Dk9XLBf"
      },
      "source": [
        "En general, los algoritmos de aprendizaje automático se benefician de la estandarización del conjunto de datos. \n",
        "\n",
        "La estandarización de conjuntos de datos es un ejercicio común para muchos modelos de aprendizaje automático.\n",
        "\n",
        "En esta ocacion usaremos el MinMaxScaler, escalaremos las características para que se encuentren entre un valor mínimo y máximo dado, a menudo entre cero y uno. \n",
        "- - -"
      ]
    },
    {
      "cell_type": "markdown",
      "metadata": {
        "id": "NCymHNntXLBf"
      },
      "source": [
        "\\begin{align}\n",
        "\\Large X_{sc} = \\frac{X - X_{min}}{X_{max} - X_{min}}\n",
        "\\end{align}"
      ]
    },
    {
      "cell_type": "markdown",
      "metadata": {
        "id": "avmXdzQpXLBg"
      },
      "source": [
        "<img src=https://i.ibb.co/9TWvjt5/05.png width=\"700\">"
      ]
    },
    {
      "cell_type": "code",
      "execution_count": null,
      "metadata": {
        "id": "8KLbilmBXLBg"
      },
      "outputs": [],
      "source": [
        "#Vamos a pre-procesar para tener datos entre 0 y 1.\n",
        "from sklearn.preprocessing import MinMaxScaler\n",
        "X_maxmin = MinMaxScaler().fit_transform(X)"
      ]
    },
    {
      "cell_type": "code",
      "source": [
        "#Vamos a pre-procesar para tener los datos estandarizados.\n",
        "from sklearn.preprocessing import StandardScaler\n",
        "X_norm = StandardScaler().fit_transform(X)"
      ],
      "metadata": {
        "id": "tWM7FZXfIwBo"
      },
      "execution_count": null,
      "outputs": []
    },
    {
      "cell_type": "markdown",
      "metadata": {
        "id": "8IfiGw4UXLBg"
      },
      "source": [
        "- - -"
      ]
    },
    {
      "cell_type": "code",
      "execution_count": null,
      "metadata": {
        "id": "zOlF9eolXLBg"
      },
      "outputs": [],
      "source": [
        "from sklearn.model_selection import train_test_split\n",
        "from sklearn.model_selection import cross_val_score\n",
        "from sklearn.linear_model import LogisticRegression\n",
        "from sklearn.neighbors import KNeighborsClassifier"
      ]
    },
    {
      "cell_type": "code",
      "execution_count": null,
      "metadata": {
        "id": "rKMAtnQtXLBg"
      },
      "outputs": [],
      "source": [
        "#split de los datos SIN escalar\n",
        "X_train, X_test, y_train, y_test = train_test_split(X, y, test_size=0.30, random_state=1)\n",
        "#split de los datos escalados\n",
        "X_train_maxmin, X_test_maxmin, y_train_maxmin, y_test_maxmin = train_test_split(X_maxmin, y, test_size=0.30, random_state=1)\n",
        "#split de los datos normalizados\n",
        "X_train_n, X_test_n, y_train_n, y_test_n = train_test_split(X_norm, y, test_size=0.30, random_state=1)"
      ]
    },
    {
      "cell_type": "code",
      "execution_count": null,
      "metadata": {
        "id": "KuU6O-Z5XLBg"
      },
      "outputs": [],
      "source": [
        "LR = LogisticRegression()"
      ]
    },
    {
      "cell_type": "code",
      "execution_count": null,
      "metadata": {
        "id": "olCeygC8XLBh"
      },
      "outputs": [],
      "source": [
        "s1 = cross_val_score(LR, X_train, y_train, cv=10, scoring=\"roc_auc\").mean()\n",
        "print(\"AUC - Datos de validation SIN escalar: \" + str(s1))\n",
        "s2 = cross_val_score(LR, X_train_maxmin, y_train_maxmin, cv=10, scoring=\"roc_auc\").mean()\n",
        "print(\"AUC - Datos de validation escalados: \" + str(s2))\n",
        "s3 = cross_val_score(LR, X_train_n, y_train_n, cv=10, scoring=\"roc_auc\").mean()\n",
        "print(\"AUC - Datos de validation normalizados: \"+ str(s3))\n"
      ]
    },
    {
      "cell_type": "markdown",
      "metadata": {
        "id": "qYQbhXbNXLBh"
      },
      "source": [
        "- - -"
      ]
    }
  ],
  "metadata": {
    "kernelspec": {
      "display_name": "Python 3",
      "language": "python",
      "name": "python3"
    },
    "language_info": {
      "codemirror_mode": {
        "name": "ipython",
        "version": 3
      },
      "file_extension": ".py",
      "mimetype": "text/x-python",
      "name": "python",
      "nbconvert_exporter": "python",
      "pygments_lexer": "ipython3",
      "version": "3.8.5"
    },
    "colab": {
      "provenance": []
    }
  },
  "nbformat": 4,
  "nbformat_minor": 0
}