{
  "nbformat": 4,
  "nbformat_minor": 0,
  "metadata": {
    "colab": {
      "provenance": []
    },
    "kernelspec": {
      "name": "python3",
      "display_name": "Python 3"
    },
    "language_info": {
      "name": "python"
    },
    "accelerator": "GPU"
  },
  "cells": [
    {
      "cell_type": "markdown",
      "source": [
        "#GENERACIÓN PRENDAS DE ROPA (DCGAN)"
      ],
      "metadata": {
        "id": "Rcd__OyBiXhs"
      }
    },
    {
      "cell_type": "code",
      "source": [
        "# https://pytorch.org/hub/facebookresearch_pytorch-gan-zoo_dcgan/"
      ],
      "metadata": {
        "id": "MGvHsPDCiXGk"
      },
      "execution_count": null,
      "outputs": []
    },
    {
      "cell_type": "code",
      "source": [
        "import torch\n",
        "use_gpu = True if torch.cuda.is_available() else False\n",
        "\n",
        "model = torch.hub.load('facebookresearch/pytorch_GAN_zoo:hub', 'DCGAN', pretrained=True, useGPU=use_gpu)"
      ],
      "metadata": {
        "id": "HyTwS6rRimhz"
      },
      "execution_count": null,
      "outputs": []
    },
    {
      "cell_type": "code",
      "source": [
        "num_images = 10\n",
        "noise, _ = model.buildNoiseData(num_images)\n",
        "with torch.no_grad():\n",
        "    generated_images = model.test(noise)\n",
        "\n",
        "# let's plot these images using torchvision and matplotlib\n",
        "import matplotlib.pyplot as plt\n",
        "import torchvision\n",
        "plt.figure(figsize=(20,20))\n",
        "plt.imshow(torchvision.utils.make_grid(generated_images).permute(1, 2, 0).cpu().numpy())\n",
        "# plt.show()"
      ],
      "metadata": {
        "id": "M-0RVHFLisry"
      },
      "execution_count": null,
      "outputs": []
    },
    {
      "cell_type": "markdown",
      "source": [
        "#GENERACIÓN DE CARAS DE CELEBRIDADES (PGAN)"
      ],
      "metadata": {
        "id": "ZhGEqofcib6U"
      }
    },
    {
      "cell_type": "code",
      "execution_count": null,
      "metadata": {
        "id": "enKB732ViM5d"
      },
      "outputs": [],
      "source": [
        "# https://pytorch.org/hub/facebookresearch_pytorch-gan-zoo_pgan/"
      ]
    },
    {
      "cell_type": "code",
      "source": [
        "import torch\n",
        "use_gpu = True if torch.cuda.is_available() else False\n",
        "\n",
        "# trained on high-quality celebrity faces \"celebA\" dataset\n",
        "# this model outputs 512 x 512 pixel images\n",
        "model = torch.hub.load('facebookresearch/pytorch_GAN_zoo:hub',\n",
        "                       'PGAN', model_name='celebAHQ-512',\n",
        "                       pretrained=True, useGPU=use_gpu)\n",
        "# this model outputs 256 x 256 pixel images\n",
        "# model = torch.hub.load('facebookresearch/pytorch_GAN_zoo:hub',\n",
        "#                        'PGAN', model_name='celebAHQ-256',\n",
        "#                        pretrained=True, useGPU=use_gpu)"
      ],
      "metadata": {
        "id": "R2oU1aeti1b8"
      },
      "execution_count": null,
      "outputs": []
    },
    {
      "cell_type": "code",
      "source": [
        "num_images = 5\n",
        "noise, _ = model.buildNoiseData(num_images)\n",
        "with torch.no_grad():\n",
        "    generated_images = model.test(noise)\n",
        "\n",
        "# let's plot these images using torchvision and matplotlib\n",
        "import matplotlib.pyplot as plt\n",
        "import torchvision\n",
        "grid = torchvision.utils.make_grid(generated_images.clamp(min=-1, max=1), scale_each=True, normalize=True)\n",
        "plt.figure(figsize=(20,20))\n",
        "plt.imshow(grid.permute(1, 2, 0).cpu().numpy())\n",
        "# plt.show()"
      ],
      "metadata": {
        "id": "0KfCXAWUjNo4"
      },
      "execution_count": null,
      "outputs": []
    }
  ]
}