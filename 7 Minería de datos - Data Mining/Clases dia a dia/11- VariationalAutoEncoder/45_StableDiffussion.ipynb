{
  "nbformat": 4,
  "nbformat_minor": 0,
  "metadata": {
    "colab": {
      "provenance": []
    },
    "kernelspec": {
      "name": "python3",
      "display_name": "Python 3"
    },
    "language_info": {
      "name": "python"
    },
    "accelerator": "GPU",
    "gpuClass": "standard"
  },
  "cells": [
    {
      "cell_type": "markdown",
      "source": [
        "#Stable diffussion con Keras"
      ],
      "metadata": {
        "id": "Jvh0_zHo1GFy"
      }
    },
    {
      "cell_type": "code",
      "execution_count": null,
      "metadata": {
        "id": "sM7g_NZz0pCf"
      },
      "outputs": [],
      "source": [
        "#Ejemplo basado en: https://keras.io/guides/keras_cv/generate_images_with_stable_diffusion/\n",
        "\n",
        "!pip install --upgrade keras-cv\n",
        "\n",
        "\n",
        "import time\n",
        "import keras_cv\n",
        "from tensorflow import keras\n",
        "import matplotlib.pyplot as plt\n"
      ]
    },
    {
      "cell_type": "code",
      "source": [
        "model = keras_cv.models.StableDiffusion(img_width=512, img_height=512)\n"
      ],
      "metadata": {
        "id": "1ifjUW1w0w40"
      },
      "execution_count": null,
      "outputs": []
    },
    {
      "cell_type": "code",
      "source": [
        "#podéis cambiar el batch size para obtener más imágenes de golpe.\n",
        "images = model.text_to_image(\"Students attending a class with their laptops. They are all smiling\",\n",
        "    batch_size=1,  # How many images to generate at once\n",
        "    num_steps=20,  # Number of iterations (controls image quality)\n",
        "    seed=123,  # Set this to always get the same image from the same prompt\n",
        ")\n",
        "\n",
        "\n",
        "def plot_images(images):\n",
        "    plt.figure(figsize=(20, 20))\n",
        "    for i in range(len(images)):\n",
        "        ax = plt.subplot(1, len(images), i + 1)\n",
        "        plt.imshow(images[i])\n",
        "        plt.axis(\"off\")\n",
        "\n",
        "plot_images(images)"
      ],
      "metadata": {
        "id": "lM0Dm81y06WL"
      },
      "execution_count": null,
      "outputs": []
    }
  ]
}