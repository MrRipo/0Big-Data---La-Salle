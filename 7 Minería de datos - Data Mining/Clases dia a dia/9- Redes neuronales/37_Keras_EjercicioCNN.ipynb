{
  "nbformat": 4,
  "nbformat_minor": 0,
  "metadata": {
    "colab": {
      "provenance": []
    },
    "kernelspec": {
      "name": "python3",
      "display_name": "Python 3"
    },
    "language_info": {
      "name": "python"
    }
  },
  "cells": [
    {
      "cell_type": "code",
      "execution_count": null,
      "metadata": {
        "id": "1NMtlDui-I8H"
      },
      "outputs": [],
      "source": [
        "import numpy as np\n",
        "import pandas as pd\n",
        "import matplotlib.pyplot as plt\n",
        "from IPython.display import set_matplotlib_formats\n",
        "set_matplotlib_formats('retina')\n",
        "import seaborn as sns"
      ]
    },
    {
      "cell_type": "code",
      "source": [
        "import tensorflow as tf\n",
        "from tensorflow import keras\n",
        "from sklearn.model_selection import train_test_split"
      ],
      "metadata": {
        "id": "J3Rq3WNL-NEA"
      },
      "execution_count": null,
      "outputs": []
    },
    {
      "cell_type": "code",
      "source": [
        "train = pd.read_csv(\"/content/mnist_train.csv\", index_col = None)\n",
        "X_train = train.drop('label', axis = 1)\n",
        "y_train = train['label']\n",
        "print(X_train.head(2))\n",
        "print(y_train.head(2))\n",
        "print(X_train.shape)"
      ],
      "metadata": {
        "id": "xtmYQsSS-Nvf"
      },
      "execution_count": null,
      "outputs": []
    },
    {
      "cell_type": "code",
      "source": [
        "test = pd.read_csv(\"/content/mnist_test.csv\")\n",
        "X_test = test.drop('label', axis = 1)\n",
        "y_test = test['label']\n",
        "print(X_test.head(2))\n",
        "print(y_test.head(2))"
      ],
      "metadata": {
        "id": "m-LcVXbIClBV"
      },
      "execution_count": null,
      "outputs": []
    },
    {
      "cell_type": "code",
      "source": [
        "#Printar algunas imágenes del dataset para ver cómo son.\n"
      ],
      "metadata": {
        "id": "Eptub8nNEB75"
      },
      "execution_count": null,
      "outputs": []
    },
    {
      "cell_type": "code",
      "source": [
        "#Entrenar una CNN para clasificar según la clase.\n"
      ],
      "metadata": {
        "id": "fzakhgf_EFRv"
      },
      "execution_count": null,
      "outputs": []
    },
    {
      "cell_type": "code",
      "source": [
        "#Hacer un plot de la arquitectura del modelo."
      ],
      "metadata": {
        "id": "FU0COgeiFjiJ"
      },
      "execution_count": null,
      "outputs": []
    },
    {
      "cell_type": "code",
      "source": [
        "#Calcular la accuracy de clasificación y la matriz de confusión.\n"
      ],
      "metadata": {
        "id": "d03uIqx9EKLg"
      },
      "execution_count": null,
      "outputs": []
    }
  ]
}