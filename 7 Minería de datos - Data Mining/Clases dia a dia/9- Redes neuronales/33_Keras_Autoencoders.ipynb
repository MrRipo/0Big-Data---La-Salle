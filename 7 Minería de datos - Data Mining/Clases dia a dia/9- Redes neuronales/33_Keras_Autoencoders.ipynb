{
  "cells": [
    {
      "cell_type": "markdown",
      "metadata": {
        "id": "aacQsqtTAiBe"
      },
      "source": [
        "# AutoEnconders"
      ]
    },
    {
      "cell_type": "markdown",
      "metadata": {
        "id": "iwJa1lkvAiBi"
      },
      "source": [
        "- - -"
      ]
    },
    {
      "cell_type": "code",
      "execution_count": null,
      "metadata": {
        "id": "Y0zHvOofAiBj"
      },
      "outputs": [],
      "source": [
        "import numpy as np\n",
        "import pandas as pd\n",
        "import matplotlib.pyplot as plt\n",
        "import seaborn as sns\n",
        "from IPython.display import set_matplotlib_formats\n",
        "set_matplotlib_formats(\"retina\")"
      ]
    },
    {
      "cell_type": "markdown",
      "metadata": {
        "id": "-07cWUJ1AiBn"
      },
      "source": [
        "- - -"
      ]
    },
    {
      "cell_type": "markdown",
      "source": [
        "Comprovamos las versiones de las distintas librerías que importamos"
      ],
      "metadata": {
        "id": "T1iAI6opLYLp"
      }
    },
    {
      "cell_type": "code",
      "execution_count": null,
      "metadata": {
        "id": "VoN_hV8oAiBn"
      },
      "outputs": [],
      "source": [
        "print(\"Version de Numpy:\", np.__version__)\n",
        "print(\"Version de Pandas:\", pd.__version__)\n",
        "import matplotlib as mpl\n",
        "print(\"Version de Matplotlib:\", mpl.__version__)"
      ]
    },
    {
      "cell_type": "markdown",
      "metadata": {
        "id": "ttV7qagvAiBq"
      },
      "source": [
        "- - -"
      ]
    },
    {
      "cell_type": "code",
      "execution_count": null,
      "metadata": {
        "id": "gPZhEBjqAiBr"
      },
      "outputs": [],
      "source": [
        "creditcard = pd.read_csv(\"https://raw.githubusercontent.com/4data-lab/datasets/master/creditcard.zip\")"
      ]
    },
    {
      "cell_type": "code",
      "execution_count": null,
      "metadata": {
        "id": "RjEhF8EGAiBs"
      },
      "outputs": [],
      "source": [
        "print('Número de filas: {}'.format(creditcard.shape[0]))"
      ]
    },
    {
      "cell_type": "code",
      "execution_count": null,
      "metadata": {
        "id": "MTwSTsh6AiBs"
      },
      "outputs": [],
      "source": [
        "print('Número de columnas: {}'.format(creditcard.shape[1]))"
      ]
    },
    {
      "cell_type": "code",
      "execution_count": null,
      "metadata": {
        "id": "msw1PnXaAiBt"
      },
      "outputs": [],
      "source": [
        "creditcard.head()"
      ]
    },
    {
      "cell_type": "code",
      "execution_count": null,
      "metadata": {
        "id": "LQ-b5LnMAiBu"
      },
      "outputs": [],
      "source": [
        "plt.figure(figsize=(10,5))\n",
        "sns.countplot(x=\"Class\", data=creditcard)\n",
        "plt.xticks((0, 1),('Transacción normal', \"Transacción fraudulenta\"))"
      ]
    },
    {
      "cell_type": "code",
      "execution_count": null,
      "metadata": {
        "id": "IkKOHlA0AiBv"
      },
      "outputs": [],
      "source": [
        "creditcard[\"Class\"].value_counts()"
      ]
    },
    {
      "cell_type": "markdown",
      "metadata": {
        "id": "GmMY_zY7AiBv"
      },
      "source": [
        "- - -"
      ]
    },
    {
      "cell_type": "markdown",
      "metadata": {
        "id": "gneQccGKAiBv"
      },
      "source": [
        "## Detección de anomalías"
      ]
    },
    {
      "cell_type": "code",
      "execution_count": null,
      "metadata": {
        "id": "5fAt3pFhAiBw"
      },
      "outputs": [],
      "source": [
        "from sklearn.model_selection import train_test_split"
      ]
    },
    {
      "cell_type": "code",
      "execution_count": null,
      "metadata": {
        "id": "78U87hlVAiBw"
      },
      "outputs": [],
      "source": [
        "X_train, X_test = train_test_split(creditcard, test_size=0.20, random_state=1)"
      ]
    },
    {
      "cell_type": "code",
      "execution_count": null,
      "metadata": {
        "id": "q9L382QqAiBw"
      },
      "outputs": [],
      "source": [
        "X_train[\"Class\"].value_counts()"
      ]
    },
    {
      "cell_type": "code",
      "execution_count": null,
      "metadata": {
        "id": "eTgw9j5eAiBx"
      },
      "outputs": [],
      "source": [
        "X_test[\"Class\"].value_counts()"
      ]
    },
    {
      "cell_type": "markdown",
      "metadata": {
        "id": "i8FxVrIQAiBx"
      },
      "source": [
        "- - -"
      ]
    },
    {
      "cell_type": "markdown",
      "metadata": {
        "id": "1gYCn97nAiBx"
      },
      "source": [
        "    En \"X_train\" descartaremos los registros de la clase 1 y también la feature \"Class\"\n",
        "    Para el entrenamiento solo usaremos registros no fraudulentos y sin target.    "
      ]
    },
    {
      "cell_type": "code",
      "execution_count": null,
      "metadata": {
        "id": "dsW8KmIxAiBy"
      },
      "outputs": [],
      "source": [
        "X_train = X_train[X_train[\"Class\"] == 0]"
      ]
    },
    {
      "cell_type": "code",
      "execution_count": null,
      "metadata": {
        "id": "hDbNNZQAAiBy"
      },
      "outputs": [],
      "source": [
        "X_train[\"Class\"].value_counts()"
      ]
    },
    {
      "cell_type": "code",
      "execution_count": null,
      "metadata": {
        "id": "QaWMmtlVAiBz"
      },
      "outputs": [],
      "source": [
        "X_train = X_train.drop([\"Class\"], axis=1)"
      ]
    },
    {
      "cell_type": "code",
      "execution_count": null,
      "metadata": {
        "id": "lA-GuYYWAiB0"
      },
      "outputs": [],
      "source": [
        "type(X_train)"
      ]
    },
    {
      "cell_type": "code",
      "execution_count": null,
      "metadata": {
        "id": "3Gg6Lc1hAiB0"
      },
      "outputs": [],
      "source": [
        "X_train.to_numpy()"
      ]
    },
    {
      "cell_type": "code",
      "execution_count": null,
      "metadata": {
        "id": "5gN1pty0AiB2"
      },
      "outputs": [],
      "source": [
        "X_train = X_train.to_numpy()"
      ]
    },
    {
      "cell_type": "markdown",
      "metadata": {
        "id": "PsP03dXfAiB3"
      },
      "source": [
        "- - -"
      ]
    },
    {
      "cell_type": "markdown",
      "metadata": {
        "id": "l9v-3y7_AiB3"
      },
      "source": [
        "Alternativamente podríamos usar el atributo \".values\" (ejemplo: X_train.values)."
      ]
    },
    {
      "cell_type": "markdown",
      "metadata": {
        "id": "bHE8HZV0AiB4"
      },
      "source": [
        "- - -"
      ]
    },
    {
      "cell_type": "markdown",
      "metadata": {
        "id": "4fQ972BsAiB4"
      },
      "source": [
        "    Con propósito de prueba en este notebook, de los datos de test crearemos dos subsets cada uno con registros de una clase"
      ]
    },
    {
      "cell_type": "code",
      "execution_count": null,
      "metadata": {
        "id": "tEHm2c_zAiB5"
      },
      "outputs": [],
      "source": [
        "unseen_normal = X_test[X_test[\"Class\"] == 0]"
      ]
    },
    {
      "cell_type": "code",
      "execution_count": null,
      "metadata": {
        "id": "JaM5AmSYAiB6"
      },
      "outputs": [],
      "source": [
        "unseen_normal = unseen_normal.drop([\"Class\"], axis=1)"
      ]
    },
    {
      "cell_type": "code",
      "execution_count": null,
      "metadata": {
        "id": "umiZMLiBAiB6"
      },
      "outputs": [],
      "source": [
        "unseen_normal = unseen_normal.to_numpy()"
      ]
    },
    {
      "cell_type": "code",
      "execution_count": null,
      "metadata": {
        "id": "qRqpeOyaAiB7"
      },
      "outputs": [],
      "source": [
        "unseen_fraudulent = X_test[X_test[\"Class\"] == 1]"
      ]
    },
    {
      "cell_type": "code",
      "execution_count": null,
      "metadata": {
        "id": "6Mh2ZLyxAiB7"
      },
      "outputs": [],
      "source": [
        "unseen_fraudulent = unseen_fraudulent.drop([\"Class\"], axis=1)"
      ]
    },
    {
      "cell_type": "code",
      "execution_count": null,
      "metadata": {
        "id": "2RZ2EOxtAiB7"
      },
      "outputs": [],
      "source": [
        "unseen_fraudulent = unseen_fraudulent.to_numpy()"
      ]
    },
    {
      "cell_type": "markdown",
      "metadata": {
        "id": "RZezztASAiB7"
      },
      "source": [
        "- - -"
      ]
    },
    {
      "cell_type": "markdown",
      "metadata": {
        "id": "1Y518yiqAiB7"
      },
      "source": [
        "    En \"y_test\" dejaremos registros de ambas clases 0 y 1, pero solo de la feature \"Class\""
      ]
    },
    {
      "cell_type": "code",
      "execution_count": null,
      "metadata": {
        "id": "dcFhq3hwAiB8"
      },
      "outputs": [],
      "source": [
        "y_test = X_test[\"Class\"]"
      ]
    },
    {
      "cell_type": "code",
      "execution_count": null,
      "metadata": {
        "id": "I4i648uCAiB8"
      },
      "outputs": [],
      "source": [
        "y_test.value_counts()"
      ]
    },
    {
      "cell_type": "code",
      "execution_count": null,
      "metadata": {
        "id": "8Sn6ZpyxAiB9"
      },
      "outputs": [],
      "source": [
        "type(y_test)"
      ]
    },
    {
      "cell_type": "code",
      "execution_count": null,
      "metadata": {
        "id": "BdV5zJn4AiB9"
      },
      "outputs": [],
      "source": [
        "y_test = y_test.to_numpy()"
      ]
    },
    {
      "cell_type": "markdown",
      "metadata": {
        "id": "zsE3J_cVAiB-"
      },
      "source": [
        "- - -"
      ]
    },
    {
      "cell_type": "markdown",
      "metadata": {
        "id": "GFowYssjAiB-"
      },
      "source": [
        "    En \"X_test\" dejaremos registros de ambas clases 0 y 1, pero descartaremos la feature \"Class\""
      ]
    },
    {
      "cell_type": "code",
      "execution_count": null,
      "metadata": {
        "id": "zIk0RdsEAiB-"
      },
      "outputs": [],
      "source": [
        "X_test = X_test.drop([\"Class\"], axis=1)"
      ]
    },
    {
      "cell_type": "code",
      "execution_count": null,
      "metadata": {
        "id": "Z8MkE4JvAiB-"
      },
      "outputs": [],
      "source": [
        "X_test = X_test.values"
      ]
    },
    {
      "cell_type": "markdown",
      "metadata": {
        "id": "YJlfeLQvAiB_"
      },
      "source": [
        "- - -"
      ]
    },
    {
      "cell_type": "code",
      "execution_count": null,
      "metadata": {
        "id": "a6d1E8oAAiB_"
      },
      "outputs": [],
      "source": [
        "import tensorflow as tf\n",
        "from tensorflow import keras"
      ]
    },
    {
      "cell_type": "code",
      "execution_count": null,
      "metadata": {
        "id": "Eo3I8xbNAiB_"
      },
      "outputs": [],
      "source": [
        "tf.random.set_seed(1)"
      ]
    },
    {
      "cell_type": "markdown",
      "source": [
        "Miramos si tenemos GPU disponible:"
      ],
      "metadata": {
        "id": "aRTwSv-ccoV3"
      }
    },
    {
      "cell_type": "code",
      "source": [
        "if tf.test.gpu_device_name(): \n",
        "    print('Default GPU Device: {}'.format(tf.test.gpu_device_name()))\n",
        "else:\n",
        "   print(\"No GPU found\")"
      ],
      "metadata": {
        "id": "6kKxmzYKb8dW"
      },
      "execution_count": null,
      "outputs": []
    },
    {
      "cell_type": "markdown",
      "metadata": {
        "id": "opZXPZgPAiCA"
      },
      "source": [
        "- - -"
      ]
    },
    {
      "cell_type": "code",
      "execution_count": null,
      "metadata": {
        "id": "YrWgTS5PAiCA"
      },
      "outputs": [],
      "source": [
        "X_train.shape[1] #número de features"
      ]
    },
    {
      "cell_type": "markdown",
      "metadata": {
        "id": "iru390WwAiCA"
      },
      "source": [
        "### Sequential Model"
      ]
    },
    {
      "cell_type": "code",
      "execution_count": null,
      "metadata": {
        "id": "w8-IwTQzAiCA"
      },
      "outputs": [],
      "source": [
        "model = tf.keras.Sequential()\n",
        "model.add(tf.keras.Input(shape=(X_train.shape[1],)))\n",
        "model.add(tf.keras.layers.Dense(20, activation='relu'))\n",
        "model.add(tf.keras.layers.Dense(14, activation='relu')) \n",
        "model.add(tf.keras.layers.Dense(20, activation='relu')) \n",
        "model.add(tf.keras.layers.Dense(X_train.shape[1]))"
      ]
    },
    {
      "cell_type": "code",
      "execution_count": null,
      "metadata": {
        "id": "2R4vwFllAiCB"
      },
      "outputs": [],
      "source": [
        "model.compile(optimizer='adam', loss='mean_squared_error')"
      ]
    },
    {
      "cell_type": "markdown",
      "metadata": {
        "id": "Z8uoTQQaAiCB"
      },
      "source": [
        "Usaremos 'adam' que actualmente es el optimizador de referencia.\n",
        "\n",
        "Adam (Adaptive Moment Estimation) ajusta la tasa de aprendizaje durante el entrenamiento. De hecho, en scikit learn es el optimizador por defecto."
      ]
    },
    {
      "cell_type": "code",
      "execution_count": null,
      "metadata": {
        "id": "8S7ePjugAiCB"
      },
      "outputs": [],
      "source": [
        "model.fit(X_train, X_train, epochs=3)"
      ]
    },
    {
      "cell_type": "code",
      "source": [
        "model.summary()"
      ],
      "metadata": {
        "id": "zghCFa12X-f6"
      },
      "execution_count": null,
      "outputs": []
    },
    {
      "cell_type": "code",
      "source": [
        "keras.utils.plot_model(model, \"my_first_model_with_shape_info.png\", show_shapes=True)\n"
      ],
      "metadata": {
        "id": "Qf9HFtLDblsJ"
      },
      "execution_count": null,
      "outputs": []
    },
    {
      "cell_type": "markdown",
      "metadata": {
        "id": "BxTikJYXAiCC"
      },
      "source": [
        "- - -"
      ]
    },
    {
      "cell_type": "markdown",
      "metadata": {
        "id": "WnEqwvFgAiCC"
      },
      "source": [
        "### Functional Model"
      ]
    },
    {
      "cell_type": "markdown",
      "metadata": {
        "id": "Fm2It5taAiCD"
      },
      "source": [
        "El modelo secuencial desarrolla el modelo capa por capa como una pila lineal de capas.\n",
        "Con lo cual es muy fácil construir una red, pero la API secuencial tiene algunas limitaciones que no nos permiten construir modelos que compartan capas o tengan múltiples entradas o salidas.\n",
        "\n",
        "El modelo funcional es una forma alternativa de construir una red neuronal. \n",
        "Proporciona más flexibilidad para desarrollar una red muy compleja con múltiples entradas o salidas, así como un modelo que puede compartir capas.\n",
        "\n",
        "Veamos cómo implementar con un modelo funcional el mismo modelo que hemos implementado anteriormente con un modelo secuencial:"
      ]
    },
    {
      "cell_type": "code",
      "source": [
        "inputs = tf.keras.Input(shape=(X_train.shape[1],))\n",
        "encoder = tf.keras.layers.Dense(20, activation='relu')(inputs)\n",
        "latent_space = tf.keras.layers.Dense(14, activation='relu')(encoder)\n",
        "decoder = tf.keras.layers.Dense(20, activation='relu')(latent_space)\n",
        "outputs = tf.keras.layers.Dense(X_train.shape[1])(decoder)\n",
        "model = tf.keras.models.Model(inputs=inputs, outputs=outputs)"
      ],
      "metadata": {
        "id": "_BiWL6S3UMe-"
      },
      "execution_count": null,
      "outputs": []
    },
    {
      "cell_type": "code",
      "source": [
        "model.compile(optimizer='adam', loss='mean_squared_error')\n",
        "with tf.device(\"/device:GPU:0\"):\n",
        "  model.fit(X_train, X_train, epochs=3)"
      ],
      "metadata": {
        "id": "x408eg4WUeU7"
      },
      "execution_count": null,
      "outputs": []
    },
    {
      "cell_type": "markdown",
      "metadata": {
        "id": "7xeKPGO4AiCD"
      },
      "source": [
        "- - -\n",
        "    Atención si bien hemos seteado una semilla, los modelos sequencial y funcional no comparten la misma inicialización.\n",
        "    Aunque son consistentes los resultados de ambos modelos por separado y su código es equivalente, no lo seran los resultados si los comparamos entre sí.\n",
        "- - -"
      ]
    },
    {
      "cell_type": "code",
      "execution_count": null,
      "metadata": {
        "id": "2x7wcUO5AiCE"
      },
      "outputs": [],
      "source": [
        "X_train_pred = model.predict(X_train)"
      ]
    },
    {
      "cell_type": "code",
      "execution_count": null,
      "metadata": {
        "id": "you6h1dCAiCE"
      },
      "outputs": [],
      "source": [
        "from sklearn.metrics import mean_squared_error"
      ]
    },
    {
      "cell_type": "code",
      "execution_count": null,
      "metadata": {
        "id": "rVexhteoAiCE"
      },
      "outputs": [],
      "source": [
        "print(\"trained_normal (MSE)\")\n",
        "mean_squared_error(X_train_pred,X_train)"
      ]
    },
    {
      "cell_type": "code",
      "execution_count": null,
      "metadata": {
        "id": "mFysYgaLAiCE"
      },
      "outputs": [],
      "source": [
        "print(\"unseen_normal (MSE)\")\n",
        "unseen_normal_pred = model.predict(unseen_normal)\n",
        "mean_squared_error(unseen_normal_pred,unseen_normal)"
      ]
    },
    {
      "cell_type": "code",
      "execution_count": null,
      "metadata": {
        "id": "WO6r334LAiCF"
      },
      "outputs": [],
      "source": [
        "print(\"unseen_fraudulent (MSE)\")\n",
        "unseen_fraudulent_pred = model.predict(unseen_fraudulent)\n",
        "mean_squared_error(unseen_fraudulent_pred,unseen_fraudulent)"
      ]
    },
    {
      "cell_type": "markdown",
      "metadata": {
        "id": "UyFcTsFEAiCF"
      },
      "source": [
        "- - -"
      ]
    },
    {
      "cell_type": "markdown",
      "metadata": {
        "id": "ZjlnBrYTAiCF"
      },
      "source": [
        "Alternativamente podemos calcular el error cuadrático medio con Numpy"
      ]
    },
    {
      "cell_type": "markdown",
      "metadata": {
        "id": "Yy1E-NKcAiCF"
      },
      "source": [
        "    sklearn: mean_squared_error(y_true, y_pred)\n",
        "    numpy:   np.mean(np.square(y_true - y_pred))\n",
        "             np.mean(np.power(y_true - y_pred))\n",
        "        "
      ]
    },
    {
      "cell_type": "markdown",
      "metadata": {
        "id": "mblIE3A3AiCG"
      },
      "source": [
        "- - -"
      ]
    },
    {
      "cell_type": "markdown",
      "metadata": {
        "id": "wjWYkNwKAiCG"
      },
      "source": [
        "A continuación obtendremos el error cuadrático medio de cada fila de X_test"
      ]
    },
    {
      "cell_type": "code",
      "execution_count": null,
      "metadata": {
        "id": "DAPj2AwaAiCG"
      },
      "outputs": [],
      "source": [
        "X_test_pred = model.predict(X_test)"
      ]
    },
    {
      "cell_type": "code",
      "execution_count": null,
      "metadata": {
        "id": "h1XugXXoAiCG"
      },
      "outputs": [],
      "source": [
        "mse = np.mean(np.square(X_test - X_test_pred), axis=1)"
      ]
    },
    {
      "cell_type": "code",
      "execution_count": null,
      "metadata": {
        "id": "sT6ABi5aAiCG"
      },
      "outputs": [],
      "source": [
        "mse.shape"
      ]
    },
    {
      "cell_type": "code",
      "execution_count": null,
      "metadata": {
        "id": "lM22yPIiAiCH"
      },
      "outputs": [],
      "source": [
        "from sklearn.metrics import precision_recall_curve"
      ]
    },
    {
      "cell_type": "code",
      "execution_count": null,
      "metadata": {
        "id": "K_DYWi_yAiCH"
      },
      "outputs": [],
      "source": [
        "precision, recall, umbrales = precision_recall_curve(y_test, mse)\n",
        "#Recordad: \n",
        "#The precision is intuitively the ability of the classifier not to label as positive a sample that is negative.\n",
        "#The recall is intuitively the ability of the classifier to find all the positive samples."
      ]
    },
    {
      "cell_type": "code",
      "execution_count": null,
      "metadata": {
        "id": "vN1GAxybAiCH"
      },
      "outputs": [],
      "source": [
        "plt.plot(umbrales, precision[1:], label=\"Precision\")\n",
        "plt.plot(umbrales, recall[1:], label=\"Recall\")\n",
        "plt.xlabel('Umbrales')\n",
        "plt.ylabel('Score')\n",
        "plt.legend()\n",
        "plt.grid(True)\n"
      ]
    },
    {
      "cell_type": "code",
      "execution_count": null,
      "metadata": {
        "id": "EvBuWPCNAiCH"
      },
      "outputs": [],
      "source": [
        "threshold = 10\n",
        "y_pred = [1 if i > threshold else 0 for i in mse]"
      ]
    },
    {
      "cell_type": "code",
      "execution_count": null,
      "metadata": {
        "id": "HLFyasCiAiCI"
      },
      "outputs": [],
      "source": [
        "from sklearn.metrics import confusion_matrix"
      ]
    },
    {
      "cell_type": "code",
      "execution_count": null,
      "metadata": {
        "id": "9TH6316wAiCI"
      },
      "outputs": [],
      "source": [
        "confusion_matrix(y_test, y_pred)"
      ]
    },
    {
      "cell_type": "markdown",
      "metadata": {
        "id": "P_PhvD8yAiCI"
      },
      "source": [
        "- - -\n",
        "| *Matriz Confusión*        | Predicción Negativa    | Predicción Positiva     |\n",
        "| -------------             | :-------------:          | :-------------:           |\n",
        "| **Observación Negativa** | Verdaderos Negativo (VN)  | Falsos Positivo (FP)      |\n",
        "| **Observación Positiva** | Falsos Negativo (FN)      | Verdaderos Positivos (VP) |"
      ]
    },
    {
      "cell_type": "code",
      "source": [
        "#ahora provad a cambiar los thresholds y ver cómo evoluciona la matriz de confusión"
      ],
      "metadata": {
        "id": "9H3IAngQgiMM"
      },
      "execution_count": null,
      "outputs": []
    },
    {
      "cell_type": "markdown",
      "metadata": {
        "id": "yT6cAjtaAiCJ"
      },
      "source": [
        "- - -"
      ]
    }
  ],
  "metadata": {
    "kernelspec": {
      "display_name": "Python 3",
      "language": "python",
      "name": "python3"
    },
    "language_info": {
      "codemirror_mode": {
        "name": "ipython",
        "version": 3
      },
      "file_extension": ".py",
      "mimetype": "text/x-python",
      "name": "python",
      "nbconvert_exporter": "python",
      "pygments_lexer": "ipython3",
      "version": "3.8.5"
    },
    "colab": {
      "provenance": []
    },
    "accelerator": "GPU"
  },
  "nbformat": 4,
  "nbformat_minor": 0
}