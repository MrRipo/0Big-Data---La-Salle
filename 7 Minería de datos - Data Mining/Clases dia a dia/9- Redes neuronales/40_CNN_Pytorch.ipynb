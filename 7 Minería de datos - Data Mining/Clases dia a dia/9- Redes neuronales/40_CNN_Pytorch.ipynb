{
  "nbformat": 4,
  "nbformat_minor": 0,
  "metadata": {
    "colab": {
      "provenance": []
    },
    "kernelspec": {
      "name": "python3",
      "display_name": "Python 3"
    },
    "language_info": {
      "name": "python"
    },
    "accelerator": "GPU",
    "gpuClass": "standard"
  },
  "cells": [
    {
      "cell_type": "code",
      "execution_count": null,
      "metadata": {
        "id": "Bz_EGWO0f9hp"
      },
      "outputs": [],
      "source": [
        "import torch\n",
        "import torchvision\n",
        "import torchvision.transforms as transforms"
      ]
    },
    {
      "cell_type": "markdown",
      "source": [
        "#Tipos de capas en torch"
      ],
      "metadata": {
        "id": "btEhjIqj1WyF"
      }
    },
    {
      "cell_type": "code",
      "source": [
        "#Vemos cómo es una capa Softmax: https://pytorch.org/docs/stable/generated/torch.nn.Softmax.html\n",
        "m = nn.Softmax(dim=1)\n",
        "input = torch.randn(1, 3)\n",
        "print(\"La entrada es: \\n{}\".format(input))\n",
        "output = m(input)\n",
        "print(\"La salida es: \\n{}\".format(output))\n",
        "print(\"La suma de la salida es\\n{}\".format(output.sum()))"
      ],
      "metadata": {
        "id": "tLxgrZ_wvz7A"
      },
      "execution_count": null,
      "outputs": []
    },
    {
      "cell_type": "code",
      "source": [
        "#Vemos cómo es una capa Sigmoide: https://pytorch.org/docs/stable/generated/torch.nn.Sigmoid.html\n",
        "m = nn.Sigmoid()\n",
        "input = torch.randn(1, 3)\n",
        "print(\"La entrada es: \\n{}\".format(input))\n",
        "output = m(input)\n",
        "print(\"La salida es: \\n{}\".format(output))\n",
        "print(\"La suma de la salida es\\n{}\".format(output.sum()))"
      ],
      "metadata": {
        "id": "m5GB1tflwmZW"
      },
      "execution_count": null,
      "outputs": []
    },
    {
      "cell_type": "code",
      "source": [
        "#Vemos cómo es una capa Conv2D: https://pytorch.org/docs/stable/generated/torch.nn.Conv2d.html\n",
        "m = nn.Conv2d(1, 2, 2)\n",
        "#los argumentos son: 1- canales de entrada, 2- canales de salida, 3- medida del kernel\n",
        "#tiene 2 filtros\n",
        "input = torch.randn(1,32,32)\n",
        "print(\"La size de entrada es: \\n{}\".format(input.shape))\n",
        "output = m(input)\n",
        "print(\"La size de salida es: \\n{}\".format(output.shape))"
      ],
      "metadata": {
        "id": "tCsVBXWbxA5g"
      },
      "execution_count": null,
      "outputs": []
    },
    {
      "cell_type": "code",
      "source": [
        "#Capa de Pooling: https://pytorch.org/docs/stable/generated/torch.nn.MaxPool2d.html\n",
        "m = nn.MaxPool2d(2)\n",
        "input = torch.randn(1,4,4)\n",
        "print(\"La entrada es: \\n{}\".format(input))\n",
        "\n",
        "output = m(input)\n",
        "print(\"La salida es: \\n{}\".format(output))"
      ],
      "metadata": {
        "id": "yI086YAuyXJs"
      },
      "execution_count": null,
      "outputs": []
    },
    {
      "cell_type": "code",
      "source": [
        "#Capa lineal (fully connected): https://pytorch.org/docs/stable/generated/torch.nn.Linear.html#torch.nn.Linear\n",
        "m = nn.Linear(20, 128)\n",
        "input = torch.randn(128,20)\n",
        "print(\"La size de entrada es: \\n{}\".format(input.shape))\n",
        "output = m(input)\n",
        "print(\"La size de salida es: \\n{}\".format(output.shape))"
      ],
      "metadata": {
        "id": "kHNoScnWw6Ig"
      },
      "execution_count": null,
      "outputs": []
    },
    {
      "cell_type": "code",
      "source": [
        "#Capa dropout: https://pytorch.org/docs/stable/generated/torch.nn.Dropout.html\n",
        "m = nn.Dropout(p=0.5)\n",
        "input = torch.randn(3, 3)\n",
        "print(\"La entrada es: \\n{}\".format(input))\n",
        "output = m(input)\n",
        "print(\"La salida es: \\n{}\".format(output))"
      ],
      "metadata": {
        "id": "hmAhYuiG1ERH"
      },
      "execution_count": null,
      "outputs": []
    },
    {
      "cell_type": "markdown",
      "source": [
        "#Ejemplo de CNN"
      ],
      "metadata": {
        "id": "Dq_ByvTUw6lW"
      }
    },
    {
      "cell_type": "code",
      "source": [
        "device = torch.device('cuda:0' if torch.cuda.is_available() else 'cpu')\n",
        "\n",
        "print(device)"
      ],
      "metadata": {
        "id": "vZMPxmgthLsO"
      },
      "execution_count": null,
      "outputs": []
    },
    {
      "cell_type": "code",
      "source": [
        "transform = transforms.Compose(\n",
        "    [transforms.ToTensor(),\n",
        "     transforms.Normalize((0.5, 0.5, 0.5), (0.5, 0.5, 0.5))])\n",
        "\n",
        "batch_size = 4\n",
        "\n",
        "trainset = torchvision.datasets.CIFAR10(root='./data', train=True,\n",
        "                                        download=True, transform=transform)\n",
        "trainloader = torch.utils.data.DataLoader(trainset, batch_size=batch_size,\n",
        "                                          shuffle=True, num_workers=2)\n",
        "\n",
        "testset = torchvision.datasets.CIFAR10(root='./data', train=False,\n",
        "                                       download=True, transform=transform)\n",
        "testloader = torch.utils.data.DataLoader(testset, batch_size=batch_size,\n",
        "                                         shuffle=False, num_workers=2)\n",
        "\n",
        "classes = ('plane', 'car', 'bird', 'cat',\n",
        "           'deer', 'dog', 'frog', 'horse', 'ship', 'truck')"
      ],
      "metadata": {
        "id": "QBMed_xigLwP"
      },
      "execution_count": null,
      "outputs": []
    },
    {
      "cell_type": "code",
      "source": [
        "import matplotlib.pyplot as plt\n",
        "import numpy as np\n",
        "\n",
        "# functions to show an image\n",
        "\n",
        "\n",
        "def imshow(img):\n",
        "    img = img / 2 + 0.5     # unnormalize\n",
        "    npimg = img.numpy()\n",
        "    plt.imshow(np.transpose(npimg, (1, 2, 0)))\n",
        "    plt.show()\n",
        "\n",
        "\n",
        "# get some random training images\n",
        "dataiter = iter(trainloader)\n",
        "images, labels = next(dataiter)\n",
        "\n",
        "# show images\n",
        "imshow(torchvision.utils.make_grid(images))\n",
        "# print labels\n",
        "print(' '.join(f'{classes[labels[j]]:5s}' for j in range(batch_size)))"
      ],
      "metadata": {
        "id": "VnSsKMsdgSH1"
      },
      "execution_count": null,
      "outputs": []
    },
    {
      "cell_type": "code",
      "source": [
        "import torch.nn as nn\n",
        "import torch.nn.functional as F\n",
        "\n",
        "\n",
        "class Net(nn.Module):\n",
        "    def __init__(self):\n",
        "        #definiremos en init todo lo que tenga parámetros entrenables.\n",
        "        super().__init__()\n",
        "        self.conv1 = nn.Conv2d(3, 6, 5)\n",
        "        self.pool = nn.MaxPool2d(2, 2)\n",
        "        self.conv2 = nn.Conv2d(6, 16, 5)\n",
        "        self.fc1 = nn.Linear(16 * 5 * 5, 120)\n",
        "        self.dropout1 = nn.Dropout(0.25)\n",
        "        self.fc2 = nn.Linear(120, 84)\n",
        "        self.fc3 = nn.Linear(84, 10)\n",
        "\n",
        "    def forward(self, x):\n",
        "        #NO hace falta poner en el init lo que no tenga parámetros entrenables (ejemplo: relu)\n",
        "        x = self.pool(F.relu(self.conv1(x)))\n",
        "        x = self.pool(F.relu(self.conv2(x)))\n",
        "        x = torch.flatten(x, 1) # flatten all dimensions except batch\n",
        "        x = F.relu(self.fc1(x))\n",
        "        # Pass data through dropout1\n",
        "        x = self.dropout1(x)\n",
        "        x = F.relu(self.fc2(x))\n",
        "        x = self.fc3(x)\n",
        "        return x\n",
        "\n",
        "\n",
        "\n",
        "net = Net()\n",
        "net.to(device)"
      ],
      "metadata": {
        "id": "mAaHWxhYged2"
      },
      "execution_count": null,
      "outputs": []
    },
    {
      "cell_type": "code",
      "source": [
        "import torch.optim as optim\n",
        "\n",
        "criterion = nn.CrossEntropyLoss()\n",
        "optimizer = optim.SGD(net.parameters(), lr=0.001, momentum=0.9)"
      ],
      "metadata": {
        "id": "W5M7K586gntN"
      },
      "execution_count": null,
      "outputs": []
    },
    {
      "cell_type": "code",
      "source": [
        "net.train()\n",
        "\n",
        "for epoch in range(1):  # loop over the dataset multiple times\n",
        "\n",
        "    running_loss = 0.0\n",
        "    for i, data in enumerate(trainloader, 0):\n",
        "        # get the inputs; data is a list of [inputs, labels]\n",
        "        inputs, labels = data[0].to(device), data[1].to(device)\n",
        "\n",
        "        # zero the parameter gradients\n",
        "        optimizer.zero_grad()\n",
        "\n",
        "        # forward + backward + optimize\n",
        "        outputs = net(inputs)\n",
        "        loss = criterion(outputs, labels)\n",
        "        loss.backward()\n",
        "        optimizer.step()\n",
        "\n",
        "        # print statistics\n",
        "        running_loss += loss.item()\n",
        "        if i % 2000 == 1999:    # print every 2000 mini-batches\n",
        "            print(f'[{epoch + 1}, {i + 1:5d}] loss: {running_loss / 2000:.3f}')\n",
        "            running_loss = 0.0\n",
        "\n",
        "print('Finished Training')"
      ],
      "metadata": {
        "id": "A6CyvH9Bgsru"
      },
      "execution_count": null,
      "outputs": []
    },
    {
      "cell_type": "code",
      "source": [
        "dataiter = iter(testloader)\n",
        "images, labels = next(dataiter)\n",
        "\n",
        "# print images\n",
        "imshow(torchvision.utils.make_grid(images))\n",
        "print('GroundTruth: ', ' '.join(f'{classes[labels[j]]:5s}' for j in range(4)))"
      ],
      "metadata": {
        "id": "Y9B3rf_1g050"
      },
      "execution_count": null,
      "outputs": []
    },
    {
      "cell_type": "code",
      "source": [
        "outputs = net(images.to(device))"
      ],
      "metadata": {
        "id": "rGviY2kjg7Yt"
      },
      "execution_count": null,
      "outputs": []
    },
    {
      "cell_type": "code",
      "source": [
        "_, predicted = torch.max(outputs, 1)\n",
        "\n",
        "print('Predicted: ', ' '.join(f'{classes[predicted[j]]:5s}'\n",
        "                              for j in range(4)))"
      ],
      "metadata": {
        "id": "ZuBHIqmEg_fU"
      },
      "execution_count": null,
      "outputs": []
    },
    {
      "cell_type": "code",
      "source": [
        "correct = 0\n",
        "total = 0\n",
        "# since we're not training, we don't need to calculate the gradients for our outputs\n",
        "net.eval()\n",
        "with torch.no_grad():\n",
        "    for data in testloader:\n",
        "        images, labels = data\n",
        "        images = images.to(device)\n",
        "        labels = labels.to(device)\n",
        "        # calculate outputs by running images through the network\n",
        "        outputs = net(images)\n",
        "        # the class with the highest energy is what we choose as prediction\n",
        "        _, predicted = torch.max(outputs.data, 1)\n",
        "        total += labels.size(0)\n",
        "        correct += (predicted == labels).sum().item()\n",
        "\n",
        "print(f'Accuracy of the network on the 10000 test images: {100 * correct // total} %')"
      ],
      "metadata": {
        "id": "opyWDUCJhHMF"
      },
      "execution_count": null,
      "outputs": []
    }
  ]
}