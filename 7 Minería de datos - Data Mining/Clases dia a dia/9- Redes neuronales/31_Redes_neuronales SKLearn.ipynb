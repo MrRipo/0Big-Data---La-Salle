{
  "cells": [
    {
      "cell_type": "markdown",
      "metadata": {
        "id": "WUpXwzCo_EDL"
      },
      "source": [
        "# Redes neuronales"
      ]
    },
    {
      "cell_type": "markdown",
      "metadata": {
        "id": "i-sgQVkn_EDN"
      },
      "source": [
        "### MultiLayer Perceptron\n",
        "- - -"
      ]
    },
    {
      "cell_type": "markdown",
      "metadata": {
        "id": "VVcZE_hl_EDO"
      },
      "source": [
        "Puntos clave del Perceptrón Multicapa:\n",
        "\n",
        "- Capacidad para aprender modelos no lineales.\n",
        "\n",
        "- Diferentes inicializaciones de peso aleatorio pueden llevar a una precisión de validación diferente.\n",
        "\n",
        "- MLP requiere ajustar una serie de hiperparámetros (p.ej.,  el número de neuronas ocultas, capas e iteraciones).\n",
        "\n",
        "- MLP es sensible a la escala de las características."
      ]
    },
    {
      "cell_type": "code",
      "execution_count": null,
      "metadata": {
        "id": "qtSHop6Q_EDO"
      },
      "outputs": [],
      "source": [
        "import numpy as np \n",
        "import pandas as pd\n",
        "from sklearn.preprocessing import MinMaxScaler\n",
        "from sklearn.model_selection import train_test_split\n",
        "from sklearn.neural_network import MLPClassifier\n",
        "from sklearn.neural_network import MLPRegressor\n",
        "from sklearn.model_selection import cross_val_score\n",
        "from sklearn.metrics import accuracy_score\n",
        "\n",
        "import warnings\n",
        "warnings.filterwarnings('ignore')"
      ]
    },
    {
      "cell_type": "markdown",
      "metadata": {
        "id": "YCs_PtXS_EDP"
      },
      "source": [
        "El dataset Sonar conta de datos obtenidos del rebote se señales en objetos enterrados, este dataset implica la predicción de si un objeto es una mina (cilindro metálico) o una roca, dada la fuerza de los retornos del sonar en diferentes ángulos."
      ]
    },
    {
      "cell_type": "code",
      "execution_count": null,
      "metadata": {
        "id": "h8t1sgfj_EDQ"
      },
      "outputs": [],
      "source": [
        "sonar = pd.read_csv(\"https://raw.githubusercontent.com/4data-lab/datasets/master/sonar.csv\")"
      ]
    },
    {
      "cell_type": "code",
      "execution_count": null,
      "metadata": {
        "id": "SiSbVe_g_EDQ"
      },
      "outputs": [],
      "source": [
        "sonar.head()"
      ]
    },
    {
      "cell_type": "code",
      "execution_count": null,
      "metadata": {
        "id": "CYUQc5r9_EDQ"
      },
      "outputs": [],
      "source": [
        "print(\"SHAPE DATASET\\n Número de Filas:\\t{}\\n Número de Columnas:\\t{}\".format(sonar.shape[0], sonar.shape[1]))"
      ]
    },
    {
      "cell_type": "code",
      "execution_count": null,
      "metadata": {
        "id": "be7DAWNC_EDR"
      },
      "outputs": [],
      "source": [
        "X = sonar.drop(\"Class\", 1)\n",
        "y = sonar[\"Class\"]"
      ]
    },
    {
      "cell_type": "code",
      "execution_count": null,
      "metadata": {
        "id": "-c-h0ndt_EDS"
      },
      "outputs": [],
      "source": [
        "#X = MinMaxScaler().fit_transform(X)"
      ]
    },
    {
      "cell_type": "code",
      "execution_count": null,
      "metadata": {
        "id": "eyDJduic_EDS"
      },
      "outputs": [],
      "source": [
        "X_train, X_test, y_train, y_test = train_test_split(X, y, test_size=0.20, random_state=2)"
      ]
    },
    {
      "cell_type": "code",
      "execution_count": null,
      "metadata": {
        "id": "CySVAMJ9_EDS"
      },
      "outputs": [],
      "source": [
        "MLPC = MLPClassifier(hidden_layer_sizes=(5,5,5), activation='relu', learning_rate_init=0.01, max_iter=1000, batch_size = 200, solver='adam', \n",
        "                     random_state=1)"
      ]
    },
    {
      "cell_type": "code",
      "execution_count": null,
      "metadata": {
        "id": "x1Sh7ARf_EDT"
      },
      "outputs": [],
      "source": [
        "print(\"Accuracy en cross-validation:\", round(cross_val_score(MLPC, X_train, y_train, cv=5).mean(),2))"
      ]
    },
    {
      "cell_type": "code",
      "source": [
        "#Vamos a hacer un grid search de distintos parámetros\n",
        "MLPC = MLPClassifier(early_stopping = True,max_iter=1000,activation='relu', batch_size = 200, solver='adam',random_state=1)\n",
        "parameters = {\n",
        "    'hidden_layer_sizes': [(5,5,5),(20,20),(100,100,100)],\n",
        "    'learning_rate_init' : [0.01, 0.00001]\n",
        "    }\n",
        "from sklearn.model_selection import GridSearchCV\n",
        "grid_search = GridSearchCV(MLPC, parameters, cv=5, verbose = True)\n",
        "grid_search.fit(X_train, y_train) \n",
        "means = grid_search.cv_results_['mean_test_score']\n",
        "stds = grid_search.cv_results_['std_test_score']\n",
        "for mean, std, params in zip(means, stds, grid_search.cv_results_['params']):\n",
        "    print(\"He obtenido una accuracy de %0.3f (+/-%0.03f) con los parámetros %r\" % (mean, std * 2, params))"
      ],
      "metadata": {
        "id": "HRvlEExzkVyX"
      },
      "execution_count": null,
      "outputs": []
    },
    {
      "cell_type": "code",
      "source": [
        "print(\"los mejores parámetros han sido: \", grid_search.best_params_)"
      ],
      "metadata": {
        "id": "PW0L_2nsoVqj"
      },
      "execution_count": null,
      "outputs": []
    },
    {
      "cell_type": "code",
      "source": [
        "#Ahora hacemos el fit con todo el dataset de train y vemos qué nos ha dado para el de test.\n",
        "new_MPLC = MLPClassifier(**grid_search.best_params_,max_iter=1000,activation='relu', \n",
        "                                batch_size = 200, solver='adam',random_state=1)\n",
        "new_MPLC.fit(X_train, y_train)\n",
        "predicciones = new_MPLC.predict(X_test)\n",
        "print(\"Accuracy en test: \", accuracy_score(predicciones, y_test) )"
      ],
      "metadata": {
        "id": "H2Z7fDWBjcTS"
      },
      "execution_count": null,
      "outputs": []
    },
    {
      "cell_type": "code",
      "source": [
        "import matplotlib.pyplot as plt\n",
        "print(len(new_MPLC.loss_curve_))\n",
        "plt.plot(new_MPLC.loss_curve_, color = 'Blue')\n"
      ],
      "metadata": {
        "id": "1Dmj7EGBm6bx"
      },
      "execution_count": null,
      "outputs": []
    },
    {
      "cell_type": "code",
      "source": [
        "#Vemos que la loss seguía decreciendo, vamos a intentar dejarlo entrenando unas iteraciones más.\n",
        "#añadimos estos parámetros: tol = 0, n_iter_no_change=1000\n",
        "#Ahora hacemos el fit con todo el dataset de train y vemos qué nos ha dado para el de test.\n",
        "new_MPLC = MLPClassifier(**grid_search.best_params_, early_stopping = True,\n",
        "                         max_iter=1000,activation='relu', batch_size = 200, \n",
        "                         solver='adam',random_state=1, tol = 0, n_iter_no_change=1000)\n",
        "new_MPLC.fit(X_train, y_train)\n",
        "predicciones = new_MPLC.predict(X_test)\n",
        "print(\"Accuracy en test: \", accuracy_score(predicciones, y_test) )"
      ],
      "metadata": {
        "id": "3c3aGmgbuOC9"
      },
      "execution_count": null,
      "outputs": []
    },
    {
      "cell_type": "code",
      "source": [
        "print(len(new_MPLC.loss_curve_))\n",
        "plt.plot(new_MPLC.loss_curve_, color = 'Blue')\n"
      ],
      "metadata": {
        "id": "n-HYTxgeuZLq"
      },
      "execution_count": null,
      "outputs": []
    },
    {
      "cell_type": "markdown",
      "metadata": {
        "id": "QBvEClRA_EDT"
      },
      "source": [
        "- - -\n",
        "- - -\n",
        "\n",
        "Ahora resolveremos un problema de regresión.\n",
        "\n",
        "El siguiente dataset cuenta con 768 formas de edificios que fueron generadas a partir de realizar una simulación de varios escenarios con diferencias sobre la superficie acristalada, la distribución de la superficie acristalada y la orientación, entre otros parámetros. El objetivo es hacer regresión sobre la eficiencia energética del edificio (Heating Load y Cooling Load)."
      ]
    },
    {
      "cell_type": "code",
      "execution_count": null,
      "metadata": {
        "id": "2D-LT4x1_EDU"
      },
      "outputs": [],
      "source": [
        "energy = pd.read_csv(\"https://raw.githubusercontent.com/4data-lab/datasets/master/energy.csv\")"
      ]
    },
    {
      "cell_type": "code",
      "execution_count": null,
      "metadata": {
        "id": "1mTnSb7Z_EDU"
      },
      "outputs": [],
      "source": [
        "energy.head()"
      ]
    },
    {
      "cell_type": "code",
      "execution_count": null,
      "metadata": {
        "id": "54ECVhf9_EDU"
      },
      "outputs": [],
      "source": [
        "print(\"SHAPE DATASET\\n Número de Filas:\\t{}\\n Número de Columnas:\\t{}\".format(energy.shape[0], energy.shape[1]))"
      ]
    },
    {
      "cell_type": "code",
      "execution_count": null,
      "metadata": {
        "id": "hoUs_h_l_EDV"
      },
      "outputs": [],
      "source": [
        "X = energy.drop(\"Heating Load\", 1)\n",
        "y = energy[\"Heating Load\"]"
      ]
    },
    {
      "cell_type": "code",
      "execution_count": null,
      "metadata": {
        "id": "3_v9lBIz_EDV"
      },
      "outputs": [],
      "source": [
        "X = MinMaxScaler().fit_transform(X)"
      ]
    },
    {
      "cell_type": "code",
      "execution_count": null,
      "metadata": {
        "id": "JNd1Xz4U_EDW"
      },
      "outputs": [],
      "source": [
        "X_train, X_test, y_train, y_test = train_test_split(X, y, test_size=0.20, random_state=1)"
      ]
    },
    {
      "cell_type": "code",
      "execution_count": null,
      "metadata": {
        "id": "UjwK9V5k_EDW"
      },
      "outputs": [],
      "source": [
        "MLPR = MLPRegressor(hidden_layer_sizes=(5,5), activation='relu', learning_rate_init=0.001, max_iter=2000, solver='sgd', \n",
        "                     random_state=1)"
      ]
    },
    {
      "cell_type": "code",
      "execution_count": null,
      "metadata": {
        "id": "kgTOIEmq_EDW"
      },
      "outputs": [],
      "source": [
        "#Calculamos R2 promedio dividiendo en 5 folds. Cuanto más próxima a 1, mejor.\n",
        "print(\"MULTILAYER PERCEPTRON REGRESSOR:\", round(cross_val_score(MLPR, X_train, y_train, cv=5).mean(),2))"
      ]
    },
    {
      "cell_type": "code",
      "source": [
        "#Hacemos lo mismo eliminando también el Cooling load\n",
        "X = energy.drop([\"Heating Load\", \"Cooling Load\"], 1)\n",
        "y = energy[\"Heating Load\"]\n",
        "print(X.head(3))\n"
      ],
      "metadata": {
        "id": "0ziCRPE7ZfZR"
      },
      "execution_count": null,
      "outputs": []
    },
    {
      "cell_type": "code",
      "source": [
        "X = MinMaxScaler().fit_transform(X)\n",
        "X_train, X_test, y_train, y_test = train_test_split(X, y, test_size=0.20, random_state=1)\n",
        "MLPR = MLPRegressor(hidden_layer_sizes=(5,5), activation='relu', learning_rate_init=0.001, max_iter=2000, solver='sgd', \n",
        "                     random_state=1)\n",
        "#Calculamos R2 promedio dividiendo en 5 folds. Cuanto más próxima a 1, mejor.\n",
        "print(\"MULTILAYER PERCEPTRON REGRESSOR:\", round(cross_val_score(MLPR, X_train, y_train, cv=5).mean(),2))"
      ],
      "metadata": {
        "id": "FUR86q1taYwC"
      },
      "execution_count": null,
      "outputs": []
    }
  ],
  "metadata": {
    "kernelspec": {
      "display_name": "Python 3",
      "language": "python",
      "name": "python3"
    },
    "language_info": {
      "codemirror_mode": {
        "name": "ipython",
        "version": 3
      },
      "file_extension": ".py",
      "mimetype": "text/x-python",
      "name": "python",
      "nbconvert_exporter": "python",
      "pygments_lexer": "ipython3",
      "version": "3.8.5"
    },
    "colab": {
      "provenance": []
    }
  },
  "nbformat": 4,
  "nbformat_minor": 0
}