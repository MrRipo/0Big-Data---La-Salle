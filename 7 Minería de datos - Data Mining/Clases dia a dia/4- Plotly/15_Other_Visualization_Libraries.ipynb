{
  "cells": [
    {
      "cell_type": "markdown",
      "metadata": {
        "id": "fRWuBwAloZyM"
      },
      "source": [
        "# Librerías de Visualización:"
      ]
    },
    {
      "cell_type": "markdown",
      "metadata": {
        "id": "Su4LpI-KoZyO"
      },
      "source": [
        "- - -\n",
        "### Bokeh\n",
        "\n",
        "Bokeh es una biblioteca interactiva de visualización de datos para Python y otros lenguajes que se dirige a los navegadores web modernos para su presentación. \n",
        "\n",
        "Puede crear gráficos versátiles, interactivos y sofisticados.\n",
        "\n",
        "<img src=https://i.ibb.co/9hnSxnw/01.jpg width=\"900\">\n",
        "\n",
        "https://bokeh.org/"
      ]
    },
    {
      "cell_type": "markdown",
      "metadata": {
        "id": "IScs6R_9oZyP"
      },
      "source": [
        "- - -\n",
        "### Pygal\n",
        "\n",
        "Pygal se utiliza para crear gráficos svg, que son muy utiles para hacer fácilmente gráficos interactivos.    \n",
        "\n",
        "Es bastante fácil crear gráficos de aspecto único y visualmente atractivos con esta herramienta.  \n",
        "\n",
        "<img src=https://i.ibb.co/XXFZM0j/02.jpg width=\"900\">\n",
        "\n",
        "www.pygal.org/"
      ]
    },
    {
      "cell_type": "markdown",
      "metadata": {
        "id": "uRewbKKCoZyQ"
      },
      "source": [
        "- - -\n",
        "### Pandas Visualization\n",
        "\n",
        "Proporciona lo básico para crear fácilmente gráficos de aspecto decente.\n",
        "\n",
        "<img src=https://i.ibb.co/pXqRffY/04.jpg width=\"900\">\n",
        "\n",
        "https://pandas.pydata.org/pandas-docs/stable/user_guide/visualization.html"
      ]
    },
    {
      "cell_type": "markdown",
      "metadata": {
        "id": "sLTyBQDXoZyR"
      },
      "source": [
        "- - -"
      ]
    }
  ],
  "metadata": {
    "kernelspec": {
      "display_name": "Python 3",
      "language": "python",
      "name": "python3"
    },
    "language_info": {
      "codemirror_mode": {
        "name": "ipython",
        "version": 3
      },
      "file_extension": ".py",
      "mimetype": "text/x-python",
      "name": "python",
      "nbconvert_exporter": "python",
      "pygments_lexer": "ipython3",
      "version": "3.8.5"
    },
    "colab": {
      "provenance": []
    }
  },
  "nbformat": 4,
  "nbformat_minor": 0
}