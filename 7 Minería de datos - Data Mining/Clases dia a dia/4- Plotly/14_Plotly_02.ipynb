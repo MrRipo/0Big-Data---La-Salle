{
  "cells": [
    {
      "cell_type": "markdown",
      "metadata": {
        "id": "zwkWafUChA5M"
      },
      "source": [
        "# Plotly 2\n",
        "- - -"
      ]
    },
    {
      "cell_type": "code",
      "source": [
        "!pip install --upgrade plotly"
      ],
      "metadata": {
        "id": "KHYMUX42jeAS"
      },
      "execution_count": null,
      "outputs": []
    },
    {
      "cell_type": "code",
      "execution_count": null,
      "metadata": {
        "id": "iqKHUetRhA5R"
      },
      "outputs": [],
      "source": [
        "import pandas as pd"
      ]
    },
    {
      "cell_type": "code",
      "execution_count": null,
      "metadata": {
        "id": "C9kXCXn1hA5T"
      },
      "outputs": [],
      "source": [
        "import plotly.express as px"
      ]
    },
    {
      "cell_type": "code",
      "execution_count": null,
      "metadata": {
        "id": "zuQrNui5hA5U"
      },
      "outputs": [],
      "source": [
        "df = pd.read_csv(\"https://raw.githubusercontent.com/4data-lab/datasets/master/listing.csv\")\n",
        "print(df.shape)"
      ]
    },
    {
      "cell_type": "code",
      "execution_count": null,
      "metadata": {
        "id": "0HRpJUTyhA5U"
      },
      "outputs": [],
      "source": [
        "df.columns"
      ]
    },
    {
      "cell_type": "code",
      "execution_count": null,
      "metadata": {
        "id": "cBGBZNLzhA5W"
      },
      "outputs": [],
      "source": [
        "df.head(2)"
      ]
    },
    {
      "cell_type": "code",
      "execution_count": null,
      "metadata": {
        "id": "e2YHCmXxhA5X"
      },
      "outputs": [],
      "source": [
        "df.tail(2)"
      ]
    },
    {
      "cell_type": "markdown",
      "metadata": {
        "id": "w7j4UI_phA5X"
      },
      "source": [
        "- - -"
      ]
    },
    {
      "cell_type": "markdown",
      "metadata": {
        "id": "kSvtrBUmhA5X"
      },
      "source": [
        "## Mapbox"
      ]
    },
    {
      "cell_type": "code",
      "execution_count": null,
      "metadata": {
        "id": "yEXES9Z-hA5Y"
      },
      "outputs": [],
      "source": [
        "px.scatter_mapbox(df, lat=\"latitude\", lon=\"longitude\", mapbox_style=\"stamen-terrain\")"
      ]
    },
    {
      "cell_type": "code",
      "execution_count": null,
      "metadata": {
        "id": "YaYxlcDbhA5Y"
      },
      "outputs": [],
      "source": [
        "px.scatter_mapbox(df, lat=\"latitude\", lon=\"longitude\", mapbox_style=\"stamen-toner\", \n",
        "                  zoom=12, width=1000, height=500, color=\"room_type\", opacity=0.5, \n",
        "                  hover_data=[\"neighbourhood_group\", \"neighbourhood\", \"price\"])"
      ]
    },
    {
      "cell_type": "markdown",
      "metadata": {
        "id": "9-ksWVK4hA5Z"
      },
      "source": [
        "- - -"
      ]
    },
    {
      "cell_type": "markdown",
      "metadata": {
        "id": "3fqduunghA5a"
      },
      "source": [
        "Los mapbox de Plotly disponen de diversos estilos de mapa.  \n",
        "A continuación encuentramos la lista de valores admitidos sin requerir token:"
      ]
    },
    {
      "cell_type": "markdown",
      "metadata": {
        "id": "ZYaX_9PChA5a"
      },
      "source": [
        "    'open-street-map'\n",
        "    'white-bg'\n",
        "    'carto-positron'\n",
        "    'carto-darkmatter'\n",
        "    'stamen-terrain'\n",
        "    'stamen-toner'\n",
        "    'stamen-watercolor'"
      ]
    },
    {
      "cell_type": "markdown",
      "metadata": {
        "id": "w4kklAUmhA5b"
      },
      "source": [
        "- - -"
      ]
    },
    {
      "cell_type": "code",
      "execution_count": null,
      "metadata": {
        "id": "p8oBs4_vhA5c"
      },
      "outputs": [],
      "source": [
        "px.density_mapbox(df, lat=\"latitude\", lon=\"longitude\", mapbox_style=\"carto-darkmatter\",\n",
        "                  z='price', radius=35, zoom=12, width=1000, height=600, opacity=0.6)"
      ]
    }
  ],
  "metadata": {
    "kernelspec": {
      "display_name": "Python 3",
      "language": "python",
      "name": "python3"
    },
    "language_info": {
      "codemirror_mode": {
        "name": "ipython",
        "version": 3
      },
      "file_extension": ".py",
      "mimetype": "text/x-python",
      "name": "python",
      "nbconvert_exporter": "python",
      "pygments_lexer": "ipython3",
      "version": "3.8.5"
    },
    "colab": {
      "provenance": []
    }
  },
  "nbformat": 4,
  "nbformat_minor": 0
}