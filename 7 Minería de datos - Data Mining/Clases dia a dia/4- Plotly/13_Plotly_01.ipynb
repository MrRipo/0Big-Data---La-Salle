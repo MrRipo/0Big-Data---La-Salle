{
  "cells": [
    {
      "cell_type": "markdown",
      "metadata": {
        "id": "Pe-mSAEefJw1"
      },
      "source": [
        "# Plotly 1\n",
        "- - -"
      ]
    },
    {
      "cell_type": "code",
      "source": [
        "!pip install --upgrade plotly"
      ],
      "metadata": {
        "id": "qjPQsJk-ls-5"
      },
      "execution_count": null,
      "outputs": []
    },
    {
      "cell_type": "code",
      "execution_count": null,
      "metadata": {
        "id": "RCJC6RV1fJw6"
      },
      "outputs": [],
      "source": [
        "import pandas as pd"
      ]
    },
    {
      "cell_type": "code",
      "execution_count": null,
      "metadata": {
        "id": "-fS8y97WfJw8"
      },
      "outputs": [],
      "source": [
        "import plotly.express as px"
      ]
    },
    {
      "cell_type": "code",
      "execution_count": null,
      "metadata": {
        "id": "WhKzvvDUfJw9"
      },
      "outputs": [],
      "source": [
        "df = pd.read_csv('https://raw.githubusercontent.com/4data-lab/datasets/master/pokemon.csv')"
      ]
    },
    {
      "cell_type": "code",
      "execution_count": null,
      "metadata": {
        "id": "rNpzo_hzfJw9"
      },
      "outputs": [],
      "source": [
        "df.head()"
      ]
    },
    {
      "cell_type": "code",
      "source": [
        "df.shape"
      ],
      "metadata": {
        "id": "k-HKtT5MjsGW"
      },
      "execution_count": null,
      "outputs": []
    },
    {
      "cell_type": "code",
      "execution_count": null,
      "metadata": {
        "id": "tC4eZrFqfJw-"
      },
      "outputs": [],
      "source": [
        "df.dtypes"
      ]
    },
    {
      "cell_type": "code",
      "execution_count": null,
      "metadata": {
        "id": "FjfLDzV4fJw-"
      },
      "outputs": [],
      "source": [
        "df[\"Stage\"] = df[\"Stage\"].astype('object')"
      ]
    },
    {
      "cell_type": "markdown",
      "metadata": {
        "id": "tsq-kh54fJw_"
      },
      "source": [
        "## Pie and Sunburst Chart"
      ]
    },
    {
      "cell_type": "code",
      "execution_count": null,
      "metadata": {
        "id": "pppEl1PrfJxA"
      },
      "outputs": [],
      "source": [
        "px.pie(df, values='Total', names='Type 1', title=\"Pie Chart\")"
      ]
    },
    {
      "cell_type": "code",
      "execution_count": null,
      "metadata": {
        "id": "Ndtob4FgfJxA"
      },
      "outputs": [],
      "source": [
        "sb = px.sunburst(df, path=['Type 1', 'Stage', 'Name'], color='Type 1', title='Sunburst Chart')\n",
        "sb.update_layout(autosize=False,width=800,height=800,)"
      ]
    },
    {
      "cell_type": "markdown",
      "metadata": {
        "id": "gzA0hkhWfJxA"
      },
      "source": [
        "## Treemap"
      ]
    },
    {
      "cell_type": "code",
      "execution_count": null,
      "metadata": {
        "id": "PEjIxPfQfJxB"
      },
      "outputs": [],
      "source": [
        "px.treemap(df, path=['Type 1','Legendary','Name'], values='Total', color='Attack', title='Treemap')"
      ]
    },
    {
      "cell_type": "markdown",
      "metadata": {
        "id": "39_Od1-EfJxB"
      },
      "source": [
        "## Scatter 3d"
      ]
    },
    {
      "cell_type": "code",
      "execution_count": null,
      "metadata": {
        "id": "8ZBuJjs0fJxC"
      },
      "outputs": [],
      "source": [
        "px.scatter_3d(df, x='HP', y='Attack', z='Defense', color='Stage', title=\"Scatter 3d Plot\")\n",
        "#No sabemos a qué pokemon pertenece cada punto."
      ]
    },
    {
      "cell_type": "code",
      "execution_count": null,
      "metadata": {
        "id": "gLjvCTSsfJxC"
      },
      "outputs": [],
      "source": [
        "#Ahora cuando pasamos el cursor por encima de cada punto sabemos a qué pokemon pertenece.\n",
        "px.scatter_3d(df, x='HP', y='Attack', z='Defense', title=\"Scatter 3d Plot\", color='Stage', hover_name='Name', opacity=0.75)"
      ]
    },
    {
      "cell_type": "markdown",
      "metadata": {
        "id": "Rhu-ikODfJxD"
      },
      "source": [
        "- - -"
      ]
    },
    {
      "cell_type": "markdown",
      "metadata": {
        "id": "bXLJswqafJxD"
      },
      "source": [
        "    Si no hubiésemos cambiado el dtype de df[\"Stage\"] a Object, Plotly realizaría el gráfico con una barra de color continua"
      ]
    },
    {
      "cell_type": "code",
      "source": [
        "#df[\"Stage\"] = df[\"Stage\"].astype('int64')\n",
        "df[\"Stage\"] = df[\"Stage\"].astype('object')\n"
      ],
      "metadata": {
        "id": "RTg53p_hZ9he"
      },
      "execution_count": null,
      "outputs": []
    },
    {
      "cell_type": "markdown",
      "metadata": {
        "id": "Y46-27M9fJxE"
      },
      "source": [
        "- - -"
      ]
    },
    {
      "cell_type": "code",
      "execution_count": null,
      "metadata": {
        "id": "iMv6snBdfJxF"
      },
      "outputs": [],
      "source": [
        "px.parallel_categories(df[[\"Type 1\", \"Type 2\", \"Legendary\"]], title=\"Parallel Categories\")"
      ]
    },
    {
      "cell_type": "code",
      "execution_count": null,
      "metadata": {
        "id": "NxA-gnPVfJxF"
      },
      "outputs": [],
      "source": [
        "px.parallel_coordinates(df[[\"Attack\", \"Defense\", \"Speed\"]], color=df[\"Total\"], title=\"Parallel Coordinates\")"
      ]
    },
    {
      "cell_type": "markdown",
      "metadata": {
        "id": "HKgpgkxUfJxF"
      },
      "source": [
        "## Bar plot animation"
      ]
    },
    {
      "cell_type": "code",
      "execution_count": null,
      "metadata": {
        "id": "l6avMNrMfJxG"
      },
      "outputs": [],
      "source": [
        "df = pd.read_csv('https://raw.githubusercontent.com/4data-lab/datasets/master/life-expectancy.csv')"
      ]
    },
    {
      "cell_type": "code",
      "execution_count": null,
      "metadata": {
        "id": "dcQaLgajfJxG"
      },
      "outputs": [],
      "source": [
        "df.head()"
      ]
    },
    {
      "cell_type": "code",
      "execution_count": null,
      "metadata": {
        "id": "ZIgtVzwcfJxG"
      },
      "outputs": [],
      "source": [
        "df[df['year'] == 1952]"
      ]
    },
    {
      "cell_type": "code",
      "execution_count": null,
      "metadata": {
        "id": "HACnQcUhfJxH"
      },
      "outputs": [],
      "source": [
        "px.bar(df[df['year'] == 2007 ], x=\"continent\", y=\"pop\", color=\"continent\", hover_name=\"country\")"
      ]
    },
    {
      "cell_type": "markdown",
      "metadata": {
        "id": "HqXxRI-IfJxH"
      },
      "source": [
        "    Las lineas entre las barras en este caso son la separación entre los paises."
      ]
    },
    {
      "cell_type": "code",
      "execution_count": null,
      "metadata": {
        "id": "sQPhT4iYfJxI"
      },
      "outputs": [],
      "source": [
        "px.bar(df, x=\"continent\", y=\"pop\", color=\"continent\", animation_frame=\"year\", animation_group=\"country\", range_y=[0,4000000000])"
      ]
    },
    {
      "cell_type": "markdown",
      "metadata": {
        "id": "fdjcBfFrfJxI"
      },
      "source": [
        "## Scatter plot animation"
      ]
    },
    {
      "cell_type": "code",
      "execution_count": null,
      "metadata": {
        "id": "__vUGlfZfJxJ"
      },
      "outputs": [],
      "source": [
        "px.scatter(df[df['year'] == 2007], x=\"gdpPercap\", y=\"lifeExp\", size=\"pop\", color=\"continent\", hover_name=\"country\", \n",
        "           size_max=75, range_x=[0,50000], range_y=[25,100])"
      ]
    },
    {
      "cell_type": "code",
      "execution_count": null,
      "metadata": {
        "scrolled": true,
        "id": "z1KQ91XBfJxL"
      },
      "outputs": [],
      "source": [
        "px.scatter(df, x=\"gdpPercap\", y=\"lifeExp\", animation_frame=\"year\", animation_group=\"country\", size=\"pop\", \n",
        "           color=\"continent\", hover_name=\"country\", size_max=75, range_x=[0,50000], range_y=[25,100])"
      ]
    },
    {
      "cell_type": "markdown",
      "metadata": {
        "id": "BHGIbqIgfJxM"
      },
      "source": [
        "- - -"
      ]
    },
    {
      "cell_type": "code",
      "execution_count": null,
      "metadata": {
        "scrolled": true,
        "id": "LiEcZcaAfJxM"
      },
      "outputs": [],
      "source": [
        "px.scatter_geo(df[df['year'] == 2007], locations=\"iso_alpha\", color=\"continent\", hover_name=\"country\", size=\"pop\", \n",
        "               projection=\"equirectangular\", size_max=50)\n",
        "#distintos tipos de proyecciones:'equirectangular', 'mercator', 'orthographic', \n",
        "#'natural earth', 'kavrayskiy7', 'miller', 'robinson', 'eckert4', 'azimuthal equal area',\n",
        "# 'azimuthal equidistant', 'conic equal area', 'conic conformal', 'conic equidistant', \n",
        "# 'gnomonic', 'stereographic', 'mollweide', 'hammer', 'transverse mercator', 'albers usa',\n",
        "#  'winkel tripel', 'aitoff', or 'sinusoidal'\n",
        "#Documentación completa: https://plotly.com/python-api-reference/generated/plotly.express.scatter_geo.html"
      ]
    },
    {
      "cell_type": "markdown",
      "metadata": {
        "id": "ANzxWr1pfJxO"
      },
      "source": [
        "- - -"
      ]
    },
    {
      "cell_type": "code",
      "execution_count": null,
      "metadata": {
        "id": "UAJqyFhPfJxO"
      },
      "outputs": [],
      "source": [
        "px.choropleth(df[df['year'] == 2007], locations=\"iso_alpha\", color=\"lifeExp\", hover_name=\"country\", \n",
        "              projection='kavrayskiy7', template='simple_white')\n",
        "#https://plotly.com/python/choropleth-maps/"
      ]
    },
    {
      "cell_type": "markdown",
      "metadata": {
        "id": "vv_ZtrN7fJxP"
      },
      "source": [
        "La librería Plotly viene por defecto con varios temas incorporados, entre ellos algunos empleados por otras librerías."
      ]
    },
    {
      "cell_type": "markdown",
      "metadata": {
        "id": "qa_b65-_fJxQ"
      },
      "source": [
        "    ['ggplot2', 'seaborn', 'simple_white', 'plotly', 'plotly_white', 'plotly_dark', \n",
        "    'presentation', 'xgridoff', 'ygridoff', 'gridon']"
      ]
    },
    {
      "cell_type": "markdown",
      "metadata": {
        "id": "dZgSroYDfJxQ"
      },
      "source": [
        "- - -"
      ]
    },
    {
      "cell_type": "code",
      "execution_count": null,
      "metadata": {
        "id": "TCWylGNnfJxR"
      },
      "outputs": [],
      "source": [
        "#Ahora vemos los datos de Asia solamente\n",
        "px.choropleth(df[df['year'] == 2007], locations=\"iso_alpha\", color=\"lifeExp\", hover_name=\"country\", \n",
        "              projection='kavrayskiy7', template='seaborn', scope='asia')"
      ]
    },
    {
      "cell_type": "markdown",
      "metadata": {
        "id": "is9sWmCGfJxR"
      },
      "source": [
        "A continuación se encuentra la lista de scopes de Plotly:\n",
        "\n",
        "    \"world\" | \"usa\" | \"europe\" | \"asia\" | \"africa\" | \"north america\" | \"south america\" )\n",
        "    Default: \"world\""
      ]
    },
    {
      "cell_type": "markdown",
      "metadata": {
        "id": "bJQoqiuvfJxR"
      },
      "source": [
        "- - -"
      ]
    }
  ],
  "metadata": {
    "kernelspec": {
      "display_name": "Python 3",
      "language": "python",
      "name": "python3"
    },
    "language_info": {
      "codemirror_mode": {
        "name": "ipython",
        "version": 3
      },
      "file_extension": ".py",
      "mimetype": "text/x-python",
      "name": "python",
      "nbconvert_exporter": "python",
      "pygments_lexer": "ipython3",
      "version": "3.8.5"
    },
    "colab": {
      "provenance": []
    }
  },
  "nbformat": 4,
  "nbformat_minor": 0
}