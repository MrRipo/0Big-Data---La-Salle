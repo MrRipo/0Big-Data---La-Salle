{
  "nbformat": 4,
  "nbformat_minor": 0,
  "metadata": {
    "colab": {
      "provenance": []
    },
    "kernelspec": {
      "name": "python3",
      "display_name": "Python 3"
    },
    "language_info": {
      "name": "python"
    }
  },
  "cells": [
    {
      "cell_type": "code",
      "source": [
        "#Haz un upgrade de la versión de plotly\n"
      ],
      "metadata": {
        "id": "RB5l6vuMpTkC"
      },
      "execution_count": null,
      "outputs": []
    },
    {
      "cell_type": "code",
      "source": [
        "#Haz los imports que creas convenientes"
      ],
      "metadata": {
        "id": "6ReKLv5ApKqq"
      },
      "execution_count": null,
      "outputs": []
    },
    {
      "cell_type": "code",
      "execution_count": null,
      "metadata": {
        "id": "DSvDrQANlqmi"
      },
      "outputs": [],
      "source": [
        "#Importa el dataset de la esperanza de vida"
      ]
    },
    {
      "cell_type": "code",
      "source": [
        "#¿Qué tamaño tiene el dataset?"
      ],
      "metadata": {
        "id": "0iM-LJu0pdQN"
      },
      "execution_count": null,
      "outputs": []
    },
    {
      "cell_type": "code",
      "source": [
        "#Visualiza las 10 primeras filas del dataset.\n"
      ],
      "metadata": {
        "id": "EQq6WP4lppCT"
      },
      "execution_count": null,
      "outputs": []
    },
    {
      "cell_type": "code",
      "source": [
        "#¿De qué años hay datos en el dataset?"
      ],
      "metadata": {
        "id": "7_4krFiWpja_"
      },
      "execution_count": null,
      "outputs": []
    },
    {
      "cell_type": "markdown",
      "source": [
        "1 - Dibuja un \"pie\" chart con el porcentaje de población por cada continente en el año 1957."
      ],
      "metadata": {
        "id": "eWLk97-vqavI"
      }
    },
    {
      "cell_type": "code",
      "source": [],
      "metadata": {
        "id": "zggx4mUZqrgA"
      },
      "execution_count": null,
      "outputs": []
    },
    {
      "cell_type": "markdown",
      "source": [
        "2- Muestra un sunburst en el que se vean los continentes en el círculo interior y el nombre de países en el círculo exterior."
      ],
      "metadata": {
        "id": "sFRiuZQDrh18"
      }
    },
    {
      "cell_type": "code",
      "source": [],
      "metadata": {
        "id": "2ILFtCPmqKDl"
      },
      "execution_count": null,
      "outputs": []
    },
    {
      "cell_type": "markdown",
      "source": [
        "3- Muestra un treemap en el que se segreguen los continentes y países. El tamaño de cada país debe ser proporcional a su población el año 1957."
      ],
      "metadata": {
        "id": "YlRrQlCIr9po"
      }
    },
    {
      "cell_type": "code",
      "source": [],
      "metadata": {
        "id": "f_RwEycGrxn8"
      },
      "execution_count": null,
      "outputs": []
    },
    {
      "cell_type": "markdown",
      "source": [
        "4- Muestra una animación en la que se vea cómo cambia la población de cada país a lo largo de los años en un gráfico de barras. Pinta los países de un mismo continente de un color identificativo.\n",
        "\n",
        "Ajusta los ejes convenientemente."
      ],
      "metadata": {
        "id": "Ca9oHnZmvayT"
      }
    },
    {
      "cell_type": "code",
      "source": [],
      "metadata": {
        "id": "OwIYPPLo8aef"
      },
      "execution_count": null,
      "outputs": []
    },
    {
      "cell_type": "markdown",
      "source": [
        "5- En el ejercicio anterior habrás observado que hay dos países que tienen una población muy superior a la anterior. Haz la misma animación pero excluyendo esos países y re-ajustando los ejes."
      ],
      "metadata": {
        "id": "TexOGJCF-ekR"
      }
    },
    {
      "cell_type": "code",
      "source": [],
      "metadata": {
        "id": "r7A-dpBl-3fJ"
      },
      "execution_count": null,
      "outputs": []
    },
    {
      "cell_type": "code",
      "source": [
        "#Importa el dataset de Pokemon\n"
      ],
      "metadata": {
        "id": "uNuvpO-bs8An"
      },
      "execution_count": null,
      "outputs": []
    },
    {
      "cell_type": "code",
      "source": [
        "#Muestra las cinco últimas instancias del dataset\n"
      ],
      "metadata": {
        "id": "NRSsY9t2tMKY"
      },
      "execution_count": null,
      "outputs": []
    },
    {
      "cell_type": "markdown",
      "source": [
        "6- Muestra un gráfico de barras en el que se vean tantas barras como tipos pokemons hay, tan largas como ataques tenga esa clase (barras segregadas por pokemon) y de tres colores distintos dependiendo de su Stage.\n",
        "Como solamente hay tres stages, la leyenda debería tener tres valores discretos.\n",
        "\n",
        "Al pasar el mouse por encima de las barras, deberíamos poder ver el nombre del pokemon."
      ],
      "metadata": {
        "id": "PaLYSOxRthh2"
      }
    },
    {
      "cell_type": "code",
      "source": [],
      "metadata": {
        "id": "5BMm4fUmtFoJ"
      },
      "execution_count": null,
      "outputs": []
    },
    {
      "cell_type": "markdown",
      "source": [
        "7- Haz un scatter plot en el que se muestre el ataque/defensa de cada pokemon y el tamaño de la redonda sea proporcional a sus HP. Cuando se pase el ratón por encima de cada renonda, debe salir el nombre del pokemon. \n",
        "Los colores de las redondas deben corresponder al tipo secundario de pokemon. Para aquellos Pokemons que no tengan tipo secundario, puedes usar el tipo primario.\n",
        "\n",
        " Ajusta los ejes adecuadamente."
      ],
      "metadata": {
        "id": "Xd-LzuarA4vp"
      }
    },
    {
      "cell_type": "code",
      "source": [],
      "metadata": {
        "id": "Xy0_V3LlALeS"
      },
      "execution_count": null,
      "outputs": []
    }
  ]
}