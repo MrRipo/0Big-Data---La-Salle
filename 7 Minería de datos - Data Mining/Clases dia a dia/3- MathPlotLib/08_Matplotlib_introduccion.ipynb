{
  "cells": [
    {
      "cell_type": "markdown",
      "metadata": {
        "id": "NxpEqDp68JpY"
      },
      "source": [
        "# Matplotlib 1 - Hacer un plot básico\n",
        "- - -"
      ]
    },
    {
      "cell_type": "markdown",
      "metadata": {
        "id": "kMdeq8Sm8Jpc"
      },
      "source": [
        "### Importación"
      ]
    },
    {
      "cell_type": "code",
      "execution_count": null,
      "metadata": {
        "id": "8cneeOe38Jpd"
      },
      "outputs": [],
      "source": [
        "import matplotlib.pyplot as plt"
      ]
    },
    {
      "cell_type": "markdown",
      "metadata": {
        "id": "DdVc2Q4D8Jpe"
      },
      "source": [
        "Matplotlib es capaz de funcionar con diversos tipos de datos, como por ejemplo tuplas, listas, dataframes, etc."
      ]
    },
    {
      "cell_type": "markdown",
      "metadata": {
        "collapsed": true,
        "id": "naNygrbn8Jpf"
      },
      "source": [
        "### Muestra de datos"
      ]
    },
    {
      "cell_type": "code",
      "execution_count": null,
      "metadata": {
        "id": "0k9CJb-_8Jpf"
      },
      "outputs": [],
      "source": [
        "x = [0,1,2,3,4,5]"
      ]
    },
    {
      "cell_type": "code",
      "execution_count": null,
      "metadata": {
        "id": "7wWvVFyK8Jpg"
      },
      "outputs": [],
      "source": [
        "y = [0,1,3,7,12,18]"
      ]
    },
    {
      "cell_type": "code",
      "execution_count": null,
      "metadata": {
        "id": "XnUVnbyo8Jpg"
      },
      "outputs": [],
      "source": [
        "z = [0,1,4,9,16,25]"
      ]
    },
    {
      "cell_type": "markdown",
      "metadata": {
        "id": "vRJBX38s8Jph"
      },
      "source": [
        "### Plot basico"
      ]
    },
    {
      "cell_type": "code",
      "execution_count": null,
      "metadata": {
        "id": "S6PUu_mS8Jph"
      },
      "outputs": [],
      "source": [
        "plt.plot()"
      ]
    },
    {
      "cell_type": "code",
      "execution_count": null,
      "metadata": {
        "id": "Y3-JaAt78Jpi"
      },
      "outputs": [],
      "source": [
        "plt.plot(x, y);"
      ]
    },
    {
      "cell_type": "markdown",
      "metadata": {
        "id": "YfzJItNV8Jpj"
      },
      "source": [
        "- - - \n",
        "Hay que tener en encuenta que Colab nos muestra el plot en el notebook de manera automática.\n",
        "\n",
        "\n",
        "En caso de no usar un notebook, se requeriere del comando plt.show() \n",
        "- - -"
      ]
    },
    {
      "cell_type": "markdown",
      "metadata": {
        "id": "AdyjT_Ba8Jpj"
      },
      "source": [
        "### Títulos y ejes"
      ]
    },
    {
      "cell_type": "code",
      "execution_count": null,
      "metadata": {
        "id": "WZVAR-678Jpk"
      },
      "outputs": [],
      "source": [
        "plt.plot(x, y)\n",
        "plt.title(\"Mi Título\")"
      ]
    },
    {
      "cell_type": "code",
      "execution_count": null,
      "metadata": {
        "id": "dhEkEvq28Jpl"
      },
      "outputs": [],
      "source": [
        "plt.plot(x, y)\n",
        "plt.title(\"Mi Título\", fontsize=14)"
      ]
    },
    {
      "cell_type": "code",
      "execution_count": null,
      "metadata": {
        "id": "VM1IuFe48Jpl"
      },
      "outputs": [],
      "source": [
        "plt.plot(x, y)\n",
        "plt.title(\"Mi Título\", fontsize=14)\n",
        "plt.xlabel('Mi eje X')"
      ]
    },
    {
      "cell_type": "code",
      "execution_count": null,
      "metadata": {
        "id": "hWh7mubz8Jpm"
      },
      "outputs": [],
      "source": [
        "plt.plot(x, y)\n",
        "plt.title(\"Mi Título\", fontsize=14)\n",
        "plt.xlabel('Mi eje X')\n",
        "plt.ylabel('Mi eje Y')"
      ]
    },
    {
      "cell_type": "markdown",
      "metadata": {
        "id": "0OtJhWwc8Jpn"
      },
      "source": [
        "#### Medidas de ejes"
      ]
    },
    {
      "cell_type": "code",
      "execution_count": null,
      "metadata": {
        "id": "PUMBhpCb8Jpn"
      },
      "outputs": [],
      "source": [
        "plt.plot(x, y)\n",
        "plt.title(\"Mi Título\", fontsize=14)\n",
        "plt.xlabel('Mi eje X')\n",
        "plt.ylabel('Mi eje Y')\n",
        "plt.xticks([0,0.5,1,1.5,2,2.5,3,3.5,4,4.5,5])\n",
        "plt.yticks(range(0,19,3))"
      ]
    },
    {
      "cell_type": "markdown",
      "metadata": {
        "id": "wQmf0HWx8Jpo"
      },
      "source": [
        "### Cuadrícula"
      ]
    },
    {
      "cell_type": "code",
      "execution_count": null,
      "metadata": {
        "id": "DzkNDrNA8Jpp"
      },
      "outputs": [],
      "source": [
        "plt.plot(x, y)\n",
        "plt.title(\"Mi Título\", fontsize=14)\n",
        "plt.xlabel('Mi eje X')\n",
        "plt.ylabel('Mi eje Y')\n",
        "plt.grid(True)"
      ]
    },
    {
      "cell_type": "markdown",
      "metadata": {
        "id": "Hve5Q45x8Jpp"
      },
      "source": [
        "### Multiples elementos"
      ]
    },
    {
      "cell_type": "code",
      "execution_count": null,
      "metadata": {
        "id": "BqIdaCir8Jpq"
      },
      "outputs": [],
      "source": [
        "plt.plot(x, y)\n",
        "plt.plot(x, z)\n",
        "plt.title(\"Mi Título\", fontsize=14)\n",
        "plt.xlabel('Mi eje X')\n",
        "plt.ylabel('Mi eje Y')\n",
        "plt.grid(True)"
      ]
    },
    {
      "cell_type": "markdown",
      "metadata": {
        "id": "acYm_rkR8Jpq"
      },
      "source": [
        "### Colores"
      ]
    },
    {
      "cell_type": "code",
      "execution_count": null,
      "metadata": {
        "id": "oG9rAK-F8Jpq"
      },
      "outputs": [],
      "source": [
        "plt.plot(x, y, color=\"blue\")\n",
        "plt.plot(x, z, color=\"red\")\n",
        "plt.title(\"Mi Título\", fontsize=14)\n",
        "plt.xlabel('Mi eje X')\n",
        "plt.ylabel('Mi eje Y')\n",
        "plt.grid(True)"
      ]
    },
    {
      "cell_type": "markdown",
      "metadata": {
        "id": "TXgDqdGv8Jpr"
      },
      "source": [
        "- - -\n",
        "Es posible usar valores de colores autodefinidos por matplotlib, valores hexadecimales, valores rgb y otros.\n",
        "\n",
        "`HEX -> \"#FE0000\\\"`\n",
        "\n",
        "`RGB -> (1, 0, 0)`\n",
        "\n",
        "Más información:\n",
        "\n",
        "List of named colors - **https://matplotlib.org/3.1.0/gallery/color/named_colors.html**\n",
        "\n",
        "- - -"
      ]
    },
    {
      "cell_type": "markdown",
      "metadata": {
        "id": "paiPGz988Jpr"
      },
      "source": [
        "#### Alpha"
      ]
    },
    {
      "cell_type": "code",
      "execution_count": null,
      "metadata": {
        "id": "rlJlX9zS8Jps"
      },
      "outputs": [],
      "source": [
        "#Aplha nos permite determinar la transparencia de un plot\n",
        "plt.plot(x, y, color=\"green\", alpha=0.2)\n",
        "plt.plot(x, z, color=\"red\", alpha=1)\n",
        "plt.title(\"Mi Título\", fontsize=14)\n",
        "plt.xlabel('Mi eje X')\n",
        "plt.ylabel('Mi eje Y')\n",
        "plt.grid(True)"
      ]
    },
    {
      "cell_type": "markdown",
      "metadata": {
        "id": "DfJExQTD8Jps"
      },
      "source": [
        "### Leyenda"
      ]
    },
    {
      "cell_type": "code",
      "execution_count": null,
      "metadata": {
        "id": "mYFpGdvy8Jpt"
      },
      "outputs": [],
      "source": [
        "plt.plot(x, y, color=\"green\", label= \"Línea Verde\")\n",
        "plt.plot(x, z, color=\"red\", label=\"Línea Roja\")\n",
        "plt.title(\"Mi Título\", fontsize=14)\n",
        "plt.xlabel('Mi eje X')\n",
        "plt.ylabel('Mi eje Y')\n",
        "plt.grid(True)\n",
        "plt.legend();"
      ]
    },
    {
      "cell_type": "markdown",
      "metadata": {
        "id": "ku_jH1Sv8Jpt"
      },
      "source": [
        "### Líneas y marcadores"
      ]
    },
    {
      "cell_type": "code",
      "execution_count": null,
      "metadata": {
        "id": "tm_rHoro8Jpu"
      },
      "outputs": [],
      "source": [
        "#Podemos hacer la línea más gruesa con lw\n",
        "plt.plot(x, y, color=\"green\", label= \"Línea Verde\", lw=3)\n",
        "plt.plot(x, z, color=\"red\", label=\"Línea Roja\", lw=3)\n",
        "plt.title(\"Mi Título\", fontsize=14)\n",
        "plt.xlabel('Mi eje X')\n",
        "plt.ylabel('Mi eje Y')\n",
        "plt.grid(True)\n",
        "plt.legend()"
      ]
    },
    {
      "cell_type": "code",
      "execution_count": null,
      "metadata": {
        "id": "RHpiytLk8Jpv"
      },
      "outputs": [],
      "source": [
        "#podemos escoger el tipo de línea con ls\n",
        "plt.plot(x, y, color=\"green\", label= \"Línea Verde\", lw=3, ls='-')\n",
        "plt.plot(x, z, color=\"red\", label=\"Línea Roja\", lw=3, ls='--')\n",
        "plt.title(\"Mi Título\", fontsize=14)\n",
        "plt.xlabel('Mi eje X')\n",
        "plt.ylabel('Mi eje Y')\n",
        "plt.grid(True)\n",
        "plt.legend()"
      ]
    },
    {
      "cell_type": "markdown",
      "metadata": {
        "id": "H3BXT8hS8Jpw"
      },
      "source": [
        "- - -\n",
        "Hay una gran variedad de estilos de línea, éstos son algunos de ellos.\n",
        "\n",
        "`-  -> Línea solida`\n",
        "\n",
        "`.  -> Línea de puntos`\n",
        "\n",
        "`-- -> Línea de guiones`\n",
        "\n",
        "Más información:\n",
        "\n",
        "Linestyles - **https://matplotlib.org/3.1.0/gallery/lines_bars_and_markers/linestyles.html**\n",
        "\n",
        "- - -"
      ]
    },
    {
      "cell_type": "code",
      "execution_count": null,
      "metadata": {
        "id": "AvA7k_QG8Jpx"
      },
      "outputs": [],
      "source": [
        "plt.plot(x, y, color=\"green\", label= \"Línea Verde\", lw=3, ls='--', marker=\"o\")\n",
        "plt.plot(x, z, color=\"red\", label=\"Línea Roja\", lw=3, ls='--', marker=\"o\")\n",
        "plt.title(\"Mi Título\", fontsize=14)\n",
        "plt.xlabel('Mi eje X')\n",
        "plt.ylabel('Mi eje Y')\n",
        "plt.grid(True)\n",
        "plt.legend()"
      ]
    },
    {
      "cell_type": "code",
      "execution_count": null,
      "metadata": {
        "id": "rWiKoyG08Jpy"
      },
      "outputs": [],
      "source": [
        "plt.plot(x, y, color=\"green\", label= \"Línea Verde\", lw=3, ls='--', marker=\"o\", markersize=14)\n",
        "plt.plot(x, z, color=\"red\", label=\"Línea Roja\", lw=3, ls='--', marker=\"o\", markersize=8)\n",
        "plt.title(\"Mi Título\", fontsize=14)\n",
        "plt.xlabel('Mi eje X')\n",
        "plt.ylabel('Mi eje Y')\n",
        "plt.grid(True)\n",
        "plt.legend()"
      ]
    },
    {
      "cell_type": "code",
      "execution_count": null,
      "metadata": {
        "id": "9RtRq77_8Jpz"
      },
      "outputs": [],
      "source": [
        "plt.plot(x, y, color=\"green\", label= \"Línea Verde\", lw=3, ls='--', marker=\"o\", markersize=8, markerfacecolor=\"black\")\n",
        "plt.plot(x, z, color=\"red\", label=\"Línea Roja\", lw=3, ls='--', marker=\"o\", markersize=8, markerfacecolor=\"black\")\n",
        "plt.title(\"Mi Título\", fontsize=14)\n",
        "plt.xlabel('Mi eje X')\n",
        "plt.ylabel('Mi eje Y')\n",
        "plt.grid(True)\n",
        "plt.legend()"
      ]
    },
    {
      "cell_type": "markdown",
      "metadata": {
        "id": "3jbW2whA8Jp0"
      },
      "source": [
        "- - -\n",
        "Hay distintos tipos de marcadores disponibles para usar, estos son algunos de ellos.\n",
        "\n",
        "`o  -> Circulo`\n",
        "\n",
        "`*  -> Estrella`\n",
        "\n",
        "`D -> Rombo`\n",
        "\n",
        "Más información:\n",
        "\n",
        "Linestyles - **https://matplotlib.org/3.1.1/api/markers_api.html**\n",
        "\n",
        "- - -"
      ]
    },
    {
      "cell_type": "markdown",
      "metadata": {
        "id": "36bi297_8Jp0"
      },
      "source": [
        "### Figura"
      ]
    },
    {
      "cell_type": "code",
      "execution_count": null,
      "metadata": {
        "id": "eRdaetfg8Jp0"
      },
      "outputs": [],
      "source": [
        "plt.figure(figsize=(15,7))\n",
        "plt.plot(x, y, color=\"green\", label= \"Línea Verde\", lw=3, ls='--', marker=\"o\", markersize=8, markerfacecolor=\"black\")\n",
        "plt.plot(x, z, color=\"red\", label=\"Línea Roja\", lw=3, ls='--', marker=\"o\", markersize=8, markerfacecolor=\"black\")\n",
        "plt.title(\"Mi Título\", fontsize=14)\n",
        "plt.xlabel('Mi eje X')\n",
        "plt.ylabel('Mi eje Y')\n",
        "plt.grid(True)\n",
        "plt.legend()"
      ]
    },
    {
      "cell_type": "markdown",
      "metadata": {
        "id": "If0BE9xQ8Jp1"
      },
      "source": [
        "- - -"
      ]
    }
  ],
  "metadata": {
    "kernelspec": {
      "display_name": "Python 3",
      "language": "python",
      "name": "python3"
    },
    "language_info": {
      "codemirror_mode": {
        "name": "ipython",
        "version": 3
      },
      "file_extension": ".py",
      "mimetype": "text/x-python",
      "name": "python",
      "nbconvert_exporter": "python",
      "pygments_lexer": "ipython3",
      "version": "3.8.5"
    },
    "colab": {
      "provenance": []
    }
  },
  "nbformat": 4,
  "nbformat_minor": 0
}