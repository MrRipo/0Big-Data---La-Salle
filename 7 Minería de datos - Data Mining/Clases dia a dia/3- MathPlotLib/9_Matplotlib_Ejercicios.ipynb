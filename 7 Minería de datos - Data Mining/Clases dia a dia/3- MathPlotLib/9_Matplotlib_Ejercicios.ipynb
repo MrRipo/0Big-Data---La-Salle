{
  "cells": [
    {
      "cell_type": "markdown",
      "metadata": {
        "id": "pokUob7okjA6"
      },
      "source": [
        "# Matplotlib - Ejercicios básicos\n",
        "- - -"
      ]
    },
    {
      "cell_type": "code",
      "execution_count": null,
      "metadata": {
        "id": "lAPPe-DIkjA-"
      },
      "outputs": [],
      "source": [
        "x = [0,1,2,3,4,5]\n",
        "y = [0,1,3,7,12,18]"
      ]
    },
    {
      "cell_type": "markdown",
      "metadata": {
        "id": "sMk9_d0OkjBA"
      },
      "source": [
        "1 - Realiza la importación de matplotlib.pyplot con el alias \"plt\""
      ]
    },
    {
      "cell_type": "code",
      "execution_count": null,
      "metadata": {
        "id": "P53473rMkjBB"
      },
      "outputs": [],
      "source": []
    },
    {
      "cell_type": "markdown",
      "metadata": {
        "id": "xzyJEFZlkjBB"
      },
      "source": [
        "2 - Empleado los valores de x e y que hemos definido anteriormente, y realiza un plot"
      ]
    },
    {
      "cell_type": "code",
      "execution_count": null,
      "metadata": {
        "id": "cNliyHA8kjBC"
      },
      "outputs": [],
      "source": []
    },
    {
      "cell_type": "markdown",
      "metadata": {
        "id": "dtzU9plXkjBC"
      },
      "source": [
        "3 - Agrega el título \"Gráfico de Práctica\""
      ]
    },
    {
      "cell_type": "code",
      "execution_count": null,
      "metadata": {
        "id": "SmnVNhR1kjBC"
      },
      "outputs": [],
      "source": []
    },
    {
      "cell_type": "markdown",
      "metadata": {
        "id": "UUw2ELhRkjBD"
      },
      "source": [
        "4 - Cambia el color de la línea a negro"
      ]
    },
    {
      "cell_type": "code",
      "execution_count": null,
      "metadata": {
        "id": "2AND14cskjBD"
      },
      "outputs": [],
      "source": []
    },
    {
      "cell_type": "markdown",
      "metadata": {
        "id": "O2c9GzgrkjBD"
      },
      "source": [
        "5 - Agrega una cuadrícula al fondo del plot"
      ]
    },
    {
      "cell_type": "code",
      "execution_count": null,
      "metadata": {
        "id": "G_sx0MfFkjBE"
      },
      "outputs": [],
      "source": []
    },
    {
      "cell_type": "markdown",
      "metadata": {
        "id": "GRF8XbijkjBE"
      },
      "source": [
        "6 - Emplea marcadores con forma de cuadrado"
      ]
    },
    {
      "cell_type": "code",
      "execution_count": null,
      "metadata": {
        "id": "94sZsFevkjBE"
      },
      "outputs": [],
      "source": []
    },
    {
      "cell_type": "markdown",
      "metadata": {
        "id": "KzcdPf6HkjBF"
      },
      "source": [
        "7 - Aumenta el tamaño del marcador a 7"
      ]
    },
    {
      "cell_type": "code",
      "execution_count": null,
      "metadata": {
        "id": "SrEePEPqkjBF"
      },
      "outputs": [],
      "source": []
    },
    {
      "cell_type": "markdown",
      "metadata": {
        "id": "OV3092ENkjBG"
      },
      "source": [
        "8 - Utiliza el estilo de linea \"dashdot\" (guión punto)"
      ]
    },
    {
      "cell_type": "code",
      "execution_count": null,
      "metadata": {
        "id": "0xRaPjcLkjBG"
      },
      "outputs": [],
      "source": []
    },
    {
      "cell_type": "markdown",
      "metadata": {
        "id": "JRAfy-9_kjBG"
      },
      "source": [
        "9 - Inserta una leyenda con el nombre de línea \"línea de práctica\""
      ]
    },
    {
      "cell_type": "code",
      "execution_count": null,
      "metadata": {
        "id": "qOR88zvHkjBH"
      },
      "outputs": [],
      "source": []
    },
    {
      "cell_type": "markdown",
      "metadata": {
        "id": "ioKhHwHRkjBH"
      },
      "source": [
        "10 - Cambia el tamaño de la figura a (15,5)"
      ]
    },
    {
      "cell_type": "code",
      "execution_count": null,
      "metadata": {
        "id": "eWFk69f9kjBI"
      },
      "outputs": [],
      "source": []
    },
    {
      "cell_type": "markdown",
      "metadata": {
        "id": "qAC5j3yCkjBI"
      },
      "source": [
        "- - -"
      ]
    }
  ],
  "metadata": {
    "kernelspec": {
      "display_name": "Python 3",
      "language": "python",
      "name": "python3"
    },
    "language_info": {
      "codemirror_mode": {
        "name": "ipython",
        "version": 3
      },
      "file_extension": ".py",
      "mimetype": "text/x-python",
      "name": "python",
      "nbconvert_exporter": "python",
      "pygments_lexer": "ipython3",
      "version": "3.8.5"
    },
    "colab": {
      "provenance": []
    }
  },
  "nbformat": 4,
  "nbformat_minor": 0
}