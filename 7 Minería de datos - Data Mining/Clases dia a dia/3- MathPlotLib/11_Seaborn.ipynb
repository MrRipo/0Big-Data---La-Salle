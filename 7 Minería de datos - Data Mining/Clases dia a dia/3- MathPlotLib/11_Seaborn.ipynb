{
  "cells": [
    {
      "cell_type": "markdown",
      "metadata": {
        "id": "_qhH7jpW2xGB"
      },
      "source": [
        "# Seaborn 1\n",
        "- - -"
      ]
    },
    {
      "cell_type": "markdown",
      "metadata": {
        "id": "w17q_sy92xGD"
      },
      "source": [
        "### Importación"
      ]
    },
    {
      "cell_type": "code",
      "execution_count": null,
      "metadata": {
        "id": "909qGBrf2xGE"
      },
      "outputs": [],
      "source": [
        "import pandas as pd"
      ]
    },
    {
      "cell_type": "code",
      "execution_count": null,
      "metadata": {
        "id": "7EBrL6Uq2xGF"
      },
      "outputs": [],
      "source": [
        "import matplotlib.pyplot as plt"
      ]
    },
    {
      "cell_type": "code",
      "execution_count": null,
      "metadata": {
        "id": "lAdZfkeg2xGF"
      },
      "outputs": [],
      "source": [
        "import seaborn as sns"
      ]
    },
    {
      "cell_type": "markdown",
      "metadata": {
        "collapsed": true,
        "id": "NU9b9c4O2xGF"
      },
      "source": [
        "### Muestra de datos"
      ]
    },
    {
      "cell_type": "code",
      "execution_count": null,
      "metadata": {
        "id": "F2JQH2yP2xGG"
      },
      "outputs": [],
      "source": [
        "#importamos dataset de propinas\n",
        "df = pd.read_csv(\"https://raw.githubusercontent.com/4data-lab/datasets/master/tips.csv\")"
      ]
    },
    {
      "cell_type": "code",
      "execution_count": null,
      "metadata": {
        "id": "s7zgxhcJ2xGG"
      },
      "outputs": [],
      "source": [
        "df.head()"
      ]
    },
    {
      "cell_type": "code",
      "source": [
        "df_seaborn = sns.load_dataset(\"diamonds\")\n",
        "df_seaborn.head()"
      ],
      "metadata": {
        "id": "CFNB4Si1Fz7n"
      },
      "execution_count": null,
      "outputs": []
    },
    {
      "cell_type": "markdown",
      "metadata": {
        "id": "LblHatUe2xGI"
      },
      "source": [
        "### Extra:"
      ]
    },
    {
      "cell_type": "markdown",
      "metadata": {
        "id": "KZsJhMbs2xGI"
      },
      "source": [
        "#### Mayor resolución"
      ]
    },
    {
      "cell_type": "code",
      "execution_count": null,
      "metadata": {
        "id": "m0jklqXH2xGJ"
      },
      "outputs": [],
      "source": [
        "from IPython.display import set_matplotlib_formats"
      ]
    },
    {
      "cell_type": "code",
      "execution_count": null,
      "metadata": {
        "id": "ik92q1PD2xGJ"
      },
      "outputs": [],
      "source": [
        "#podemos escoger entre los siguientes formatos: ‘png’, ‘retina’, ‘jpeg’, ‘svg’, ‘pdf’.\n",
        "set_matplotlib_formats(\"png\")"
      ]
    },
    {
      "cell_type": "markdown",
      "metadata": {
        "id": "EXFmFfYg2xGJ"
      },
      "source": [
        "#### Warnings"
      ]
    },
    {
      "cell_type": "code",
      "execution_count": null,
      "metadata": {
        "id": "ITqgv-S62xGK"
      },
      "outputs": [],
      "source": [
        "import warnings\n",
        "#https://docs.python.org/3/library/warnings.html"
      ]
    },
    {
      "cell_type": "code",
      "execution_count": null,
      "metadata": {
        "id": "-aTJLpY62xGL"
      },
      "outputs": [],
      "source": [
        "warnings.filterwarnings(action=\"ignore\")"
      ]
    },
    {
      "cell_type": "markdown",
      "metadata": {
        "id": "kgXDBDZF2xGL"
      },
      "source": [
        "- - -"
      ]
    },
    {
      "cell_type": "markdown",
      "metadata": {
        "id": "bcaaIf6Z2xGM"
      },
      "source": [
        "### Count Plot \n",
        "\n",
        "https://seaborn.pydata.org/generated/seaborn.countplot.html"
      ]
    },
    {
      "cell_type": "markdown",
      "metadata": {
        "id": "wcHJwPmq2xGM"
      },
      "source": [
        "¿Qué días de la semana se reciben más propinas?"
      ]
    },
    {
      "cell_type": "code",
      "execution_count": null,
      "metadata": {
        "id": "AG6pa8lg2xGN"
      },
      "outputs": [],
      "source": [
        "plt.figure(figsize=(10,5))\n",
        "sns.countplot(x=\"day\", data=df);"
      ]
    },
    {
      "cell_type": "markdown",
      "metadata": {
        "id": "hq2SfUSW2xGO"
      },
      "source": [
        "¿En función del almuerzo y la cena como se distribuyen las propinas en los diferentes días de la semana?"
      ]
    },
    {
      "cell_type": "code",
      "execution_count": null,
      "metadata": {
        "id": "CY1VCFSf2xGP"
      },
      "outputs": [],
      "source": [
        "plt.figure(figsize=(10,5))\n",
        "sns.countplot(x=\"time\", hue=\"day\", data=df)"
      ]
    },
    {
      "cell_type": "code",
      "source": [
        "#También podemos visualizar los datos en horizontal\n",
        "plt.figure(figsize=(10,5))\n",
        "sns.countplot(y=\"day\", hue=\"time\", data=df)"
      ],
      "metadata": {
        "id": "ddVNOCDkHNar"
      },
      "execution_count": null,
      "outputs": []
    },
    {
      "cell_type": "markdown",
      "metadata": {
        "id": "-QM6A9v72xGQ"
      },
      "source": [
        "- - -\n",
        "### Paletas de colores de Seaborn\n",
        "\n",
        "https://seaborn.pydata.org/tutorial/color_palettes.html"
      ]
    },
    {
      "cell_type": "code",
      "execution_count": null,
      "metadata": {
        "id": "Ti3adgVk2xGQ"
      },
      "outputs": [],
      "source": [
        "print(\"Paleta por defecto\")\n",
        "#Si no ponemos argumentos, nos devuelve la paleta que estamos utilizando actualmente\n",
        "paleta_por_defecto = sns.color_palette()\n",
        "sns.palplot(paleta_por_defecto)"
      ]
    },
    {
      "cell_type": "markdown",
      "metadata": {
        "id": "NL5TqV262xGR"
      },
      "source": [
        "![](https://seaborn.pydata.org/_images/color_palettes_8_0.png)"
      ]
    },
    {
      "cell_type": "code",
      "execution_count": null,
      "metadata": {
        "id": "mkBM9TiS2xGR"
      },
      "outputs": [],
      "source": [
        "#Nos devuelve 15 colores de la paleta rainbow\n",
        "print(\"Paleta Rainbow\")\n",
        "paleta_rainbow = sns.color_palette(\"rainbow\", 15)\n",
        "sns.palplot(paleta_rainbow)"
      ]
    },
    {
      "cell_type": "code",
      "execution_count": null,
      "metadata": {
        "id": "e3hhEYew2xGS"
      },
      "outputs": [],
      "source": [
        "print(\"Paleta Personalizada\")\n",
        "mi_paleta = [\"#13FCE0\", \"#1FA696\", \"#95a5a6\", \"#e74c3c\", \"#34495e\", \"#2ecc71\"]\n",
        "paleta_personalizada = sns.color_palette(mi_paleta)\n",
        "sns.palplot(paleta_personalizada)"
      ]
    },
    {
      "cell_type": "code",
      "source": [
        "#También hay temas para gráficos ya definidos\n",
        "#sns.set_theme(style=\"darkgrid\")\n",
        "sns.set_theme(style=\"white\")\n",
        "#sns.set_theme(style=\"whitegrid\")\n",
        "\n",
        "\n"
      ],
      "metadata": {
        "id": "jvHbk_bhEwgv"
      },
      "execution_count": null,
      "outputs": []
    },
    {
      "cell_type": "markdown",
      "metadata": {
        "id": "w3ncV0m62xGT"
      },
      "source": [
        "### Strip Plot"
      ]
    },
    {
      "cell_type": "code",
      "execution_count": null,
      "metadata": {
        "id": "aiB_LQT82xGT"
      },
      "outputs": [],
      "source": [
        "plt.figure(figsize=(10,5))\n",
        "sns.stripplot(x=\"day\", y=\"total_bill\", data=df)"
      ]
    },
    {
      "cell_type": "code",
      "source": [
        "plt.figure(figsize=(10,5))\n",
        "sns.stripplot(x=\"day\", y=\"total_bill\", hue = \"time\", data=df, palette = paleta_personalizada)"
      ],
      "metadata": {
        "id": "ULR5woX3NurW"
      },
      "execution_count": null,
      "outputs": []
    },
    {
      "cell_type": "markdown",
      "metadata": {
        "id": "KeZKFy3s2xGT"
      },
      "source": [
        "### Box Plot"
      ]
    },
    {
      "cell_type": "code",
      "execution_count": null,
      "metadata": {
        "id": "49xyErdh2xGU"
      },
      "outputs": [],
      "source": [
        "plt.figure(figsize=(10,5))\n",
        "sns.boxplot(x=\"day\", y=\"tip\", hue = 'sex', data=df, palette = paleta_personalizada)"
      ]
    },
    {
      "cell_type": "markdown",
      "metadata": {
        "id": "_88cBl9B2xGU"
      },
      "source": [
        "### Heatmap"
      ]
    },
    {
      "cell_type": "code",
      "execution_count": null,
      "metadata": {
        "id": "DZ50MpBi2xGU"
      },
      "outputs": [],
      "source": [
        "#Correlación de las variables numéricas\n",
        "#Nota: La correlación de una variable contra sí misma es siempre 1.\n",
        "\n",
        "df.corr()"
      ]
    },
    {
      "cell_type": "code",
      "execution_count": null,
      "metadata": {
        "id": "9A-fKwiI2xGV"
      },
      "outputs": [],
      "source": [
        "plt.figure(figsize=(5,4))\n",
        "sns.heatmap(df.corr())"
      ]
    },
    {
      "cell_type": "code",
      "execution_count": null,
      "metadata": {
        "id": "Q3xiaJeQ2xGW"
      },
      "outputs": [],
      "source": [
        "plt.figure(figsize=(5,4))\n",
        "sns.heatmap(df.corr(), cmap=\"Blues\")"
      ]
    },
    {
      "cell_type": "code",
      "execution_count": null,
      "metadata": {
        "id": "fun63rmR2xGW"
      },
      "outputs": [],
      "source": [
        "plt.figure(figsize=(5,4))\n",
        "sns.heatmap(df.corr(), cmap=\"Blues\", linewidths=2, annot=True)"
      ]
    },
    {
      "cell_type": "markdown",
      "metadata": {
        "id": "n1AEvT-_2xGX"
      },
      "source": [
        "### KDE Plot"
      ]
    },
    {
      "cell_type": "markdown",
      "metadata": {
        "id": "leOKlvQn2xGX"
      },
      "source": [
        "La gráfica de kernel density estimate (KDE) es un método para visualizar la distribución de observaciones en un conjunto de datos."
      ]
    },
    {
      "cell_type": "code",
      "execution_count": null,
      "metadata": {
        "id": "cmQ4u2UN2xGX"
      },
      "outputs": [],
      "source": [
        "plt.figure(figsize=(10,4))\n",
        "data = sns.kdeplot(df[\"total_bill\"])\n"
      ]
    },
    {
      "cell_type": "code",
      "execution_count": null,
      "metadata": {
        "id": "Xp0YpUGQ2xGY"
      },
      "outputs": [],
      "source": [
        "plt.figure(figsize=(10,4))\n",
        "sns.kdeplot(df[\"tip\"])"
      ]
    },
    {
      "cell_type": "markdown",
      "metadata": {
        "id": "YZRsz9tv2xGZ"
      },
      "source": [
        "### Dist Plot (Histogram Plot)"
      ]
    },
    {
      "cell_type": "code",
      "execution_count": null,
      "metadata": {
        "id": "oaOcmbp62xGZ"
      },
      "outputs": [],
      "source": [
        "plt.figure(figsize=(10,5))\n",
        "sns.histplot(df[\"total_bill\"], kde=True)"
      ]
    },
    {
      "cell_type": "markdown",
      "metadata": {
        "id": "cC8hrb7p2xGa"
      },
      "source": [
        "### Scatter Plot"
      ]
    },
    {
      "cell_type": "code",
      "execution_count": null,
      "metadata": {
        "id": "7zE85hmV2xGa"
      },
      "outputs": [],
      "source": [
        "plt.figure(figsize=(10,5))\n",
        "sns.scatterplot(x=\"total_bill\", y=\"tip\", hue = \"sex\", data=df)"
      ]
    },
    {
      "cell_type": "code",
      "execution_count": null,
      "metadata": {
        "scrolled": true,
        "id": "za18eQOX2xGb"
      },
      "outputs": [],
      "source": [
        "plt.figure(figsize=(10,5))\n",
        "sns.scatterplot(x=\"total_bill\", y=\"tip\", hue=\"size\", data=df)"
      ]
    },
    {
      "cell_type": "markdown",
      "metadata": {
        "id": "1EDiGGK-2xGb"
      },
      "source": [
        "- - -"
      ]
    }
  ],
  "metadata": {
    "kernelspec": {
      "display_name": "Python 3",
      "language": "python",
      "name": "python3"
    },
    "language_info": {
      "codemirror_mode": {
        "name": "ipython",
        "version": 3
      },
      "file_extension": ".py",
      "mimetype": "text/x-python",
      "name": "python",
      "nbconvert_exporter": "python",
      "pygments_lexer": "ipython3",
      "version": "3.8.5"
    },
    "colab": {
      "provenance": []
    }
  },
  "nbformat": 4,
  "nbformat_minor": 0
}