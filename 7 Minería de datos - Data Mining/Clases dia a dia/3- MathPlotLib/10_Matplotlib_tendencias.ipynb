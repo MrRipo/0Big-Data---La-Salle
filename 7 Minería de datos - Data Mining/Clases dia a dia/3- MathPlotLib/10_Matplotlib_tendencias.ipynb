{
  "cells": [
    {
      "cell_type": "markdown",
      "metadata": {
        "id": "v2JJuU7P_Kym"
      },
      "source": [
        "# Matplotlib 2 - Tendencias\n",
        "\n",
        "---"
      ]
    },
    {
      "cell_type": "markdown",
      "metadata": {
        "id": "-PYmd5ws_Kyr"
      },
      "source": [
        "Trabajaremos con un dataset obtenido de Google Trends,\n",
        "una aplicación web en la que se pueden buscar términos y ver su evolución en el tiempo en función de sus consultas en el buscador."
      ]
    },
    {
      "cell_type": "markdown",
      "metadata": {
        "id": "Zp7wg3o1_Kys"
      },
      "source": [
        "### https://trends.google.es\n",
        "- - -"
      ]
    },
    {
      "cell_type": "markdown",
      "metadata": {
        "id": "L2fvtfPB_Kys"
      },
      "source": [
        "## Visualización de series de tiempo"
      ]
    },
    {
      "cell_type": "markdown",
      "metadata": {
        "id": "hW1cgR3U_Kyt"
      },
      "source": [
        "### Importamos librerías"
      ]
    },
    {
      "cell_type": "code",
      "execution_count": null,
      "metadata": {
        "id": "YAVllr3c_Kyu"
      },
      "outputs": [],
      "source": [
        "import pandas as pd"
      ]
    },
    {
      "cell_type": "code",
      "execution_count": null,
      "metadata": {
        "id": "f2FFSDjt_Kyv"
      },
      "outputs": [],
      "source": [
        "import matplotlib.pyplot as plt"
      ]
    },
    {
      "cell_type": "markdown",
      "metadata": {
        "id": "9wUAmUJ3_Kyw"
      },
      "source": [
        "### Cargamos dataset"
      ]
    },
    {
      "cell_type": "code",
      "execution_count": null,
      "metadata": {
        "id": "5AteLQ8c_Kyx"
      },
      "outputs": [],
      "source": [
        "df = pd.read_csv(\"https://raw.githubusercontent.com/4data-lab/datasets/master/timeline.csv\")"
      ]
    },
    {
      "cell_type": "code",
      "execution_count": null,
      "metadata": {
        "id": "mES3sdsf_Kyx"
      },
      "outputs": [],
      "source": [
        "df.head()"
      ]
    },
    {
      "cell_type": "markdown",
      "metadata": {
        "id": "e57Dk3lE_Kyy"
      },
      "source": [
        "- - -"
      ]
    },
    {
      "cell_type": "code",
      "execution_count": null,
      "metadata": {
        "id": "WrRGc1_G_Kyz"
      },
      "outputs": [],
      "source": [
        "df.dtypes"
      ]
    },
    {
      "cell_type": "markdown",
      "metadata": {
        "id": "wwuzQG4e_Ky0"
      },
      "source": [
        "- - -"
      ]
    },
    {
      "cell_type": "markdown",
      "metadata": {
        "id": "um0YGS1t_Ky0"
      },
      "source": [
        "Pandas ofrece inferencia de tipos, pero es recomendable revisar los los tipos asignados por si hay que realizar alguna corrección."
      ]
    },
    {
      "cell_type": "markdown",
      "metadata": {
        "id": "P7j_ACtK_Ky1"
      },
      "source": [
        "| Dtypes  |  Uso asociado |\n",
        "|---|---|\n",
        "| object | Texto o numeración mixta y valores no numericos |\n",
        "| int64 | Números enteros |\n",
        "| float64 | Números de punto flotante |\n",
        "| bool | Valores True y False |\n",
        "| datetime64 | Valores de Fecha y Hora |\n",
        "| timedelta[ns] | Deferencia entre dos datatimes |"
      ]
    },
    {
      "cell_type": "markdown",
      "metadata": {
        "id": "Kw5hZoNZ_Ky1"
      },
      "source": [
        "- - -"
      ]
    },
    {
      "cell_type": "code",
      "execution_count": null,
      "metadata": {
        "id": "qU9fhmnX_Ky2"
      },
      "outputs": [],
      "source": [
        "df[\"fecha\"] = df[\"fecha\"].astype(\"datetime64\")"
      ]
    },
    {
      "cell_type": "code",
      "execution_count": null,
      "metadata": {
        "id": "I0k3S-lw_Ky2"
      },
      "outputs": [],
      "source": [
        "df.dtypes"
      ]
    },
    {
      "cell_type": "code",
      "execution_count": null,
      "metadata": {
        "id": "SZvkUXsd_Ky3"
      },
      "outputs": [],
      "source": [
        "df.set_index(\"fecha\", inplace=True)"
      ]
    },
    {
      "cell_type": "code",
      "execution_count": null,
      "metadata": {
        "id": "QBKUheXD_Ky4"
      },
      "outputs": [],
      "source": [
        "df.head()"
      ]
    },
    {
      "cell_type": "markdown",
      "metadata": {
        "id": "-c84SKmI_Ky4"
      },
      "source": [
        "- - -\n",
        "Los números representan el interés de búsqueda en relación con el punto más alto en el gráfico y el tiempo.\n",
        "\n",
        "Un valor de 100 es la popularidad máxima para el término.\n",
        "Un valor de 50 significa que el término es la mitad de popular.\n",
        "- - -"
      ]
    },
    {
      "cell_type": "markdown",
      "metadata": {
        "id": "lz3ZiBCA_Ky5"
      },
      "source": [
        "- - -\n",
        "#### Mismo código:"
      ]
    },
    {
      "cell_type": "raw",
      "metadata": {
        "id": "kH78asRj_Ky5"
      },
      "source": [
        "plt.figure(figsize=(16,8))\n",
        "plt.plot(df[[\"dieta\"]], color=\"royalblue\", lw=2);"
      ]
    },
    {
      "cell_type": "raw",
      "metadata": {
        "id": "sdWx0e8-_Ky6"
      },
      "source": [
        "df[[\"dieta\"]].plot(figsize=(16,8), color=\"royalblue\", lw=2);\n"
      ]
    },
    {
      "cell_type": "markdown",
      "metadata": {
        "id": "Cu2taf_O_Ky6"
      },
      "source": [
        "- - -"
      ]
    },
    {
      "cell_type": "code",
      "execution_count": null,
      "metadata": {
        "id": "gaWSLLge_Ky7"
      },
      "outputs": [],
      "source": [
        "df[[\"dieta\"]].plot(figsize=(16,8), color=\"royalblue\", lw=2)"
      ]
    },
    {
      "cell_type": "markdown",
      "metadata": {
        "id": "KsabzgCl_Ky7"
      },
      "source": [
        "- - -\n",
        "Lo primero que podemos ver es que esta serie de tiempo cuenta con Estacionalidad.\n",
        "\n",
        "Recordar que estacionalidad es la variación periódica y predecible de una serie de tiempo.\n",
        "\n",
        "Ahora intentemos con los datos de Gimnasio y finanzas...\n",
        "- - -"
      ]
    },
    {
      "cell_type": "code",
      "execution_count": null,
      "metadata": {
        "id": "B4DJWtju_Ky8"
      },
      "outputs": [],
      "source": [
        "df[[\"gimnasio\"]].plot(figsize=(16,8), color=\"darkorange\", lw=2);"
      ]
    },
    {
      "cell_type": "markdown",
      "metadata": {
        "id": "WQT81AK-_Ky8"
      },
      "source": [
        "- - -\n",
        "Gimnasio si bien presenta una estacionalidad también dispone de una tendecia ascendente.\n",
        "\n",
        "Tened en cuenta que la tendencia consiste en la evolución a largo plazo de la serie de tiempo y que es usual encontrarse con series temporales que presentan un movimiento sostenido en la misma dirección durante un amplio período de tiempo, con independencia de pequeñas oscilaciones.\n",
        "- - -"
      ]
    },
    {
      "cell_type": "code",
      "execution_count": null,
      "metadata": {
        "id": "iIdc_k_U_Ky9"
      },
      "outputs": [],
      "source": [
        "df[[\"finanzas\"]].plot(figsize=(16,8), color=\"green\", lw=2);"
      ]
    },
    {
      "cell_type": "markdown",
      "metadata": {
        "id": "2FQPSpos_Ky9"
      },
      "source": [
        "\\- - -\n",
        "En los datos de Finanzas destaca que tenemos una componente cíclica, estas componentes están formadas por fluctuaciones alrededor de la tendencia que se repiten de forma más o menos periódica y de amplitud superior al año.\n",
        "- - -"
      ]
    },
    {
      "cell_type": "markdown",
      "metadata": {
        "id": "WIqkiuUm_Ky-"
      },
      "source": [
        "### Rolling"
      ]
    },
    {
      "cell_type": "markdown",
      "metadata": {
        "id": "GETlpDvc_Ky_"
      },
      "source": [
        "En algunos casos, no es evidente identificar la tendencia y/o la componente cíclica, es por ello que haremos uso del método de Rolling.\n",
        "\n",
        "Así pues, para cada punto de tiempo, se tomara el promedio de los puntos de cada lado.\n",
        "\n",
        "Vamos a definir la cantidad de puntos a promediar como **ventana**.\n"
      ]
    },
    {
      "cell_type": "code",
      "execution_count": null,
      "metadata": {
        "id": "k9D1BXWE_KzA"
      },
      "outputs": [],
      "source": [
        "df[\"dieta\"].rolling(12).mean().plot(figsize=(16,8), color=\"royalblue\", lw=2);"
      ]
    },
    {
      "cell_type": "markdown",
      "metadata": {
        "id": "0jbK2-tq_KzC"
      },
      "source": [
        "Como se aprecia, podemos eliminar parte de la Estacionalidad y de esa manera poder visualizar la Tendencia."
      ]
    },
    {
      "cell_type": "code",
      "execution_count": null,
      "metadata": {
        "id": "YStj4Mok_KzD"
      },
      "outputs": [],
      "source": [
        "df[\"gimnasio\"].rolling(12).mean().plot(figsize=(16,8), color=\"darkorange\", lw=2);"
      ]
    },
    {
      "cell_type": "code",
      "execution_count": null,
      "metadata": {
        "id": "gN9FlZQB_KzD"
      },
      "outputs": [],
      "source": [
        "df[\"finanzas\"].rolling(12).mean().plot(figsize=(16,8), color=\"green\", lw=2);"
      ]
    },
    {
      "cell_type": "code",
      "execution_count": null,
      "metadata": {
        "id": "aucM5TcC_KzE"
      },
      "outputs": [],
      "source": [
        "df[\"dieta\"].rolling(12).mean().plot(figsize=(16,8), color=\"royalblue\", lw=2)\n",
        "df[\"gimnasio\"].rolling(12).mean().plot(figsize=(16,8), color=\"darkorange\", lw=2)\n",
        "df[\"finanzas\"].rolling(12).mean().plot(figsize=(16,8), color=\"green\", lw=2);"
      ]
    },
    {
      "cell_type": "markdown",
      "metadata": {
        "id": "RxQGWQRN_KzE"
      },
      "source": [
        "- - -\n",
        "Ahora tened en cuenta que queremos analizar mejor la estacionalidad, y no queremos vernos afectados por la tendencia.\n",
        "Para ello disponemos de la función diff.\n",
        "La tecnica se conoce como diferenciación, donde se observa la diferencia entre puntos de datos sucesivos, porque solo se observa la diferencia entre un punto de datos y el anterior."
      ]
    },
    {
      "cell_type": "code",
      "execution_count": null,
      "metadata": {
        "id": "LrgJQT5l_KzF"
      },
      "outputs": [],
      "source": [
        "df[\"dieta\"].diff().plot(figsize=(16,8), color=\"royalblue\", lw=2);"
      ]
    },
    {
      "cell_type": "code",
      "execution_count": null,
      "metadata": {
        "id": "JFXn6hPe_KzF"
      },
      "outputs": [],
      "source": [
        "df[\"gimnasio\"].diff().plot(figsize=(16,8), color=\"darkorange\", lw=2);"
      ]
    },
    {
      "cell_type": "code",
      "execution_count": null,
      "metadata": {
        "id": "g0MtHc_v_KzG"
      },
      "outputs": [],
      "source": [
        "df[\"dieta\"].diff().plot(figsize=(16,8), color=\"royalblue\", lw=2)\n",
        "df[\"gimnasio\"].diff().plot(figsize=(16,8), color=\"darkorange\", lw=2);"
      ]
    },
    {
      "cell_type": "code",
      "execution_count": null,
      "metadata": {
        "id": "Kri-iECd_KzH"
      },
      "outputs": [],
      "source": [
        "df.diff().plot(figsize=(16,8), lw=2);"
      ]
    },
    {
      "cell_type": "markdown",
      "metadata": {
        "id": "rs5wygc7_KzH"
      },
      "source": [
        "- - -"
      ]
    }
  ],
  "metadata": {
    "kernelspec": {
      "display_name": "Python 3",
      "language": "python",
      "name": "python3"
    },
    "language_info": {
      "codemirror_mode": {
        "name": "ipython",
        "version": 3
      },
      "file_extension": ".py",
      "mimetype": "text/x-python",
      "name": "python",
      "nbconvert_exporter": "python",
      "pygments_lexer": "ipython3",
      "version": "3.8.5"
    },
    "colab": {
      "provenance": []
    }
  },
  "nbformat": 4,
  "nbformat_minor": 0
}