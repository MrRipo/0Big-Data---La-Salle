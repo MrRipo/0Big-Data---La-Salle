{
  "cells": [
    {
      "cell_type": "markdown",
      "metadata": {
        "id": "vhiFZhQbX4Ha"
      },
      "source": [
        "# Seaborn - Ejercicios\n",
        "- - -"
      ]
    },
    {
      "cell_type": "code",
      "execution_count": null,
      "metadata": {
        "id": "UVwQf_oHX4Hf"
      },
      "outputs": [],
      "source": [
        "import pandas as pd"
      ]
    },
    {
      "cell_type": "code",
      "execution_count": null,
      "metadata": {
        "id": "_XshZvrlX4Hg"
      },
      "outputs": [],
      "source": [
        "import matplotlib.pyplot as plt"
      ]
    },
    {
      "cell_type": "code",
      "execution_count": null,
      "metadata": {
        "id": "JxE3OiX4X4Hh"
      },
      "outputs": [],
      "source": [
        "import seaborn as sns"
      ]
    },
    {
      "cell_type": "code",
      "execution_count": null,
      "metadata": {
        "id": "F3slLJ3LX4Hh"
      },
      "outputs": [],
      "source": [
        "import warnings"
      ]
    },
    {
      "cell_type": "code",
      "execution_count": null,
      "metadata": {
        "id": "wM2hKc4IX4Hi"
      },
      "outputs": [],
      "source": [
        "warnings.filterwarnings(action=\"ignore\")"
      ]
    },
    {
      "cell_type": "code",
      "execution_count": null,
      "metadata": {
        "id": "nKTL2rB6X4Hi"
      },
      "outputs": [],
      "source": [
        "# from IPython.display import set_matplotlib_formats"
      ]
    },
    {
      "cell_type": "code",
      "execution_count": null,
      "metadata": {
        "id": "Ty2Cd7m9X4Hi"
      },
      "outputs": [],
      "source": [
        "# set_matplotlib_formats(\"retina\")"
      ]
    },
    {
      "cell_type": "markdown",
      "metadata": {
        "id": "zFNL6MPqX4Hj"
      },
      "source": [
        "- - -"
      ]
    },
    {
      "cell_type": "code",
      "execution_count": null,
      "metadata": {
        "id": "NpLvGcdxX4Hj"
      },
      "outputs": [],
      "source": [
        "#Crea un dataframe con el dataset del titánic"
      ]
    },
    {
      "cell_type": "code",
      "execution_count": null,
      "metadata": {
        "id": "sS13dcS4X4Hj"
      },
      "outputs": [],
      "source": [
        "#Muestra las 10 primeras instancias del dataset"
      ]
    },
    {
      "cell_type": "code",
      "source": [
        "#¿Cuántos valores Nan hay por cada categoría?"
      ],
      "metadata": {
        "id": "CGP1ESKucDhw"
      },
      "execution_count": null,
      "outputs": []
    },
    {
      "cell_type": "code",
      "source": [
        "#Rellena los valores NaN con el valor promedio de su categoría\n",
        "#en el caso de variables categóricas, asígnales una categoría que tenga sentido."
      ],
      "metadata": {
        "id": "Ln4ruzL2cEWS"
      },
      "execution_count": null,
      "outputs": []
    },
    {
      "cell_type": "code",
      "source": [
        "#Vuelve a mostrar las 10 primeras muestras del dataframe (esta vez, ya no debería haber NaNs)"
      ],
      "metadata": {
        "id": "VZJ6ngUacH_p"
      },
      "execution_count": null,
      "outputs": []
    },
    {
      "cell_type": "code",
      "source": [
        "#Personaliza una paleta con los colores que más te gusten para utilizarla en los siguientes gráficos"
      ],
      "metadata": {
        "id": "3umari1VcYqY"
      },
      "execution_count": null,
      "outputs": []
    },
    {
      "cell_type": "markdown",
      "metadata": {
        "id": "X9e-C3hhX4Hl"
      },
      "source": [
        "- - -\n",
        "1 - Realiza un plot que muestre el número de pasajeros por cada clase (class) de billete.\n",
        "\n"
      ]
    },
    {
      "cell_type": "code",
      "execution_count": null,
      "metadata": {
        "id": "ZRKtZ0xAX4Hl"
      },
      "outputs": [],
      "source": []
    },
    {
      "cell_type": "markdown",
      "metadata": {
        "id": "_An6H0q4X4Hm"
      },
      "source": [
        "- - -\n",
        "2 - A continuación, crea otro plot que muestre el número de pasajeros por cada clase pero segregados por sexo."
      ]
    },
    {
      "cell_type": "code",
      "execution_count": null,
      "metadata": {
        "id": "CbQsltW3X4Hm"
      },
      "outputs": [],
      "source": []
    },
    {
      "cell_type": "markdown",
      "metadata": {
        "id": "FWt7mnfMX4Hn"
      },
      "source": [
        "- - -\n",
        "3 - Genera un plot kde de las edades de los pasajeros."
      ]
    },
    {
      "cell_type": "code",
      "execution_count": null,
      "metadata": {
        "id": "bmYBwTHoX4Hn"
      },
      "outputs": [],
      "source": []
    },
    {
      "cell_type": "markdown",
      "metadata": {
        "id": "tuaLSX43X4Hn"
      },
      "source": [
        "- - -\n",
        "4 - Genera un histograma de \"fare\" (tarifa del pasajero)."
      ]
    },
    {
      "cell_type": "code",
      "execution_count": null,
      "metadata": {
        "id": "xsNz7EAYX4Ho"
      },
      "outputs": [],
      "source": []
    },
    {
      "cell_type": "markdown",
      "metadata": {
        "id": "X_C6cEWCX4Ho"
      },
      "source": [
        "- - -\n",
        "5 - Genera un stripplot de la tarifa del pasajero según su pueblo de embarque."
      ]
    },
    {
      "cell_type": "code",
      "execution_count": null,
      "metadata": {
        "id": "UwfCFsAEX4Hp"
      },
      "outputs": [],
      "source": []
    },
    {
      "cell_type": "markdown",
      "metadata": {
        "id": "8zvvUGzSX4Hp"
      },
      "source": [
        "6 - A continuación, distingue el stripplot anterior por el sexo de los pasajeros."
      ]
    },
    {
      "cell_type": "code",
      "execution_count": null,
      "metadata": {
        "id": "w1WDGiQyX4Hp"
      },
      "outputs": [],
      "source": []
    },
    {
      "cell_type": "markdown",
      "metadata": {
        "id": "SOxakKf3X4Hq"
      },
      "source": [
        "7 - Muestra un boxplot de la tarifa del pasajero segregada por pueblo de embarque."
      ]
    },
    {
      "cell_type": "code",
      "execution_count": null,
      "metadata": {
        "id": "bRxlGZKbX4Hq"
      },
      "outputs": [],
      "source": []
    },
    {
      "cell_type": "markdown",
      "metadata": {
        "id": "JL9bUugDX4Hq"
      },
      "source": [
        "- - -\n",
        "8 - Obtén un mapa de calor del dataframe para ver la correlación entre las distintas características. ¿Qué conclusiones podemos extraer?"
      ]
    },
    {
      "cell_type": "code",
      "execution_count": null,
      "metadata": {
        "id": "sIPWHsFJX4Hr"
      },
      "outputs": [],
      "source": []
    },
    {
      "cell_type": "markdown",
      "metadata": {
        "id": "CIQx3hSAX4Hr"
      },
      "source": [
        "- - -\n",
        "9 - Lleva a cabo un scatterplot de la tarifa del pasajero y edad."
      ]
    },
    {
      "cell_type": "code",
      "execution_count": null,
      "metadata": {
        "id": "nYnfPVOYX4Hr"
      },
      "outputs": [],
      "source": []
    },
    {
      "cell_type": "markdown",
      "metadata": {
        "id": "jkztnaUEX4Hr"
      },
      "source": [
        "- - -\n",
        "10 - A continuación, distingue el scatterplot anterior por la clase en la que viajaban los pasajeros."
      ]
    },
    {
      "cell_type": "code",
      "execution_count": null,
      "metadata": {
        "id": "IGQjoPgoX4Hs"
      },
      "outputs": [],
      "source": []
    },
    {
      "cell_type": "markdown",
      "metadata": {
        "id": "Eh_zZZpOX4Hs"
      },
      "source": [
        "- - -"
      ]
    }
  ],
  "metadata": {
    "kernelspec": {
      "display_name": "Python 3",
      "language": "python",
      "name": "python3"
    },
    "language_info": {
      "codemirror_mode": {
        "name": "ipython",
        "version": 3
      },
      "file_extension": ".py",
      "mimetype": "text/x-python",
      "name": "python",
      "nbconvert_exporter": "python",
      "pygments_lexer": "ipython3",
      "version": "3.8.5"
    },
    "colab": {
      "provenance": []
    }
  },
  "nbformat": 4,
  "nbformat_minor": 0
}