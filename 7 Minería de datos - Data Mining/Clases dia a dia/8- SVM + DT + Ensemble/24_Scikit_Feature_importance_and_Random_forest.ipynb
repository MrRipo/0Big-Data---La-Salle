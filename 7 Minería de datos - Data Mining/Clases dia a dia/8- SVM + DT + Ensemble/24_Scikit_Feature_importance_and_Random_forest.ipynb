{
  "cells": [
    {
      "cell_type": "markdown",
      "metadata": {
        "id": "xT8jAbUP8a7h"
      },
      "source": [
        "# Visualizing Trees, Feature importance and Random Forest\n",
        "- - -"
      ]
    },
    {
      "cell_type": "code",
      "execution_count": null,
      "metadata": {
        "id": "nEcMZh0x8a7m"
      },
      "outputs": [],
      "source": [
        "import numpy as np\n",
        "import pandas as pd\n",
        "from sklearn.model_selection import train_test_split\n",
        "from sklearn.tree import DecisionTreeClassifier\n",
        "from sklearn.metrics import accuracy_score\n",
        "from sklearn.metrics import confusion_matrix"
      ]
    },
    {
      "cell_type": "code",
      "execution_count": null,
      "metadata": {
        "id": "t6S6hQMN8a7o"
      },
      "outputs": [],
      "source": [
        "iris = pd.read_csv(\"https://raw.githubusercontent.com/4data-lab/datasets/master/iris.csv\")"
      ]
    },
    {
      "cell_type": "code",
      "execution_count": null,
      "metadata": {
        "id": "eDSJjjo28a7p"
      },
      "outputs": [],
      "source": [
        "iris.head()"
      ]
    },
    {
      "cell_type": "code",
      "execution_count": null,
      "metadata": {
        "id": "YrooGj6t8a7q"
      },
      "outputs": [],
      "source": [
        "iris.info()"
      ]
    },
    {
      "cell_type": "code",
      "execution_count": null,
      "metadata": {
        "id": "5QzL5idg8a7q"
      },
      "outputs": [],
      "source": [
        "X = iris.drop(\"variety\", 1)\n",
        "y = iris[\"variety\"]"
      ]
    },
    {
      "cell_type": "code",
      "execution_count": null,
      "metadata": {
        "id": "_okQ5H0K8a7t"
      },
      "outputs": [],
      "source": [
        "X_train, X_test, y_train, y_test = train_test_split(X, y, stratify=y, test_size=0.50, random_state=2)"
      ]
    },
    {
      "cell_type": "code",
      "execution_count": null,
      "metadata": {
        "id": "KEvN3o2B8a7t"
      },
      "outputs": [],
      "source": [
        "DTC = DecisionTreeClassifier(random_state=1)\n",
        "DTC.fit(X_train, y_train)"
      ]
    },
    {
      "cell_type": "code",
      "execution_count": null,
      "metadata": {
        "id": "IJV-_6ck8a7v"
      },
      "outputs": [],
      "source": [
        "y_test_pred = DTC.predict(X_test)"
      ]
    },
    {
      "cell_type": "code",
      "execution_count": null,
      "metadata": {
        "id": "QfIhsoRo8a7v"
      },
      "outputs": [],
      "source": [
        "print(\"Accuracy Score:\", round(accuracy_score(y_test, y_test_pred),2))"
      ]
    },
    {
      "cell_type": "code",
      "source": [
        "confusion_matrix(y_test, y_test_pred)"
      ],
      "metadata": {
        "id": "nvMVJVTg5k0W"
      },
      "execution_count": null,
      "outputs": []
    },
    {
      "cell_type": "markdown",
      "metadata": {
        "id": "gMnFKK5V8a7w"
      },
      "source": [
        "- - -\n",
        "### Graphviz\n"
      ]
    },
    {
      "cell_type": "code",
      "execution_count": null,
      "metadata": {
        "id": "IJdPgGiY8a7w"
      },
      "outputs": [],
      "source": [
        "from sklearn.tree import export_graphviz"
      ]
    },
    {
      "cell_type": "code",
      "execution_count": null,
      "metadata": {
        "id": "mHB3JlkN8a7x"
      },
      "outputs": [],
      "source": [
        "from graphviz import Source"
      ]
    },
    {
      "cell_type": "code",
      "execution_count": null,
      "metadata": {
        "id": "ewsheg2v8a7x"
      },
      "outputs": [],
      "source": [
        "print(\"Número de filas de X_train:\", X_train.shape[0])"
      ]
    },
    {
      "cell_type": "code",
      "execution_count": null,
      "metadata": {
        "id": "aoyQlJdN8a7y"
      },
      "outputs": [],
      "source": [
        "export_graphviz(DTC, out_file=\"file.dot\", class_names=[\"Setosa\", \"Versicolor\", \"Virginica\"], \n",
        "                feature_names=X.columns, impurity=False, filled=True)"
      ]
    },
    {
      "cell_type": "code",
      "execution_count": null,
      "metadata": {
        "id": "r0sptV378a7y"
      },
      "outputs": [],
      "source": [
        "Source.from_file('file.dot')"
      ]
    },
    {
      "cell_type": "markdown",
      "metadata": {
        "id": "ridGJ-Ik8a7z"
      },
      "source": [
        "### Feature importance"
      ]
    },
    {
      "cell_type": "code",
      "execution_count": null,
      "metadata": {
        "id": "3G6wC7Uo8a7z"
      },
      "outputs": [],
      "source": [
        "print(\"Feature importances:\", DTC.feature_importances_)"
      ]
    },
    {
      "cell_type": "code",
      "execution_count": null,
      "metadata": {
        "id": "8yh3RIbF8a7z"
      },
      "outputs": [],
      "source": [
        "import matplotlib.pyplot as plt\n",
        "from IPython.display import set_matplotlib_formats\n",
        "set_matplotlib_formats(\"retina\")"
      ]
    },
    {
      "cell_type": "markdown",
      "metadata": {
        "id": "ekGONB3T8a70"
      },
      "source": [
        "    Ya tenemos los valores de Feature importance, \n",
        "    ahora obtendremos los nombres de las features de X y también una lista con el rango del número de features."
      ]
    },
    {
      "cell_type": "code",
      "execution_count": null,
      "metadata": {
        "id": "UvQk9DHf8a71"
      },
      "outputs": [],
      "source": [
        "X_train.columns"
      ]
    },
    {
      "cell_type": "code",
      "execution_count": null,
      "metadata": {
        "id": "DAsKSA7T8a71"
      },
      "outputs": [],
      "source": [
        "X_train.shape[1]"
      ]
    },
    {
      "cell_type": "code",
      "execution_count": null,
      "metadata": {
        "id": "kztjUji-8a71"
      },
      "outputs": [],
      "source": [
        "number_of_features = list(range(X_train.shape[1]))"
      ]
    },
    {
      "cell_type": "code",
      "execution_count": null,
      "metadata": {
        "id": "s9sBz6Dn8a72"
      },
      "outputs": [],
      "source": [
        "plt.barh(number_of_features, DTC.feature_importances_)\n",
        "plt.yticks(number_of_features, X.columns)\n",
        "plt.xlabel(\"Feature Importances\")\n",
        "plt.ylabel(\"Features\")\n",
        "plt.show()"
      ]
    },
    {
      "cell_type": "markdown",
      "metadata": {
        "id": "GcJisWqR8a72"
      },
      "source": [
        "- - -"
      ]
    },
    {
      "cell_type": "markdown",
      "source": [
        "##Random forest"
      ],
      "metadata": {
        "id": "jz9hEBWu4Z7V"
      }
    },
    {
      "cell_type": "code",
      "source": [
        "from sklearn.ensemble import RandomForestClassifier"
      ],
      "metadata": {
        "id": "GCY413hZ4ZcB"
      },
      "execution_count": null,
      "outputs": []
    },
    {
      "cell_type": "code",
      "source": [
        "RF = RandomForestClassifier(max_depth=10, n_estimators = 100, random_state=0)\n",
        "RF.fit(X_train, y_train)"
      ],
      "metadata": {
        "id": "5OYFBWvu4kMx"
      },
      "execution_count": null,
      "outputs": []
    },
    {
      "cell_type": "code",
      "source": [
        "y_test_rf = RF.predict(X_test)"
      ],
      "metadata": {
        "id": "CoGXLsNk5BDL"
      },
      "execution_count": null,
      "outputs": []
    },
    {
      "cell_type": "code",
      "source": [
        "print(\"Accuracy Score:\", round(accuracy_score(y_test, y_test_rf),2))"
      ],
      "metadata": {
        "id": "vR41cRsK5ERU"
      },
      "execution_count": null,
      "outputs": []
    },
    {
      "cell_type": "code",
      "source": [
        "confusion_matrix(y_test, y_test_rf)"
      ],
      "metadata": {
        "id": "722vyngQ5VGV"
      },
      "execution_count": null,
      "outputs": []
    },
    {
      "cell_type": "code",
      "source": [
        "print(\"Feature importances Random forest:\", RF.feature_importances_)\n",
        "plt.barh(number_of_features, RF.feature_importances_)\n",
        "plt.yticks(number_of_features, X.columns)\n",
        "plt.xlabel(\"Feature Importances\")\n",
        "plt.ylabel(\"Features\")\n",
        "plt.show()"
      ],
      "metadata": {
        "id": "t30xktz_6Xin"
      },
      "execution_count": null,
      "outputs": []
    },
    {
      "cell_type": "code",
      "source": [
        "# Recordad que desde Sklearn también podemos printar árboles\n",
        "from sklearn import tree\n",
        "fn=X.columns\n",
        "fig, axes = plt.subplots(nrows = 1,ncols = 5,figsize = (20,4))\n",
        "for index in range(0, 5):\n",
        "    tree.plot_tree(RF.estimators_[index],\n",
        "                   feature_names = fn, \n",
        "                   class_names=[\"Setosa\", \"Versicolor\", \"Virginica\"],\n",
        "                   filled = True,\n",
        "                   impurity=False,\n",
        "                   ax = axes[index]);\n",
        "\n",
        "    axes[index].set_title('Estimator: ' + str(index), fontsize = 11)\n",
        "fig.savefig('rf_5trees.png')"
      ],
      "metadata": {
        "id": "LJsivESO6xId"
      },
      "execution_count": null,
      "outputs": []
    }
  ],
  "metadata": {
    "kernelspec": {
      "display_name": "Python 3",
      "language": "python",
      "name": "python3"
    },
    "language_info": {
      "codemirror_mode": {
        "name": "ipython",
        "version": 3
      },
      "file_extension": ".py",
      "mimetype": "text/x-python",
      "name": "python",
      "nbconvert_exporter": "python",
      "pygments_lexer": "ipython3",
      "version": "3.8.5"
    },
    "colab": {
      "provenance": []
    }
  },
  "nbformat": 4,
  "nbformat_minor": 0
}