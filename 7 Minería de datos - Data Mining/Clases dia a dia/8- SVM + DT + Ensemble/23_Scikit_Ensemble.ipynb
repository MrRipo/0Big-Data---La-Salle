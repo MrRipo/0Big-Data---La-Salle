{
  "cells": [
    {
      "cell_type": "markdown",
      "metadata": {
        "id": "2D855RTzKvXg"
      },
      "source": [
        "# Scikit Learn - Ensemble"
      ]
    },
    {
      "cell_type": "markdown",
      "metadata": {
        "id": "as5cz85gKvXl"
      },
      "source": [
        "- - -"
      ]
    },
    {
      "cell_type": "markdown",
      "metadata": {
        "id": "uUS3iW9kKvXl"
      },
      "source": [
        "## Árboles de decisión II - Ensemble\n",
        "- - -"
      ]
    },
    {
      "cell_type": "code",
      "execution_count": null,
      "metadata": {
        "id": "qnZQYv7DKvXm"
      },
      "outputs": [],
      "source": [
        "import pandas as pd\n",
        "from sklearn.model_selection import train_test_split\n",
        "from sklearn.tree import DecisionTreeClassifier\n",
        "from sklearn.metrics import roc_auc_score\n",
        "from sklearn.model_selection import cross_val_score\n",
        "import warnings\n",
        "warnings.filterwarnings(action=\"ignore\")"
      ]
    },
    {
      "cell_type": "code",
      "execution_count": null,
      "metadata": {
        "id": "hPbWUXqwKvXp"
      },
      "outputs": [],
      "source": [
        "#Pre-procesamos igual que en el notebook de decision tree\n",
        "nba = pd.read_csv(\"https://raw.githubusercontent.com/4data-lab/datasets/master/nba_logreg.csv\")\n",
        "nba = nba.dropna()"
      ]
    },
    {
      "cell_type": "code",
      "execution_count": null,
      "metadata": {
        "id": "K_oyuYaZKvXq"
      },
      "outputs": [],
      "source": [
        "X = nba.drop([\"name\", \"target_5yrs\"], axis=1)\n",
        "y = nba[\"target_5yrs\"]"
      ]
    },
    {
      "cell_type": "code",
      "execution_count": null,
      "metadata": {
        "id": "78LQflxhKvXr"
      },
      "outputs": [],
      "source": [
        "X_train, X_test, y_train, y_test = train_test_split(X, y, stratify=y, test_size=0.30, random_state=1)"
      ]
    },
    {
      "cell_type": "code",
      "execution_count": null,
      "metadata": {
        "scrolled": true,
        "id": "lT1hvXFcKvXr"
      },
      "outputs": [],
      "source": [
        "DTC = DecisionTreeClassifier(random_state=1)"
      ]
    },
    {
      "cell_type": "code",
      "execution_count": null,
      "metadata": {
        "id": "ahHlzqptKvXs"
      },
      "outputs": [],
      "source": [
        "DTC.fit(X_train, y_train)"
      ]
    },
    {
      "cell_type": "code",
      "execution_count": null,
      "metadata": {
        "id": "xvy_FdIzKvXt"
      },
      "outputs": [],
      "source": [
        "print(\"AUC - Datos de validation\")\n",
        "cross_val_score(DTC, X_train, y_train, cv=5, scoring=\"roc_auc\").mean()"
      ]
    },
    {
      "cell_type": "markdown",
      "metadata": {
        "id": "qf8CvKXPKvXu"
      },
      "source": [
        "- - -"
      ]
    },
    {
      "cell_type": "markdown",
      "metadata": {
        "id": "lAw-L6L1KvXv"
      },
      "source": [
        "## Bagging"
      ]
    },
    {
      "cell_type": "markdown",
      "metadata": {
        "id": "ETcsEU-8KvXv"
      },
      "source": [
        "Una forma de mejorar un modelo predictivo es usando la técnica creada por Leo Breiman que denominó Bagging (aka Bootstrap Aggregating).\n",
        "\n",
        "Esta técnica consiste en crear diferentes modelos usando muestras aleatorias y luego obtener un modelo único como salida."
      ]
    },
    {
      "cell_type": "markdown",
      "metadata": {
        "id": "7UkntfGcKvXw"
      },
      "source": [
        "Para realizar la predicción todos los modelos que forman el agregado participan aportando su predicción.\n",
        "Como valor de salida, se toma la media de todas las predicciones para las variables continuas o la clase más frecuente para las variables categóricas."
      ]
    },
    {
      "cell_type": "markdown",
      "metadata": {
        "id": "L6OpNHxUKvXw"
      },
      "source": [
        "<img src=https://i.ibb.co/Ws0vgLQ/01.png width=\"600\">"
      ]
    },
    {
      "cell_type": "code",
      "execution_count": null,
      "metadata": {
        "id": "vsXw94Y6KvXx"
      },
      "outputs": [],
      "source": [
        "from sklearn.ensemble import BaggingClassifier"
      ]
    },
    {
      "cell_type": "code",
      "execution_count": null,
      "metadata": {
        "id": "KHsX8NxRKvXx"
      },
      "outputs": [],
      "source": [
        "BAGG = BaggingClassifier(base_estimator=DTC, random_state=1)"
      ]
    },
    {
      "cell_type": "code",
      "execution_count": null,
      "metadata": {
        "id": "BxZsjpmqKvXy"
      },
      "outputs": [],
      "source": [
        "BAGG.fit(X_train, y_train)"
      ]
    },
    {
      "cell_type": "code",
      "execution_count": null,
      "metadata": {
        "id": "022FA41TKvXy"
      },
      "outputs": [],
      "source": [
        "print(\"AUC - Datos de validation\")\n",
        "cross_val_score(BAGG, X_train, y_train, cv=5, scoring=\"roc_auc\").mean()"
      ]
    },
    {
      "cell_type": "markdown",
      "metadata": {
        "id": "6To3kANRKvXz"
      },
      "source": [
        "- - -"
      ]
    },
    {
      "cell_type": "markdown",
      "metadata": {
        "id": "d6U9y-e0KvXz"
      },
      "source": [
        "## Boosting"
      ]
    },
    {
      "cell_type": "markdown",
      "metadata": {
        "id": "ndNpceApKvXz"
      },
      "source": [
        "Crea una secuencia de modelos que intentan corregir los errores de los modelos anteriores, llamados weak learners.\n",
        "\n",
        "Genera un dataset en secuencia donde la predicción no fue correcta, de forma que cada modelo aprende de los errores del anterior. \n",
        "\n",
        "Los resultados se combinan para crear una predicción de salida final, al igual que en bagging."
      ]
    },
    {
      "cell_type": "markdown",
      "metadata": {
        "id": "UtRP1LFuKvX0"
      },
      "source": [
        "<img src=https://i.ibb.co/HP0jWqh/02.png width=\"700\">"
      ]
    },
    {
      "cell_type": "code",
      "execution_count": null,
      "metadata": {
        "id": "F_FQ6apdKvX0"
      },
      "outputs": [],
      "source": [
        "from sklearn.ensemble import AdaBoostClassifier"
      ]
    },
    {
      "cell_type": "code",
      "execution_count": null,
      "metadata": {
        "id": "LFsR8fU4KvX0"
      },
      "outputs": [],
      "source": [
        "#Por defecto, ya usa un Decision Tree\n",
        "BOOS = AdaBoostClassifier(random_state=1)"
      ]
    },
    {
      "cell_type": "code",
      "execution_count": null,
      "metadata": {
        "id": "rFvLapaSKvX1"
      },
      "outputs": [],
      "source": [
        "BOOS.fit(X_train, y_train)"
      ]
    },
    {
      "cell_type": "code",
      "execution_count": null,
      "metadata": {
        "id": "Co2XWRvmKvX1"
      },
      "outputs": [],
      "source": [
        "print(\"AUC - Datos de validation\")\n",
        "cross_val_score(BOOS, X_train, y_train, cv=5, scoring=\"roc_auc\").mean()"
      ]
    },
    {
      "cell_type": "markdown",
      "metadata": {
        "id": "tTH6_A06KvX2"
      },
      "source": [
        "- - -"
      ]
    },
    {
      "cell_type": "markdown",
      "metadata": {
        "id": "ZDkkqzF0KvX3"
      },
      "source": [
        "## Voting"
      ]
    },
    {
      "cell_type": "markdown",
      "metadata": {
        "id": "BgAOni9gKvX4"
      },
      "source": [
        "<img src=https://i.ibb.co/C2jLscf/03.png width=\"400\">"
      ]
    },
    {
      "cell_type": "code",
      "execution_count": null,
      "metadata": {
        "id": "UPKXF-8sKvX5"
      },
      "outputs": [],
      "source": [
        "from sklearn.ensemble import VotingClassifier\n",
        "from sklearn.linear_model import LogisticRegression\n",
        "from sklearn.neighbors import KNeighborsClassifier"
      ]
    },
    {
      "cell_type": "code",
      "execution_count": null,
      "metadata": {
        "id": "gJ6RMiwNKvX7"
      },
      "outputs": [],
      "source": [
        "KNN = KNeighborsClassifier(n_neighbors=5)"
      ]
    },
    {
      "cell_type": "code",
      "execution_count": null,
      "metadata": {
        "id": "ci8g8oj7KvX7"
      },
      "outputs": [],
      "source": [
        "LR = LogisticRegression(random_state=1)"
      ]
    },
    {
      "cell_type": "code",
      "execution_count": null,
      "metadata": {
        "id": "Pz47sUv0KvX7"
      },
      "outputs": [],
      "source": [
        "VOTI = VotingClassifier(estimators=[(\"DTC\", DTC), (\"LR\", LR), (\"KNN\", KNN)], voting=\"soft\")"
      ]
    },
    {
      "cell_type": "code",
      "execution_count": null,
      "metadata": {
        "id": "uVKFt6hcKvX8"
      },
      "outputs": [],
      "source": [
        "VOTI.fit(X_train, y_train)"
      ]
    },
    {
      "cell_type": "code",
      "execution_count": null,
      "metadata": {
        "id": "K1WRWkhwKvX8"
      },
      "outputs": [],
      "source": [
        "print(\"AUC - Datos de validation\")\n",
        "cross_val_score(VOTI, X_train, y_train, cv=5, scoring=\"roc_auc\").mean()"
      ]
    },
    {
      "cell_type": "markdown",
      "metadata": {
        "id": "W8-FES7vKvX-"
      },
      "source": [
        "- - -"
      ]
    },
    {
      "cell_type": "markdown",
      "metadata": {
        "id": "f_kIzL1JKvX-"
      },
      "source": [
        "#### Tipo de votación:\n",
        "\n",
        "\n",
        "\n",
        "- - -\n",
        "Imagina que disponemos de las siguientes probabilidades:\n",
        "\n",
        "**0.45 0.45 0.90**\n",
        "\n",
        "Hard Vote daría unvotación de 2 votos en contra y 1 voto a favor, por lo que se clasificaría como \"negativo\".\n",
        "\n",
        "Soft Vote obtendría el promedio de las probabilidades, que es 0.6 y clasificaría como \"positivo\".\n",
        "- - -\n",
        "</p>\n",
        "</details>"
      ]
    }
  ],
  "metadata": {
    "kernelspec": {
      "display_name": "Python 3",
      "language": "python",
      "name": "python3"
    },
    "language_info": {
      "codemirror_mode": {
        "name": "ipython",
        "version": 3
      },
      "file_extension": ".py",
      "mimetype": "text/x-python",
      "name": "python",
      "nbconvert_exporter": "python",
      "pygments_lexer": "ipython3",
      "version": "3.8.5"
    },
    "colab": {
      "provenance": []
    }
  },
  "nbformat": 4,
  "nbformat_minor": 0
}