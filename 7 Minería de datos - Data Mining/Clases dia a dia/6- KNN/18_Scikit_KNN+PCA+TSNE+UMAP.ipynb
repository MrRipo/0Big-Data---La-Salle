{
  "nbformat": 4,
  "nbformat_minor": 0,
  "metadata": {
    "colab": {
      "provenance": []
    },
    "kernelspec": {
      "name": "python3",
      "display_name": "Python 3"
    },
    "language_info": {
      "name": "python"
    }
  },
  "cells": [
    {
      "cell_type": "markdown",
      "source": [
        "#Análisis del dataset de semillas de calabaza"
      ],
      "metadata": {
        "id": "056VX03ucRwn"
      }
    },
    {
      "cell_type": "code",
      "execution_count": null,
      "metadata": {
        "id": "Iyf9_N7NPCZr"
      },
      "outputs": [],
      "source": [
        "from scipy.io.arff import loadarff\n",
        "import pandas as pd\n"
      ]
    },
    {
      "cell_type": "code",
      "source": [
        "data = loadarff('Pumpkin_Seeds_Dataset.arff')\n",
        "#descripción del dataset\n",
        "print(data[1]) #hay dos variedades de semillas: “Ürgüp Sivrisi” y “Çerçevelik”.\n",
        "#features\n",
        "df = pd.DataFrame(data[0])"
      ],
      "metadata": {
        "id": "xKKH2lcNPxQn"
      },
      "execution_count": null,
      "outputs": []
    },
    {
      "cell_type": "code",
      "source": [
        "df.head()"
      ],
      "metadata": {
        "id": "9pohvbwOPovx"
      },
      "execution_count": null,
      "outputs": []
    },
    {
      "cell_type": "code",
      "source": [
        "df.info()"
      ],
      "metadata": {
        "id": "JpgCPqVKVbb3"
      },
      "execution_count": null,
      "outputs": []
    },
    {
      "cell_type": "code",
      "source": [
        "#Nuestro target es el tipo de semilla\n",
        "X = df.drop([\"Class\"], axis=1)\n",
        "print(X)\n",
        "y = df[\"Class\"].astype(str)"
      ],
      "metadata": {
        "id": "KDBCaMkoVfij"
      },
      "execution_count": null,
      "outputs": []
    },
    {
      "cell_type": "code",
      "source": [
        "#Analizamos la variable target\n",
        "target_names = y.unique()\n",
        "print(y.unique())"
      ],
      "metadata": {
        "id": "qOsWI7atYd0u"
      },
      "execution_count": null,
      "outputs": []
    },
    {
      "cell_type": "code",
      "source": [
        "#Borramos el contenido que no nos interesa\n",
        "y = y.str.replace(\"b'\", \"\") #borramos el prefijo\n",
        "y = y.str.replace(\"'\", \"\") #borramos el sufijo\n",
        "print(y.unique())"
      ],
      "metadata": {
        "id": "3BNrBczdYo4l"
      },
      "execution_count": null,
      "outputs": []
    },
    {
      "cell_type": "code",
      "source": [
        "#Si nos interesan etiquetas numéricas, las convertimos.\n",
        "y =  y.replace({\"CERCEVELIK\":0, \"URGUP_SIVRISI\":1})\n",
        "print(y.unique())"
      ],
      "metadata": {
        "id": "cHcQ1KJZV94b"
      },
      "execution_count": null,
      "outputs": []
    },
    {
      "cell_type": "markdown",
      "source": [
        "#KNN\n"
      ],
      "metadata": {
        "id": "jcs3zVpUcH0N"
      }
    },
    {
      "cell_type": "code",
      "source": [
        "from sklearn.model_selection import train_test_split"
      ],
      "metadata": {
        "id": "kp9mOWvDVrnW"
      },
      "execution_count": null,
      "outputs": []
    },
    {
      "cell_type": "code",
      "source": [
        "X_train, X_test, y_train, y_test = train_test_split(X, y, test_size=0.35, random_state=10)"
      ],
      "metadata": {
        "id": "km_lqQIuVw59"
      },
      "execution_count": null,
      "outputs": []
    },
    {
      "cell_type": "code",
      "source": [
        "from sklearn.neighbors import KNeighborsClassifier"
      ],
      "metadata": {
        "id": "KigdVUELVzC1"
      },
      "execution_count": null,
      "outputs": []
    },
    {
      "cell_type": "code",
      "source": [
        "KNN = KNeighborsClassifier(n_neighbors=7)\n",
        "KNN.fit(X_train, y_train)"
      ],
      "metadata": {
        "id": "NJJo3nadVzo6"
      },
      "execution_count": null,
      "outputs": []
    },
    {
      "cell_type": "code",
      "source": [
        "y_train_pred = KNN.predict(X_train)"
      ],
      "metadata": {
        "id": "ErGDwBe1YzVM"
      },
      "execution_count": null,
      "outputs": []
    },
    {
      "cell_type": "code",
      "source": [
        "y_test_pred = KNN.predict(X_test)"
      ],
      "metadata": {
        "id": "wcCTiaPWY0vk"
      },
      "execution_count": null,
      "outputs": []
    },
    {
      "cell_type": "code",
      "source": [
        "from sklearn.metrics import accuracy_score"
      ],
      "metadata": {
        "id": "Aw8eFheEY2Pl"
      },
      "execution_count": null,
      "outputs": []
    },
    {
      "cell_type": "code",
      "source": [
        "print(\"Accuracy - Datos de train: {} \" .format(accuracy_score(y_train, y_train_pred)))\n",
        "print(\"Accuracy - Datos de test: {} \". format(accuracy_score(y_test, y_test_pred)))"
      ],
      "metadata": {
        "id": "8C4ZPNavY34U"
      },
      "execution_count": null,
      "outputs": []
    },
    {
      "cell_type": "code",
      "source": [
        "train_score = []\n",
        "test_score = []\n",
        "k_value = list(range(1, 50))"
      ],
      "metadata": {
        "id": "uuTlpLlnY7Rr"
      },
      "execution_count": null,
      "outputs": []
    },
    {
      "cell_type": "code",
      "source": [
        "#Vamos a hacer un barrido con distintos hiperparámetros\n",
        "for i in k_value:\n",
        "    KNN = KNeighborsClassifier(n_neighbors=i)\n",
        "    KNN.fit(X_train,y_train)\n",
        "    y_train_pred = KNN.predict(X_train)\n",
        "    train_score.append(accuracy_score(y_train, y_train_pred))\n",
        "    y_test_pred = KNN.predict(X_test)\n",
        "    test_score.append(accuracy_score(y_test, y_test_pred))"
      ],
      "metadata": {
        "id": "aUERDlBGY9uT"
      },
      "execution_count": null,
      "outputs": []
    },
    {
      "cell_type": "code",
      "source": [
        "import matplotlib.pyplot as plt\n",
        "from IPython.display import set_matplotlib_formats\n",
        "set_matplotlib_formats(\"retina\")"
      ],
      "metadata": {
        "id": "VWVtZQOYZDl8"
      },
      "execution_count": null,
      "outputs": []
    },
    {
      "cell_type": "code",
      "source": [
        "plt.figure(figsize=(10,6))\n",
        "plt.plot(k_value, train_score, color=\"blue\", label = \"accuracy train\")\n",
        "plt.plot(k_value, test_score, color=\"red\", label = \"accuracy test\")\n",
        "plt.legend()\n"
      ],
      "metadata": {
        "id": "9C_pyp80ZHDS"
      },
      "execution_count": null,
      "outputs": []
    },
    {
      "cell_type": "code",
      "source": [
        "#Realizamos la misma tarea pero con un método de SKLEARN\n",
        "\n",
        "from sklearn.model_selection import GridSearchCV\n",
        "\n",
        "grid = GridSearchCV(estimator=KNN,\n",
        "             param_grid={'n_neighbors': [1, 30]},scoring='accuracy', return_train_score=True,verbose=1)\n",
        "# hacemos fit del modelo\n",
        "grid_search=grid.fit(X_train, y_train)\n",
        "#Hace 5-fold cross validation automáticamente"
      ],
      "metadata": {
        "id": "_RqWzEkbZars"
      },
      "execution_count": null,
      "outputs": []
    },
    {
      "cell_type": "code",
      "source": [
        "print(\"El mejor parámetro ha sido: \" + str(grid_search.best_params_))\n",
        "accuracy = grid_search.best_score_ *100\n",
        "print(\"Con una accuracy de : {:.2f}%\".format(accuracy) )"
      ],
      "metadata": {
        "id": "l90RvBaea_XD"
      },
      "execution_count": null,
      "outputs": []
    },
    {
      "cell_type": "code",
      "source": [
        "#Ahora evaluamos los datos de test con el mejor hiperparámetro encontrado\n",
        "KNN = KNeighborsClassifier(n_neighbors=1)\n",
        "KNN.fit(X_train, y_train)\n",
        "y_predict= KNN.predict(X_test)\n",
        "test_accuracy=accuracy_score(y_test,y_predict)*100\n",
        "\n",
        "print(\"La accuracy en test ha sido de: {:.2f}%\".format(test_accuracy) )"
      ],
      "metadata": {
        "id": "GvQOaq_dbl0f"
      },
      "execution_count": null,
      "outputs": []
    },
    {
      "cell_type": "code",
      "source": [
        "import matplotlib.pyplot as plt\n",
        "import seaborn as sns\n",
        "# Analicemos los datos...\n",
        "columns = df.columns.drop(['Class'])\n",
        "\n",
        "fig, axes = plt.subplots(ncols=len(columns), figsize=(15,5))\n",
        "plt.rc('axes', titlesize=10)     # fontsize of the axes title\n",
        "plt.rc('axes', labelsize=10)    # fontsize of the x and y labels\n",
        "plt.rc('xtick', labelsize=10)    # fontsize of the tick labels\n",
        "plt.rc('ytick', labelsize=10)    # fontsize of the tick labels\n",
        "fig.tight_layout(pad=2.0)\n",
        "\n",
        "for column, axis in zip(columns, axes):\n",
        "        sns.boxplot(data=df[column], ax=axis)\n",
        "        axis.set_title(column)\n"
      ],
      "metadata": {
        "id": "BPbjLnHygerX"
      },
      "execution_count": null,
      "outputs": []
    },
    {
      "cell_type": "code",
      "source": [
        "#Recordad que los datos deben estar estandarizados (!)\n",
        "from sklearn.preprocessing import StandardScaler\n",
        "scaler = StandardScaler()\n",
        "X = scaler.fit_transform(X)\n",
        "#Repitamos ahora todo el train volviendo a ejecutar las celdas anteriores"
      ],
      "metadata": {
        "id": "0eF1oHaWcbXv"
      },
      "execution_count": null,
      "outputs": []
    },
    {
      "cell_type": "markdown",
      "source": [
        "#PCA"
      ],
      "metadata": {
        "id": "ppssgUf8cKFo"
      }
    },
    {
      "cell_type": "code",
      "source": [
        "#PCA ayuda a reducir la dimensionalidad mientras mantiene la información esencial sobre la variabilidad de los datos.\n",
        "\n",
        "from sklearn.decomposition import PCA\n",
        "import seaborn as sns"
      ],
      "metadata": {
        "id": "xMblwMvXcXaH"
      },
      "execution_count": null,
      "outputs": []
    },
    {
      "cell_type": "code",
      "source": [
        "pca = PCA(n_components=2)\n",
        "X_r = pca.fit(X).transform(X)\n",
        "\n",
        "colors = [\"navy\", \"turquoise\", \"darkorange\"]\n",
        "lw = 2\n",
        "\n",
        "componentsDf = pd.DataFrame(data = X_r, columns = ['PC1', 'PC2'])\n",
        "plt.figure(figsize=(12, 6))\n",
        "sns.scatterplot(data=componentsDf, x=\"PC1\", y=\"PC2\", hue=y);"
      ],
      "metadata": {
        "id": "EgGsnbNscdRH"
      },
      "execution_count": null,
      "outputs": []
    },
    {
      "cell_type": "code",
      "source": [
        "#Ahora vamos a usar PCA para reducir dimensiones antes de hacer clasificación\n",
        "pca_2 = PCA(n_components=2)\n",
        "X_r_train = pca_2.fit(X_train).transform(X_train)\n",
        "\n",
        "KNN = KNeighborsClassifier(n_neighbors=10)\n",
        "KNN.fit(X_r_train, y_train)\n",
        "X_r_test=pca_2.transform(X_test)\n",
        "y_test_pred = KNN.predict(X_r_test)\n",
        "print(\"Accuracy - Datos de test\")\n",
        "accuracy_score(y_test, y_test_pred)"
      ],
      "metadata": {
        "id": "Wl1RuFbwchDo"
      },
      "execution_count": null,
      "outputs": []
    },
    {
      "cell_type": "markdown",
      "source": [
        "#t-SNE"
      ],
      "metadata": {
        "id": "F-xrSb7cczl_"
      }
    },
    {
      "cell_type": "code",
      "source": [
        "from sklearn.manifold import TSNE\n"
      ],
      "metadata": {
        "id": "943vZJvcczQ2"
      },
      "execution_count": null,
      "outputs": []
    },
    {
      "cell_type": "code",
      "source": [
        "#Recordad: PCA es determinístico, pero t-SNE no lo es.\n",
        "#Por lo tanto, ejecutar 2 veces el script va a resultar en 2 plots distintos.\n",
        "X_embedded = TSNE(n_components=2, learning_rate='auto', init='random').fit_transform(X)\n",
        "\n",
        "componentsDf_tsne = pd.DataFrame(data = X_embedded, columns = ['t-SNE1', 't-SNE2'])\n",
        "plt.figure(figsize=(12, 6))\n",
        "sns.scatterplot(data=componentsDf_tsne, x=\"t-SNE1\", y=\"t-SNE2\", hue=y);"
      ],
      "metadata": {
        "id": "wqUO6Eu4c4jG"
      },
      "execution_count": null,
      "outputs": []
    },
    {
      "cell_type": "markdown",
      "source": [
        "#UMAP"
      ],
      "metadata": {
        "id": "bT7LfUthc8IW"
      }
    },
    {
      "cell_type": "code",
      "source": [
        "!pip install umap-learn\n",
        "from umap import UMAP\n"
      ],
      "metadata": {
        "id": "eRVuKAb0dJ8Q"
      },
      "execution_count": null,
      "outputs": []
    },
    {
      "cell_type": "code",
      "source": [
        "X_embedded =  UMAP(n_components=2, init='random', random_state=0).fit_transform(X)\n",
        "\n",
        "componentsDf_UMAP = pd.DataFrame(data = X_embedded, columns = ['UMAP1', 'UMAP2'])\n",
        "plt.figure(figsize=(12, 6))\n",
        "sns.scatterplot(data=componentsDf_UMAP, x=\"UMAP1\", y=\"UMAP2\", hue=y);\n",
        "\n"
      ],
      "metadata": {
        "id": "Fb_4u79cdNBG"
      },
      "execution_count": null,
      "outputs": []
    }
  ]
}