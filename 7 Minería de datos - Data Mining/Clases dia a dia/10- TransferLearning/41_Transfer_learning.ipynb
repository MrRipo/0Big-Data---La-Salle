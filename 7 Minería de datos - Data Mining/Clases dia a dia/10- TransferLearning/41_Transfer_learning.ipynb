{
  "nbformat": 4,
  "nbformat_minor": 0,
  "metadata": {
    "colab": {
      "provenance": []
    },
    "kernelspec": {
      "name": "python3",
      "display_name": "Python 3"
    },
    "language_info": {
      "name": "python"
    },
    "accelerator": "GPU"
  },
  "cells": [
    {
      "cell_type": "code",
      "execution_count": null,
      "metadata": {
        "id": "km9iaN1GvPFf"
      },
      "outputs": [],
      "source": [
        "from __future__ import print_function, division\n",
        "\n",
        "import torch\n",
        "import torch.nn as nn\n",
        "import torch.optim as optim\n",
        "from torch.optim import lr_scheduler\n",
        "import torch.backends.cudnn as cudnn\n",
        "import numpy as np\n",
        "import torchvision\n",
        "from torchvision import datasets, models, transforms\n",
        "import matplotlib.pyplot as plt\n",
        "import time\n",
        "import os\n",
        "import copy\n",
        "\n",
        "cudnn.benchmark = True\n",
        "plt.ion()   # interactive mode\n",
        "device = torch.device(\"cuda:0\" if torch.cuda.is_available() else \"cpu\")\n",
        "print(device)"
      ]
    },
    {
      "cell_type": "code",
      "source": [
        "#dataset entero: https://drive.google.com/drive/folders/1eIVVZ7J5wS7GhupNNfJZy2SH5mrJvmfg?usp=share_link\n",
        "#dataset ordenado: https://drive.google.com/drive/folders/1ytqcX5DzI0wjkhzSpPbK4Y0dESxsSAH6?usp=sharing\n",
        "from google.colab import drive\n",
        "drive.mount('/content/drive')"
      ],
      "metadata": {
        "id": "JjK2piFkzDor"
      },
      "execution_count": null,
      "outputs": []
    },
    {
      "cell_type": "code",
      "source": [
        "# Data augmentation and normalization for training\n",
        "# Just normalization for validation\n",
        "data_transforms = {\n",
        "    'train': transforms.Compose([\n",
        "        transforms.RandomResizedCrop(224),  # Se recorta y cambia el tamaño aleatorio de la imagen a 224x224 píxeles\n",
        "        transforms.RandomHorizontalFlip(),  # Se aplica una inversión horizontal aleatoria a la imagen\n",
        "        transforms.ToTensor(),  # Se convierte la imagen a un tensor\n",
        "        transforms.Normalize([0.485, 0.456, 0.406], [0.229, 0.224, 0.225])  # Se normaliza la imagen con valores predefinidos de media y desviación estándar\n",
        "    ]),\n",
        "    'val': transforms.Compose([\n",
        "        transforms.Resize(256),  # Se cambia el tamaño de la imagen a 256x256 píxeles\n",
        "        transforms.CenterCrop(224),  # Se recorta el centro de la imagen a un tamaño de 224x224 píxeles\n",
        "        transforms.ToTensor(),  # Se convierte la imagen a un tensor\n",
        "        transforms.Normalize([0.485, 0.456, 0.406], [0.229, 0.224, 0.225])  # Se normaliza la imagen con valores predefinidos de media y desviación estándar\n",
        "    ]),\n",
        "}\n",
        "\n",
        "data_dir = '/content/drive/MyDrive/images'  # Directorio que contiene las imágenes\n",
        "image_datasets = {x: datasets.ImageFolder(os.path.join(data_dir, x),\n",
        "                                          data_transforms[x])\n",
        "                  for x in ['train', 'val']}  # Se crean conjuntos de datos de imagen utilizando la estructura de directorios y las transformaciones definidas anteriormente\n",
        "\n",
        "\n",
        "dataloaders = {x: torch.utils.data.DataLoader(image_datasets[x], batch_size=16,\n",
        "                                             shuffle=True, num_workers=2)\n",
        "              for x in ['train', 'val']}\n",
        "\n",
        "dataset_sizes = {x: len(image_datasets[x]) for x in ['train', 'val']}  # Se calcula el tamaño de los conjuntos de datos de entrenamiento y validación\n",
        "class_names = image_datasets['train'].classes  # Se obtienen los nombres de las clases a partir del conjunto de datos de entrenamiento\n"
      ],
      "metadata": {
        "id": "mqxx3-xZ3NpZ"
      },
      "execution_count": null,
      "outputs": []
    },
    {
      "cell_type": "code",
      "source": [
        "# Get a batch of training data\n",
        "inputs, classes = next(iter(dataloaders['val']))\n",
        "inputs = inputs.swapaxes(1,3)  # Se intercambian los ejes de las imágenes para que coincidan con el formato esperado para la visualización\n",
        "\n",
        "plt.figure(figsize=(10,10))  # Se establece el tamaño de la figura\n",
        "for imagenes in range(16):\n",
        "    plt.subplot(5,4,imagenes+1)  # Se crea una subparcela en la figura para cada imagen en el lote\n",
        "    plt.xticks([])  # Se eliminan las marcas del eje x\n",
        "    plt.yticks([])  # Se eliminan las marcas del eje y\n",
        "    plt.grid(False)  # Se desactiva la cuadrícula\n",
        "    plt.imshow(np.resize(inputs[imagenes], (224,224,3)))  # Se visualiza la imagen redimensionada\n",
        "    plt.xlabel(classes[imagenes])  # Se establece el nombre de la clase como etiqueta del eje x\n"
      ],
      "metadata": {
        "id": "5DXEkov23VhZ"
      },
      "execution_count": null,
      "outputs": []
    },
    {
      "cell_type": "code",
      "source": [
        "def train_model(model, criterion, optimizer, scheduler, num_epochs=25):\n",
        "    since = time.time()  # Se registra el tiempo de inicio del entrenamiento\n",
        "\n",
        "    best_model_wts = copy.deepcopy(model.state_dict())  # Se realiza una copia de los pesos iniciales del modelo\n",
        "    best_acc = 0.0  # Se inicializa la mejor precisión obtenida durante el entrenamiento como 0.0\n",
        "\n",
        "    for epoch in range(num_epochs):  # Se itera sobre el número de épocas especificado\n",
        "        print('Epoch {}/{}'.format(epoch, num_epochs - 1))  # Se imprime el número de época actual\n",
        "        print('-' * 10)\n",
        "\n",
        "        # Cada época tiene una fase de entrenamiento y una de validación\n",
        "        for phase in ['train', 'val']:\n",
        "            if phase == 'train':\n",
        "                model.train()  # Se establece el modelo en modo de entrenamiento\n",
        "            else:\n",
        "                model.eval()   # Se establece el modelo en modo de evaluación\n",
        "\n",
        "            running_loss = 0.0  # Se inicializa la pérdida acumulada en la época actual\n",
        "            running_corrects = 0  # Se inicializa el número de predicciones correctas en la época actual\n",
        "\n",
        "            # Iterar sobre los datos.\n",
        "            for inputs, labels in dataloaders[phase]:  # Se itera sobre los batch de datos según la fase actual\n",
        "                inputs = inputs.to(device)  # Se mueven los datos de entrada a la GPU si está disponible\n",
        "                labels = labels.to(device)  # Se mueven las etiquetas a la GPU si está disponible\n",
        "\n",
        "                # Se ponen a cero los gradientes de los parámetros\n",
        "                optimizer.zero_grad()\n",
        "\n",
        "                # Paso de adelante\n",
        "                # Se rastrea el historial de operaciones si solo estamos en fase de entrenamiento\n",
        "                with torch.set_grad_enabled(phase == 'train'):\n",
        "                    outputs = model(inputs)  # Se obtienen las predicciones del modelo\n",
        "                    _, preds = torch.max(outputs, 1)  # Se obtienen las etiquetas predichas\n",
        "                    loss = criterion(outputs, labels)  # Se calcula la pérdida\n",
        "\n",
        "                    # Paso de atrás + optimización solo si estamos en fase de entrenamiento\n",
        "                    if phase == 'train':\n",
        "                        loss.backward()  # Se calculan los gradientes\n",
        "                        optimizer.step()  # Se actualizan los pesos del modelo\n",
        "\n",
        "                # Estadísticas\n",
        "                running_loss += loss.item() * inputs.size(0)  # Se acumula la pérdida\n",
        "                running_corrects += torch.sum(preds == labels.data)  # Se acumulan las predicciones correctas\n",
        "\n",
        "            if phase == 'train':\n",
        "                scheduler.step()  # Se actualiza el scheduler de acuerdo con la política de ajuste de la tasa de aprendizaje\n",
        "\n",
        "            epoch_loss = running_loss / dataset_sizes[phase]  # Se calcula la pérdida promedio en la época actual\n",
        "            epoch_acc = running_corrects.double() / dataset_sizes[phase]  # Se calcula la precisión promedio en la época actual\n",
        "\n",
        "            print('{} Loss: {:.4f} Acc: {:.4f}'.format(\n",
        "                phase, epoch_loss, epoch_acc))  # Se imprime la pérdida y precisión de la época actual\n",
        "\n",
        "            # Se realiza una copia profunda del modelo si la precisión en validación es mejor que la mejor precisión anterior\n",
        "            if phase == 'val' and epoch_acc > best_acc:\n",
        "                best_acc = epoch_acc  # Se actualiza la mejor precisión\n",
        "                best_model_wts = copy.deepcopy(model.state_dict())  # Se realiza una copia profunda de los pesos del modelo\n",
        "\n",
        "    time_elapsed = time.time() - since  # Se calcula el tiempo total de entrenamiento\n",
        "    print('Training complete in {:.0f}m {:.0f}s'.format(\n",
        "        time_elapsed // 60, time_elapsed % 60))  # Se imprime el tiempo total de entrenamiento\n",
        "    print('Best val Acc: {:4f}'.format(best_acc))  # Se imprime la mejor precisión obtenida en validación\n",
        "\n",
        "    # Se cargan los mejores pesos del modelo\n",
        "    model.load_state_dict(best_model_wts)\n",
        "    return model  # Se devuelve el modelo entrenado con los mejores pesos obtenidos\n"
      ],
      "metadata": {
        "id": "Ww0xTALX_Swe"
      },
      "execution_count": null,
      "outputs": []
    },
    {
      "cell_type": "code",
      "source": [
        "#Esta función visualize_model está diseñada para visualizar el rendimiento del modelo en el conjunto de datos de validación.\n",
        "\n",
        "def imshow(inp, title=None):\n",
        "    \"\"\"Imshow for Tensor.\"\"\"\n",
        "    inp = inp.numpy().transpose((1, 2, 0))  # Se transpone la entrada para cambiar el formato de los ejes\n",
        "    mean = np.array([0.485, 0.456, 0.406])  # Media de normalización\n",
        "    std = np.array([0.229, 0.224, 0.225])  # Desviación estándar de normalización\n",
        "    inp = std * inp + mean  # Se aplica la normalización inversa\n",
        "    inp = np.clip(inp, 0, 1)  # Se ajustan los valores de los píxeles para estar dentro del rango [0, 1]\n",
        "    plt.imshow(inp)  # Se muestra la imagen\n",
        "    if title is not None:\n",
        "        plt.title(title)  # Se establece el título de la imagen si se proporciona\n",
        "    plt.pause(0.001)  # Se pausa un poco para que las gráficas se actualicen\n",
        "\n",
        "def visualize_model(model, num_images=10):\n",
        "    was_training = model.training  # Se guarda el estado de entrenamiento actual del modelo\n",
        "    model.eval()  # Se establece el modelo en modo de evaluación\n",
        "    images_so_far = 0  # Se inicializa el contador de imágenes mostradas\n",
        "    fig = plt.figure(figsize=(10,10))  # Se crea una nueva figura de matplotlib\n",
        "    with torch.no_grad():  # Se deshabilita el cálculo de gradientes\n",
        "        for i, (inputs, labels) in enumerate(dataloaders['val']):  # Se itera sobre el conjunto de datos de validación\n",
        "            inputs = inputs.to(device)  # Se mueven los datos de entrada a la GPU si está disponible\n",
        "            labels = labels.to(device)  # Se mueven las etiquetas a la GPU si está disponible\n",
        "\n",
        "            outputs = model(inputs)  # Se obtienen las predicciones del modelo\n",
        "            _, preds = torch.max(outputs, 1)  # Se obtienen las etiquetas predichas\n",
        "\n",
        "            for j in range(inputs.size()[0]):  # Se itera sobre las imágenes en el lote\n",
        "                images_so_far += 1  # Se incrementa el contador de imágenes mostradas\n",
        "                ax = plt.subplot(4, 4, images_so_far)  # Se crea una subparcela en la figura\n",
        "                ax.axis('off')  # Se desactivan los ejes\n",
        "                ax.set_title('predicted: {}'.format(class_names[preds[j]]))  # Se establece el título de la subparcela con la etiqueta predicha\n",
        "                imshow(inputs.cpu().data[j])  # Se muestra la imagen actual\n",
        "\n",
        "                if images_so_far == num_images:  # Si se ha mostrado el número deseado de imágenes\n",
        "                    model.train(mode=was_training)  # Se restaura el modo de entrenamiento original del modelo\n",
        "                    return  # Se sale de la función\n",
        "        model.train(mode=was_training)  # Se restaura el modo de entrenamiento original del modelo al finalizar la visualización\n"
      ],
      "metadata": {
        "id": "-U5mujlh_VV3"
      },
      "execution_count": null,
      "outputs": []
    },
    {
      "cell_type": "code",
      "source": [
        "#Podéis encontrar más modelos en: https://pytorch.org/vision/main/models.html\n",
        "model_ft = models.resnet18(weights = None)\n",
        "num_ftrs = model_ft.fc.in_features\n",
        "model_ft.fc = nn.Linear(num_ftrs,  len(class_names))\n",
        "\n",
        "model_ft = model_ft.to(device)\n",
        "\n",
        "criterion = nn.CrossEntropyLoss()\n",
        "\n",
        "# Observe that all parameters are being optimized\n",
        "optimizer_ft = optim.SGD(model_ft.parameters(), lr=0.001, momentum=0.9)\n",
        "\n",
        "# Decay LR by a factor of 0.1 every 7 epochs\n",
        "exp_lr_scheduler = lr_scheduler.StepLR(optimizer_ft, step_size=7, gamma=0.1)"
      ],
      "metadata": {
        "id": "i9HyHfb-BcoB"
      },
      "execution_count": null,
      "outputs": []
    },
    {
      "cell_type": "code",
      "source": [
        "model_ft = train_model(model_ft, criterion, optimizer_ft, exp_lr_scheduler,\n",
        "                       num_epochs=10)"
      ],
      "metadata": {
        "id": "gODec9hCBkKR"
      },
      "execution_count": null,
      "outputs": []
    },
    {
      "cell_type": "code",
      "source": [
        "visualize_model(model_ft)"
      ],
      "metadata": {
        "id": "N2HGO93lCZAB"
      },
      "execution_count": null,
      "outputs": []
    }
  ]
}