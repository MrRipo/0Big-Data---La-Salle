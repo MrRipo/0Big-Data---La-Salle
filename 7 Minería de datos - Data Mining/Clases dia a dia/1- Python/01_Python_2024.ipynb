{
  "cells": [
    {
      "cell_type": "markdown",
      "metadata": {
        "id": "BwXH_8HXXFma"
      },
      "source": [
        "# Python 3\n",
        "\n",
        "- - -\n",
        "Con este notebook aprenderemos los conocimientos básicos de Python para el curso de Data Mining del Máster en Big Data.\n",
        "\n",
        "\n",
        "Contenido incluido:\n",
        "- Tipos de datos:\n",
        "    - Números\n",
        "    - Strings\n",
        "    - Booleanos\n",
        "- Print\n",
        "- Listas\n",
        "- Diccionarios\n",
        "- Tuplas \n",
        "- Sets    \n",
        "- Comentarios\n",
        "- Asignación de variables\n",
        "- Operadores de comparación\n",
        "- Operadores lógicos\n",
        "- Condicionales\n",
        "- Bucles\n",
        "- Funcion range()\n",
        "- Funciones\n",
        "\n",
        "Contenido Extra:\n",
        "- Comprensión de lista\n",
        "- map\n",
        "- filter\n",
        "- - -"
      ]
    },
    {
      "cell_type": "markdown",
      "metadata": {
        "id": "BYjh6Ju5XFmf"
      },
      "source": [
        "## Tipos de datos"
      ]
    },
    {
      "cell_type": "markdown",
      "metadata": {
        "id": "UfFBBCyyXFmg"
      },
      "source": [
        "### Números"
      ]
    },
    {
      "cell_type": "markdown",
      "metadata": {
        "id": "tffXlF4qXFmh"
      },
      "source": [
        "Suma"
      ]
    },
    {
      "cell_type": "code",
      "execution_count": null,
      "metadata": {
        "id": "LtQnF6TlXFmi"
      },
      "outputs": [],
      "source": [
        "2 + 2"
      ]
    },
    {
      "cell_type": "markdown",
      "metadata": {
        "id": "snLt-9YcXFmj"
      },
      "source": [
        "Resta"
      ]
    },
    {
      "cell_type": "code",
      "execution_count": null,
      "metadata": {
        "id": "8rOmpxH5XFmk"
      },
      "outputs": [],
      "source": [
        "7 - 2"
      ]
    },
    {
      "cell_type": "markdown",
      "metadata": {
        "id": "waZX_QZpXFml"
      },
      "source": [
        "Multiplicación"
      ]
    },
    {
      "cell_type": "code",
      "execution_count": null,
      "metadata": {
        "id": "92HL-ilFXFmm"
      },
      "outputs": [],
      "source": [
        "2 * 3"
      ]
    },
    {
      "cell_type": "markdown",
      "metadata": {
        "id": "yvf48kISXFmm"
      },
      "source": [
        "División"
      ]
    },
    {
      "cell_type": "code",
      "execution_count": null,
      "metadata": {
        "id": "prUWottQXFmn"
      },
      "outputs": [],
      "source": [
        "9 / 3"
      ]
    },
    {
      "cell_type": "markdown",
      "metadata": {
        "id": "zyVQJ1bLXFmn"
      },
      "source": [
        "Cociente de división"
      ]
    },
    {
      "cell_type": "code",
      "execution_count": null,
      "metadata": {
        "id": "uPEPdix1XFmo"
      },
      "outputs": [],
      "source": [
        "6 // 2"
      ]
    },
    {
      "cell_type": "code",
      "execution_count": null,
      "metadata": {
        "id": "NTqV2vnmXFmo"
      },
      "outputs": [],
      "source": [
        "5 // 2"
      ]
    },
    {
      "cell_type": "markdown",
      "metadata": {
        "id": "S2NVVtjHXFmo"
      },
      "source": [
        "Resto de división"
      ]
    },
    {
      "cell_type": "code",
      "execution_count": null,
      "metadata": {
        "id": "WWvnTlbgXFmp"
      },
      "outputs": [],
      "source": [
        "6 % 2"
      ]
    },
    {
      "cell_type": "code",
      "execution_count": null,
      "metadata": {
        "id": "io4-dXQGXFmp"
      },
      "outputs": [],
      "source": [
        "5 % 2"
      ]
    },
    {
      "cell_type": "markdown",
      "metadata": {
        "id": "b1FM2EHmXFmp"
      },
      "source": [
        "Exponente"
      ]
    },
    {
      "cell_type": "code",
      "execution_count": null,
      "metadata": {
        "id": "sWU9zBedXFmp"
      },
      "outputs": [],
      "source": [
        "2 ** 3"
      ]
    },
    {
      "cell_type": "markdown",
      "metadata": {
        "id": "DHwhJXrNXFmq"
      },
      "source": [
        "Prioridad de cálculo"
      ]
    },
    {
      "cell_type": "code",
      "execution_count": null,
      "metadata": {
        "id": "T8Yog_kfXFmq"
      },
      "outputs": [],
      "source": [
        "1 + 2 * 2 + 1"
      ]
    },
    {
      "cell_type": "code",
      "execution_count": null,
      "metadata": {
        "id": "n8N4i5swXFmr"
      },
      "outputs": [],
      "source": [
        "(1 + 2) * (2 + 1)"
      ]
    },
    {
      "cell_type": "markdown",
      "metadata": {
        "id": "XIuDeBEKXFmr"
      },
      "source": [
        "### Comentarios"
      ]
    },
    {
      "cell_type": "code",
      "execution_count": null,
      "metadata": {
        "id": "UGZWV4siXFmr"
      },
      "outputs": [],
      "source": [
        "# Al ser un comentario, esta línea no ejecuta nada"
      ]
    },
    {
      "cell_type": "markdown",
      "metadata": {
        "id": "jGEsM8CzXFmr"
      },
      "source": [
        "### Asignación de variables"
      ]
    },
    {
      "cell_type": "code",
      "execution_count": null,
      "metadata": {
        "id": "h9WD9XsVXFmr"
      },
      "outputs": [],
      "source": [
        "# No empecéis el nombre de una variable ni con números ni con carácteres especiales"
      ]
    },
    {
      "cell_type": "code",
      "execution_count": null,
      "metadata": {
        "id": "aq6CfzbnXFms"
      },
      "outputs": [],
      "source": [
        "mi_variable = 2"
      ]
    },
    {
      "cell_type": "code",
      "execution_count": null,
      "metadata": {
        "id": "dOUScaWWXFms"
      },
      "outputs": [],
      "source": [
        "x = 3"
      ]
    },
    {
      "cell_type": "code",
      "execution_count": null,
      "metadata": {
        "id": "YNWk1Qx3XFms"
      },
      "outputs": [],
      "source": [
        "y = 7"
      ]
    },
    {
      "cell_type": "code",
      "execution_count": null,
      "metadata": {
        "id": "8mHpIt99XFms"
      },
      "outputs": [],
      "source": [
        "z = x + y"
      ]
    },
    {
      "cell_type": "code",
      "execution_count": null,
      "metadata": {
        "id": "zDp2KFVKXFms"
      },
      "outputs": [],
      "source": [
        "z"
      ]
    },
    {
      "cell_type": "markdown",
      "metadata": {
        "id": "yeVxraWyXFmt"
      },
      "source": [
        "### Strings"
      ]
    },
    {
      "cell_type": "code",
      "execution_count": null,
      "metadata": {
        "id": "JdikTQv3XFmt"
      },
      "outputs": [],
      "source": [
        "'Comillas simples'"
      ]
    },
    {
      "cell_type": "code",
      "execution_count": null,
      "metadata": {
        "id": "CKxBsAkWXFmt"
      },
      "outputs": [],
      "source": [
        "\"Comillas dobles\""
      ]
    },
    {
      "cell_type": "code",
      "execution_count": null,
      "metadata": {
        "id": "6Nx2vCWVXFmt"
      },
      "outputs": [],
      "source": [
        "\"Comillas 'dentro' de comillas\""
      ]
    },
    {
      "cell_type": "code",
      "execution_count": null,
      "metadata": {
        "id": "SZ7dJMvMXFmt"
      },
      "outputs": [],
      "source": [
        "'Comillas \"dentro\" de comillas'"
      ]
    },
    {
      "cell_type": "markdown",
      "metadata": {
        "id": "fzCQsrwMXFmu"
      },
      "source": [
        "### Print"
      ]
    },
    {
      "cell_type": "code",
      "execution_count": null,
      "metadata": {
        "id": "muGYBG-4XFmu"
      },
      "outputs": [],
      "source": [
        "x = \"Hola Mundo\""
      ]
    },
    {
      "cell_type": "code",
      "execution_count": null,
      "metadata": {
        "id": "UwmuHcNOXFmu"
      },
      "outputs": [],
      "source": [
        "x"
      ]
    },
    {
      "cell_type": "code",
      "execution_count": null,
      "metadata": {
        "id": "YEl_a6AdXFmu"
      },
      "outputs": [],
      "source": [
        "print(x)"
      ]
    },
    {
      "cell_type": "code",
      "execution_count": null,
      "metadata": {
        "id": "r0PczmLmXFmu"
      },
      "outputs": [],
      "source": [
        "universidad = \"LaSalle\""
      ]
    },
    {
      "cell_type": "code",
      "execution_count": null,
      "metadata": {
        "id": "wjKG9sziXFmu"
      },
      "outputs": [],
      "source": [
        "master = \"Big Data\""
      ]
    },
    {
      "cell_type": "code",
      "execution_count": null,
      "metadata": {
        "id": "tAeAazqzXFmv"
      },
      "outputs": [],
      "source": [
        "print(\"Estudio en {} el master de {}\".format(universidad, master))"
      ]
    },
    {
      "cell_type": "code",
      "execution_count": null,
      "metadata": {
        "id": "gf7kY5GQXFmv"
      },
      "outputs": [],
      "source": [
        "print(\"Estudio en {text1} el master de {text2}\".format(text1=universidad, text2=master))"
      ]
    },
    {
      "cell_type": "markdown",
      "metadata": {
        "id": "SPEqUj9wXFmv"
      },
      "source": [
        "### Listas"
      ]
    },
    {
      "cell_type": "code",
      "execution_count": null,
      "metadata": {
        "id": "ENu_-tPmXFmv"
      },
      "outputs": [],
      "source": [
        "[1, 2, 3, 4, 5]"
      ]
    },
    {
      "cell_type": "code",
      "execution_count": null,
      "metadata": {
        "id": "8exXN7O0XFmv"
      },
      "outputs": [],
      "source": [
        "mi_lista = [\"a\", \"b\", \"c\", \"d\", \"e\"]"
      ]
    },
    {
      "cell_type": "code",
      "execution_count": null,
      "metadata": {
        "id": "Z88J2O77XFmv"
      },
      "outputs": [],
      "source": [
        "mi_lista"
      ]
    },
    {
      "cell_type": "code",
      "execution_count": null,
      "metadata": {
        "id": "w3E23X6QXFmw"
      },
      "outputs": [],
      "source": [
        "mi_lista[0]"
      ]
    },
    {
      "cell_type": "code",
      "execution_count": null,
      "metadata": {
        "id": "R-tVNPJvXFmw"
      },
      "outputs": [],
      "source": [
        "mi_lista[1]"
      ]
    },
    {
      "cell_type": "code",
      "source": [
        "mi_lista[-1]"
      ],
      "metadata": {
        "id": "IrKU_SFXgYvI"
      },
      "execution_count": null,
      "outputs": []
    },
    {
      "cell_type": "code",
      "source": [
        "mi_lista[-2:]"
      ],
      "metadata": {
        "id": "ReFyzjOKga4q"
      },
      "execution_count": null,
      "outputs": []
    },
    {
      "cell_type": "code",
      "execution_count": null,
      "metadata": {
        "id": "NWJQikoAXFmw"
      },
      "outputs": [],
      "source": [
        "mi_lista[1:]"
      ]
    },
    {
      "cell_type": "code",
      "execution_count": null,
      "metadata": {
        "id": "Kn7uZ_itXFmw"
      },
      "outputs": [],
      "source": [
        "mi_lista[:2]"
      ]
    },
    {
      "cell_type": "code",
      "execution_count": null,
      "metadata": {
        "id": "g_StbIXcXFmx"
      },
      "outputs": [],
      "source": [
        "mi_lista[0] = \"A\""
      ]
    },
    {
      "cell_type": "code",
      "execution_count": null,
      "metadata": {
        "id": "yEGDZmOlXFmx"
      },
      "outputs": [],
      "source": [
        "mi_lista"
      ]
    },
    {
      "cell_type": "code",
      "execution_count": null,
      "metadata": {
        "id": "xjdARnKXXFmx"
      },
      "outputs": [],
      "source": [
        "lista_anidada = [1,2,[3,4,[5,6]]]"
      ]
    },
    {
      "cell_type": "code",
      "execution_count": null,
      "metadata": {
        "id": "x8tO82e9XFmx"
      },
      "outputs": [],
      "source": [
        "lista_anidada[2]"
      ]
    },
    {
      "cell_type": "code",
      "execution_count": null,
      "metadata": {
        "id": "GT_OkL3UXFmx"
      },
      "outputs": [],
      "source": [
        "lista_anidada[2][2]"
      ]
    },
    {
      "cell_type": "code",
      "execution_count": null,
      "metadata": {
        "id": "3fCVVB_SXFmy"
      },
      "outputs": [],
      "source": [
        "lista_anidada[2][2][1]"
      ]
    },
    {
      "cell_type": "markdown",
      "metadata": {
        "id": "6nTArxWuXFmy"
      },
      "source": [
        "### Dicionarios"
      ]
    },
    {
      "cell_type": "code",
      "execution_count": null,
      "metadata": {
        "id": "OsIE2XlbXFmy"
      },
      "outputs": [],
      "source": [
        "mi_diccionario = {\"clave1\":\"valor1\", \"clave2\":\"valor2\", \"clave3\":\"valor3\"}"
      ]
    },
    {
      "cell_type": "code",
      "execution_count": null,
      "metadata": {
        "id": "q6KNc-meXFmy"
      },
      "outputs": [],
      "source": [
        "mi_diccionario"
      ]
    },
    {
      "cell_type": "code",
      "execution_count": null,
      "metadata": {
        "id": "yRPmZffYXFmy"
      },
      "outputs": [],
      "source": [
        "mi_diccionario[\"clave1\"]"
      ]
    },
    {
      "cell_type": "code",
      "execution_count": null,
      "metadata": {
        "id": "HWDoBxqCXFmy"
      },
      "outputs": [],
      "source": [
        "otro_diccionario = {\"clave1\":[1, 2, 3, 4, 5]}"
      ]
    },
    {
      "cell_type": "code",
      "execution_count": null,
      "metadata": {
        "id": "vO_eMySYXFm1"
      },
      "outputs": [],
      "source": [
        "otro_diccionario[\"clave1\"][2]"
      ]
    },
    {
      "cell_type": "code",
      "execution_count": null,
      "metadata": {
        "id": "JTbFC_lkXFm1"
      },
      "outputs": [],
      "source": [
        "diccionario_anidado = {\"clave1\":{\"clave_anidada\":\"valor\"}}"
      ]
    },
    {
      "cell_type": "code",
      "execution_count": null,
      "metadata": {
        "id": "c_oUQbr8XFm1"
      },
      "outputs": [],
      "source": [
        "diccionario_anidado[\"clave1\"][\"clave_anidada\"]"
      ]
    },
    {
      "cell_type": "markdown",
      "metadata": {
        "id": "KmbdE-exXFm1"
      },
      "source": [
        "### Tuplas"
      ]
    },
    {
      "cell_type": "code",
      "execution_count": null,
      "metadata": {
        "id": "eF6UZvQZXFm2"
      },
      "outputs": [],
      "source": [
        "mi_tupla = (1, 2, 3, 4, 5)"
      ]
    },
    {
      "cell_type": "code",
      "execution_count": null,
      "metadata": {
        "id": "BgjMdjjWXFm2"
      },
      "outputs": [],
      "source": [
        "mi_tupla[2]"
      ]
    },
    {
      "cell_type": "code",
      "execution_count": null,
      "metadata": {
        "id": "bSEh_UhbXFm2"
      },
      "outputs": [],
      "source": [
        "mi_tupla[0] = 1"
      ]
    },
    {
      "cell_type": "markdown",
      "metadata": {
        "id": "p6Hk37_9XFm2"
      },
      "source": [
        "### Sets"
      ]
    },
    {
      "cell_type": "code",
      "execution_count": null,
      "metadata": {
        "id": "pLR4V63PXFm2"
      },
      "outputs": [],
      "source": [
        "mi_set = {1, 2, 3, 4, 5}"
      ]
    },
    {
      "cell_type": "code",
      "execution_count": null,
      "metadata": {
        "id": "3QyXQuyYXFm2"
      },
      "outputs": [],
      "source": [
        "mi_set"
      ]
    },
    {
      "cell_type": "code",
      "execution_count": null,
      "metadata": {
        "id": "JyDjpXzrXFm2"
      },
      "outputs": [],
      "source": [
        "otro_set = {1, 1, 1, 1, 1, 2, 2, 2, 2, 2, 3, 3, 3, 3, 4, 4, 4, 4, 5, 5, 5, 6 , 6}"
      ]
    },
    {
      "cell_type": "code",
      "execution_count": null,
      "metadata": {
        "id": "dkqhW4PVXFm3"
      },
      "outputs": [],
      "source": [
        "otro_set"
      ]
    },
    {
      "cell_type": "markdown",
      "metadata": {
        "id": "XzpomdxxXFm3"
      },
      "source": [
        "### Booleans"
      ]
    },
    {
      "cell_type": "code",
      "execution_count": null,
      "metadata": {
        "id": "mpA-Uz_BXFm3"
      },
      "outputs": [],
      "source": [
        "True"
      ]
    },
    {
      "cell_type": "code",
      "execution_count": null,
      "metadata": {
        "id": "KYxsGWaIXFm3"
      },
      "outputs": [],
      "source": [
        "False"
      ]
    },
    {
      "cell_type": "code",
      "execution_count": null,
      "metadata": {
        "id": "xf0TssmJXFm3"
      },
      "outputs": [],
      "source": [
        "mi_lista = [1,2,3,4,5]"
      ]
    },
    {
      "cell_type": "code",
      "execution_count": null,
      "metadata": {
        "id": "evSwX6XgXFm3"
      },
      "outputs": [],
      "source": [
        "6 in mi_lista"
      ]
    },
    {
      "cell_type": "code",
      "execution_count": null,
      "metadata": {
        "id": "Jiit5atfXFm4"
      },
      "outputs": [],
      "source": [
        "2 in mi_lista"
      ]
    },
    {
      "cell_type": "code",
      "execution_count": null,
      "metadata": {
        "id": "eU_y3zjQXFm4"
      },
      "outputs": [],
      "source": [
        "2 not in mi_lista"
      ]
    },
    {
      "cell_type": "markdown",
      "metadata": {
        "id": "3GdICDJmXFm4"
      },
      "source": [
        "### Operadores de comparación"
      ]
    },
    {
      "cell_type": "code",
      "execution_count": null,
      "metadata": {
        "id": "yfPFKxrGXFm4"
      },
      "outputs": [],
      "source": [
        "1 > 2"
      ]
    },
    {
      "cell_type": "code",
      "execution_count": null,
      "metadata": {
        "id": "YeM_2BN9XFm4"
      },
      "outputs": [],
      "source": [
        "1 < 2"
      ]
    },
    {
      "cell_type": "code",
      "execution_count": null,
      "metadata": {
        "id": "8RW7r42nXFm4"
      },
      "outputs": [],
      "source": [
        "2 >= 2"
      ]
    },
    {
      "cell_type": "code",
      "execution_count": null,
      "metadata": {
        "id": "1wRGMwb0XFm4"
      },
      "outputs": [],
      "source": [
        "1 <= 2"
      ]
    },
    {
      "cell_type": "code",
      "execution_count": null,
      "metadata": {
        "id": "YPZ2ySt-XFm5"
      },
      "outputs": [],
      "source": [
        "1 == 1"
      ]
    },
    {
      "cell_type": "code",
      "execution_count": null,
      "metadata": {
        "id": "YbAcasvkXFm5"
      },
      "outputs": [],
      "source": [
        "1 != 1"
      ]
    },
    {
      "cell_type": "code",
      "execution_count": null,
      "metadata": {
        "id": "gQ9I9pGcXFm5"
      },
      "outputs": [],
      "source": [
        "\"Hola\" == \"Mundo\""
      ]
    },
    {
      "cell_type": "code",
      "execution_count": null,
      "metadata": {
        "id": "AVR5bLIGXFm5"
      },
      "outputs": [],
      "source": [
        "\"Hola\" != \"Mundo\""
      ]
    },
    {
      "cell_type": "markdown",
      "metadata": {
        "id": "CNh6qfQrXFm5"
      },
      "source": [
        "### Operadores Lógicos"
      ]
    },
    {
      "cell_type": "code",
      "execution_count": null,
      "metadata": {
        "id": "gUEFB_GCXFm5"
      },
      "outputs": [],
      "source": [
        "True and True"
      ]
    },
    {
      "cell_type": "code",
      "execution_count": null,
      "metadata": {
        "id": "UERLWzX4XFm6"
      },
      "outputs": [],
      "source": [
        "True or False"
      ]
    },
    {
      "cell_type": "code",
      "execution_count": null,
      "metadata": {
        "id": "9VoPzezQXFm6"
      },
      "outputs": [],
      "source": [
        "False and False"
      ]
    },
    {
      "cell_type": "code",
      "execution_count": null,
      "metadata": {
        "id": "HSJA3xpgXFm6"
      },
      "outputs": [],
      "source": [
        "True or False"
      ]
    },
    {
      "cell_type": "code",
      "execution_count": null,
      "metadata": {
        "id": "eWMOy4TwXFm6"
      },
      "outputs": [],
      "source": [
        "(2 > 1) and (2 < 3)"
      ]
    },
    {
      "cell_type": "code",
      "execution_count": null,
      "metadata": {
        "id": "nRvIWorHXFm6"
      },
      "outputs": [],
      "source": [
        "(2 > 1) and (3 < 2)"
      ]
    },
    {
      "cell_type": "code",
      "execution_count": null,
      "metadata": {
        "id": "lbepqVb4XFm6"
      },
      "outputs": [],
      "source": [
        "(2 > 1) or (3 < 2)"
      ]
    },
    {
      "cell_type": "code",
      "execution_count": null,
      "metadata": {
        "id": "ntzY9rfeXFm7"
      },
      "outputs": [],
      "source": [
        "(1 > 2) or (2 > 3) or (4 > 4)"
      ]
    },
    {
      "cell_type": "markdown",
      "metadata": {
        "id": "0xQyFfcyXFm7"
      },
      "source": [
        "### if, elif, else"
      ]
    },
    {
      "cell_type": "code",
      "execution_count": null,
      "metadata": {
        "id": "SGMb7XYcXFm7"
      },
      "outputs": [],
      "source": [
        "if True:\n",
        "    print(\"Cumplo la condición\")"
      ]
    },
    {
      "cell_type": "code",
      "execution_count": null,
      "metadata": {
        "id": "fV6ymoRZXFm7"
      },
      "outputs": [],
      "source": [
        "if False:\n",
        "    print(\"No cumplo la condición\")"
      ]
    },
    {
      "cell_type": "code",
      "execution_count": null,
      "metadata": {
        "id": "PPHicWxJXFm7"
      },
      "outputs": [],
      "source": [
        "if 1 == 2:\n",
        "    print(\"Hola Mundo\")"
      ]
    },
    {
      "cell_type": "code",
      "execution_count": null,
      "metadata": {
        "id": "Cq8v4qNeXFm8"
      },
      "outputs": [],
      "source": [
        "if 1 < 2:\n",
        "    print(\"Cumplo la condición\")"
      ]
    },
    {
      "cell_type": "code",
      "execution_count": null,
      "metadata": {
        "id": "nl_ScvNeXFm8"
      },
      "outputs": [],
      "source": [
        "if 1 < 2:\n",
        "    print(\"Hola Mundo 'IF'\")\n",
        "else:\n",
        "    print(\"Hola mundo 'ELSE'\")"
      ]
    },
    {
      "cell_type": "code",
      "execution_count": null,
      "metadata": {
        "id": "gW-sCgaxXFm8"
      },
      "outputs": [],
      "source": [
        "if 1 == 2:\n",
        "    print(\"Hola Mundo 'IF'\")\n",
        "else:\n",
        "    print(\"Hola Mundo 'ELSE'\")"
      ]
    },
    {
      "cell_type": "code",
      "execution_count": null,
      "metadata": {
        "id": "tKa3hB7mXFm8"
      },
      "outputs": [],
      "source": [
        "if 1 == 2:\n",
        "    print(\"Hola Mundo 'IF'\")\n",
        "elif 2 == 2:\n",
        "    print(\"Hola Mundo 'ELIF'\")\n",
        "else:\n",
        "    print(\"Hola Mundo 'ELSE'\")"
      ]
    },
    {
      "cell_type": "markdown",
      "metadata": {
        "id": "BLdXOTwuXFm8"
      },
      "source": [
        "### Bucle for"
      ]
    },
    {
      "cell_type": "code",
      "execution_count": null,
      "metadata": {
        "id": "JEtzaOS4XFm9"
      },
      "outputs": [],
      "source": [
        "mi_lista = [1,2,3,4,5,6,7,8,9]"
      ]
    },
    {
      "cell_type": "code",
      "execution_count": null,
      "metadata": {
        "id": "xDDzolAlXFm9"
      },
      "outputs": [],
      "source": [
        "for x in mi_lista:\n",
        "    print(x)"
      ]
    },
    {
      "cell_type": "code",
      "execution_count": null,
      "metadata": {
        "id": "QTfBcVrXXFm9"
      },
      "outputs": [],
      "source": [
        "for x in mi_lista:\n",
        "    print(\"Hola Mundo\")"
      ]
    },
    {
      "cell_type": "code",
      "execution_count": null,
      "metadata": {
        "id": "kWwwaNvNXFm9"
      },
      "outputs": [],
      "source": [
        "for x in mi_lista:\n",
        "    print(x * 2)"
      ]
    },
    {
      "cell_type": "markdown",
      "metadata": {
        "id": "rmHy1Z5lXFm9"
      },
      "source": [
        "### Bucle while"
      ]
    },
    {
      "cell_type": "code",
      "execution_count": null,
      "metadata": {
        "id": "nmYiawMCXFm9"
      },
      "outputs": [],
      "source": [
        "x = 1\n",
        "while x <= 5:\n",
        "    print(x)\n",
        "    x = x + 1"
      ]
    },
    {
      "cell_type": "markdown",
      "metadata": {
        "id": "_n1bQmBRXFm-"
      },
      "source": [
        "### Función range()"
      ]
    },
    {
      "cell_type": "code",
      "execution_count": null,
      "metadata": {
        "id": "zO1o38yzXFm-"
      },
      "outputs": [],
      "source": [
        "range(10)"
      ]
    },
    {
      "cell_type": "code",
      "execution_count": null,
      "metadata": {
        "id": "kUZ35eIXXFm-"
      },
      "outputs": [],
      "source": [
        "range(0,10)"
      ]
    },
    {
      "cell_type": "code",
      "execution_count": null,
      "metadata": {
        "id": "M3Ncrk5bXFm-"
      },
      "outputs": [],
      "source": [
        "range(0,10,2)"
      ]
    },
    {
      "cell_type": "code",
      "execution_count": null,
      "metadata": {
        "id": "X8QNJH89XFm-"
      },
      "outputs": [],
      "source": [
        "for x in range(0,10,2):\n",
        "    print(x)"
      ]
    },
    {
      "cell_type": "code",
      "execution_count": null,
      "metadata": {
        "id": "70k_RWSrXFm-"
      },
      "outputs": [],
      "source": [
        "list(range(10))"
      ]
    },
    {
      "cell_type": "code",
      "execution_count": null,
      "metadata": {
        "id": "2zd99fduXFm_"
      },
      "outputs": [],
      "source": [
        "tuple(range(10))"
      ]
    },
    {
      "cell_type": "markdown",
      "metadata": {
        "id": "y_gjMZ1XXFm_"
      },
      "source": [
        "### Funciones"
      ]
    },
    {
      "cell_type": "code",
      "execution_count": null,
      "metadata": {
        "id": "XMhRcWIEXFm_"
      },
      "outputs": [],
      "source": [
        "def mi_función(arg):\n",
        "    return arg * 2"
      ]
    },
    {
      "cell_type": "code",
      "execution_count": null,
      "metadata": {
        "id": "HGfXkE5RXFm_"
      },
      "outputs": [],
      "source": [
        "mi_función(2)"
      ]
    },
    {
      "cell_type": "code",
      "execution_count": null,
      "metadata": {
        "id": "fqMzadbOXFnA"
      },
      "outputs": [],
      "source": [
        "mi_función()"
      ]
    },
    {
      "cell_type": "code",
      "execution_count": null,
      "metadata": {
        "id": "ArMO9uf-XFnA"
      },
      "outputs": [],
      "source": [
        "def mi_función(arg=0):\n",
        "    return arg*2"
      ]
    },
    {
      "cell_type": "code",
      "execution_count": null,
      "metadata": {
        "id": "e8T4fAETXFnA"
      },
      "outputs": [],
      "source": [
        "mi_función()"
      ]
    },
    {
      "cell_type": "code",
      "execution_count": null,
      "metadata": {
        "id": "5c7U6zAgXFnA"
      },
      "outputs": [],
      "source": [
        "mi_función(4)"
      ]
    },
    {
      "cell_type": "code",
      "execution_count": null,
      "metadata": {
        "id": "3o8BdGnZXFnA"
      },
      "outputs": [],
      "source": [
        "def mi_función(arg_a=0, arg_b=0):\n",
        "    return arg_a*arg_b"
      ]
    },
    {
      "cell_type": "code",
      "execution_count": null,
      "metadata": {
        "id": "9G5JI85xXFnA"
      },
      "outputs": [],
      "source": [
        "mi_función(6,5)"
      ]
    },
    {
      "cell_type": "markdown",
      "metadata": {
        "id": "X4vdy6RcXFnB"
      },
      "source": [
        "### Métodos"
      ]
    },
    {
      "cell_type": "markdown",
      "metadata": {
        "id": "YsDLoaH7XFnB"
      },
      "source": [
        "Métodos en listas"
      ]
    },
    {
      "cell_type": "code",
      "execution_count": null,
      "metadata": {
        "id": "vH2CZAjFXFnB"
      },
      "outputs": [],
      "source": [
        "mi_lista = [1,2,3,4]"
      ]
    },
    {
      "cell_type": "code",
      "execution_count": null,
      "metadata": {
        "id": "Co6WQgsaXFnB"
      },
      "outputs": [],
      "source": [
        "mi_lista.append(5)"
      ]
    },
    {
      "cell_type": "code",
      "execution_count": null,
      "metadata": {
        "id": "SfzhVpyDXFnB"
      },
      "outputs": [],
      "source": [
        "mi_lista"
      ]
    },
    {
      "cell_type": "code",
      "execution_count": null,
      "metadata": {
        "id": "QvMjTxYzXFnB"
      },
      "outputs": [],
      "source": [
        "mi_lista.reverse()"
      ]
    },
    {
      "cell_type": "code",
      "execution_count": null,
      "metadata": {
        "id": "qs7zeZlCXFnB"
      },
      "outputs": [],
      "source": [
        "mi_lista"
      ]
    },
    {
      "cell_type": "code",
      "execution_count": null,
      "metadata": {
        "id": "UqQd3JTBXFnC"
      },
      "outputs": [],
      "source": [
        "mi_lista.sort()"
      ]
    },
    {
      "cell_type": "code",
      "execution_count": null,
      "metadata": {
        "id": "1AXU3fztXFnC"
      },
      "outputs": [],
      "source": [
        "mi_lista"
      ]
    },
    {
      "cell_type": "code",
      "execution_count": null,
      "metadata": {
        "id": "G_hkAy_gXFnC"
      },
      "outputs": [],
      "source": [
        "mi_string = \"Introducción a Python: Métodos\""
      ]
    },
    {
      "cell_type": "code",
      "execution_count": null,
      "metadata": {
        "id": "V3OpY2y0XFnC"
      },
      "outputs": [],
      "source": [
        "mi_string.capitalize()"
      ]
    },
    {
      "cell_type": "code",
      "execution_count": null,
      "metadata": {
        "id": "ma9EVEe_XFnC"
      },
      "outputs": [],
      "source": [
        "mi_string.upper()"
      ]
    },
    {
      "cell_type": "code",
      "execution_count": null,
      "metadata": {
        "id": "uXWebqS3XFnD"
      },
      "outputs": [],
      "source": [
        "mi_string.lower()"
      ]
    },
    {
      "cell_type": "code",
      "execution_count": null,
      "metadata": {
        "id": "E3jfEek5XFnD"
      },
      "outputs": [],
      "source": [
        "mi_string.split()"
      ]
    },
    {
      "cell_type": "code",
      "execution_count": null,
      "metadata": {
        "id": "91ylEiMrXFnD"
      },
      "outputs": [],
      "source": [
        "mi_string.split(\":\")"
      ]
    },
    {
      "cell_type": "markdown",
      "metadata": {
        "id": "r6UJyfczXFnD"
      },
      "source": [
        "Métodos en diccionarios"
      ]
    },
    {
      "cell_type": "code",
      "execution_count": null,
      "metadata": {
        "id": "Ow_BcCAnXFnD"
      },
      "outputs": [],
      "source": [
        "mi_diccionario = {\"clave1\":\"valor1\", \"clave2\":\"valor2\", \"clave3\":\"valor3\"}"
      ]
    },
    {
      "cell_type": "code",
      "execution_count": null,
      "metadata": {
        "id": "QdEEEI3eXFnE"
      },
      "outputs": [],
      "source": [
        "mi_diccionario.items()"
      ]
    },
    {
      "cell_type": "code",
      "execution_count": null,
      "metadata": {
        "id": "IyeJUw5IXFnE"
      },
      "outputs": [],
      "source": [
        "mi_diccionario.keys()"
      ]
    },
    {
      "cell_type": "code",
      "execution_count": null,
      "metadata": {
        "id": "Ga1w16fvXFnE"
      },
      "outputs": [],
      "source": [
        "mi_diccionario.values()"
      ]
    },
    {
      "cell_type": "markdown",
      "metadata": {
        "id": "LkkIULG6XFnE"
      },
      "source": [
        "Métodos en sets"
      ]
    },
    {
      "cell_type": "code",
      "execution_count": null,
      "metadata": {
        "id": "qRZm8qU6XFnE"
      },
      "outputs": [],
      "source": [
        "otro_set"
      ]
    },
    {
      "cell_type": "code",
      "execution_count": null,
      "metadata": {
        "id": "F8SAqj3kXFnE"
      },
      "outputs": [],
      "source": [
        "otro_set.add(6)"
      ]
    },
    {
      "cell_type": "code",
      "execution_count": null,
      "metadata": {
        "id": "Gdkd6Z5_XFnF"
      },
      "outputs": [],
      "source": [
        "otro_set"
      ]
    },
    {
      "cell_type": "markdown",
      "metadata": {
        "id": "GQhO_0faXFnF"
      },
      "source": [
        "- - -"
      ]
    },
    {
      "cell_type": "markdown",
      "metadata": {
        "id": "kS-Q1lrvXFnF"
      },
      "source": [
        "## Sección Extra:"
      ]
    },
    {
      "cell_type": "markdown",
      "metadata": {
        "id": "xm9CrOePXFnF"
      },
      "source": [
        "### Comprensión de lista (list comprehension)"
      ]
    },
    {
      "cell_type": "code",
      "execution_count": null,
      "metadata": {
        "id": "fLZle1sTXFnF"
      },
      "outputs": [],
      "source": [
        "mi_lista = [1,2,3,4,5]"
      ]
    },
    {
      "cell_type": "code",
      "execution_count": null,
      "metadata": {
        "id": "wOxtgK8AXFnF"
      },
      "outputs": [],
      "source": [
        "otra_lista = []"
      ]
    },
    {
      "cell_type": "code",
      "execution_count": null,
      "metadata": {
        "id": "LnzdS2YLXFnG"
      },
      "outputs": [],
      "source": [
        "for x in mi_lista:\n",
        "    otra_lista.append(x*2)"
      ]
    },
    {
      "cell_type": "code",
      "execution_count": null,
      "metadata": {
        "id": "jeTZ0xllXFnG"
      },
      "outputs": [],
      "source": [
        "otra_lista"
      ]
    },
    {
      "cell_type": "code",
      "execution_count": null,
      "metadata": {
        "id": "YivvCFB3XFnG"
      },
      "outputs": [],
      "source": [
        "otra_lista_distinta = [x*2 for x in mi_lista]"
      ]
    },
    {
      "cell_type": "code",
      "execution_count": null,
      "metadata": {
        "id": "HuT3aR7AXFnG"
      },
      "outputs": [],
      "source": [
        "otra_lista_distinta"
      ]
    },
    {
      "cell_type": "code",
      "execution_count": null,
      "metadata": {
        "id": "U4qfDuCNXFnG"
      },
      "outputs": [],
      "source": [
        "tuple([x*2 for x in mi_lista])"
      ]
    },
    {
      "cell_type": "markdown",
      "metadata": {
        "id": "8Mh_jmrZXFnG"
      },
      "source": [
        "### Map"
      ]
    },
    {
      "cell_type": "code",
      "execution_count": null,
      "metadata": {
        "id": "xB_bSRbMXFnG"
      },
      "outputs": [],
      "source": [
        "mi_lista = [1, 2, 3, 4, 5, 6, 7, 8, 9]"
      ]
    },
    {
      "cell_type": "code",
      "execution_count": null,
      "metadata": {
        "id": "2QFCAqEmXFnH"
      },
      "outputs": [],
      "source": [
        "def cuadrado(arg):\n",
        "    return arg**2"
      ]
    },
    {
      "cell_type": "code",
      "execution_count": null,
      "metadata": {
        "id": "8gha4tcyXFnH"
      },
      "outputs": [],
      "source": [
        "map(cuadrado,mi_lista)"
      ]
    },
    {
      "cell_type": "code",
      "execution_count": null,
      "metadata": {
        "id": "yXKznHhTXFnH"
      },
      "outputs": [],
      "source": [
        "list(map(cuadrado,mi_lista))"
      ]
    },
    {
      "cell_type": "markdown",
      "metadata": {
        "id": "sVXUEjyKXFnH"
      },
      "source": [
        "### Filter"
      ]
    },
    {
      "cell_type": "code",
      "execution_count": null,
      "metadata": {
        "id": "zGD9CQ50XFnH"
      },
      "outputs": [],
      "source": [
        "mi_lista = [1, 2, 3, 4, 5, 6, 7, 8, 9]"
      ]
    },
    {
      "cell_type": "code",
      "execution_count": null,
      "metadata": {
        "id": "ufGBsnI6XFnH"
      },
      "outputs": [],
      "source": [
        "def par(arg):\n",
        "    if arg % 2 == 0:\n",
        "        return True\n",
        "    else:\n",
        "        return False"
      ]
    },
    {
      "cell_type": "code",
      "execution_count": null,
      "metadata": {
        "id": "qc3ORBcBXFnH"
      },
      "outputs": [],
      "source": [
        "par(4)"
      ]
    },
    {
      "cell_type": "code",
      "execution_count": null,
      "metadata": {
        "id": "jfFJul6rXFnI"
      },
      "outputs": [],
      "source": [
        "list(map(par,mi_lista))"
      ]
    },
    {
      "cell_type": "code",
      "execution_count": null,
      "metadata": {
        "id": "9RWfQ4WlXFnI"
      },
      "outputs": [],
      "source": [
        "filter(par,mi_lista)"
      ]
    },
    {
      "cell_type": "code",
      "execution_count": null,
      "metadata": {
        "id": "pmHo2BYJXFnI"
      },
      "outputs": [],
      "source": [
        "list(filter(par,mi_lista))"
      ]
    },
    {
      "cell_type": "markdown",
      "metadata": {
        "id": "ter0guJxXFnI"
      },
      "source": [
        "- - -"
      ]
    },
    {
      "cell_type": "markdown",
      "metadata": {
        "id": "wIZh5WSlXFnI"
      },
      "source": [
        "Web de ejercicios Python:\n",
        "    \n",
        "https://checkio.org"
      ]
    },
    {
      "cell_type": "markdown",
      "metadata": {
        "id": "-fvg2MSxXFnI"
      },
      "source": [
        "- - -"
      ]
    }
  ],
  "metadata": {
    "kernelspec": {
      "display_name": "Python 3",
      "language": "python",
      "name": "python3"
    },
    "language_info": {
      "codemirror_mode": {
        "name": "ipython",
        "version": 3
      },
      "file_extension": ".py",
      "mimetype": "text/x-python",
      "name": "python",
      "nbconvert_exporter": "python",
      "pygments_lexer": "ipython3",
      "version": "3.8.5"
    },
    "colab": {
      "provenance": []
    }
  },
  "nbformat": 4,
  "nbformat_minor": 0
}