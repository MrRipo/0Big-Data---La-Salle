{
  "cells": [
    {
      "cell_type": "markdown",
      "metadata": {
        "id": "7v5s9XM1qIAn"
      },
      "source": [
        "# Scikit - Ejercicios Regresión\n",
        "- - -"
      ]
    },
    {
      "cell_type": "markdown",
      "metadata": {
        "id": "0FjvgU5oqIAt"
      },
      "source": [
        "*Para realizar los ejercicios emplea la cantidad de celdas que te sean necesarias*"
      ]
    },
    {
      "cell_type": "markdown",
      "metadata": {
        "id": "YL_x8kEOqIAu"
      },
      "source": [
        "- - -\n",
        "1 - Carga el dataset desde la url indicada y evita que Pandas asuma que la primera línea corresponda al nombre de las columnas:\n",
        "\n",
        "https://raw.githubusercontent.com/4data-lab/datasets/master/breast-cancer-wisconsin.csv"
      ]
    },
    {
      "cell_type": "code",
      "execution_count": null,
      "metadata": {
        "id": "vaV4v2DFqIAv"
      },
      "outputs": [],
      "source": []
    },
    {
      "cell_type": "markdown",
      "metadata": {
        "id": "Bb2LkO1_qIAw"
      },
      "source": [
        "2 - Muestra las primeras cinco filas del dataset y también muestra las últimas cinco filas del dataset"
      ]
    },
    {
      "cell_type": "code",
      "execution_count": null,
      "metadata": {
        "id": "Xwfv5VCwqIAx"
      },
      "outputs": [],
      "source": []
    },
    {
      "cell_type": "markdown",
      "metadata": {
        "id": "bol6ufTaqIAx"
      },
      "source": [
        "- - -\n",
        "3 - Obten el número de filas y columnas de las que consta el dataframe"
      ]
    },
    {
      "cell_type": "code",
      "execution_count": null,
      "metadata": {
        "id": "myvb4P7vqIAy"
      },
      "outputs": [],
      "source": []
    },
    {
      "cell_type": "markdown",
      "metadata": {
        "id": "ag_k28a8qIAz"
      },
      "source": [
        "- - -\n",
        "4 - Renombra las columnas del dataset\n",
        "\n",
        "    01. Sample_code_number\n",
        "    02. Clump_Thickness\n",
        "    03. Uniformity_of_Cell_Size\n",
        "    04. Uniformity_of_Cell_Shape\n",
        "    05. Marginal_Adhesion\n",
        "    06. Single_Epithelial_Cell_Size\n",
        "    07. Bare_Nuclei\n",
        "    08. Bland_Chromatin\n",
        "    09. Normal_Nucleoli\n",
        "    10. Mitoses\n",
        "    11. Class\n",
        "\n",
        "Nota : \"Class contiene dos posibles valores: benigno, maligno\""
      ]
    },
    {
      "cell_type": "code",
      "execution_count": null,
      "metadata": {
        "id": "0i1_eRlBqIAz"
      },
      "outputs": [],
      "source": []
    },
    {
      "cell_type": "markdown",
      "metadata": {
        "id": "OH1juXEIqIA0"
      },
      "source": [
        "- - -\n",
        "5 - Empleado Matplotlib y Seaborn realiza una count plot de la columna objetivo (\"Class\") y pon como título \"Count Plot of target class\" "
      ]
    },
    {
      "cell_type": "code",
      "execution_count": null,
      "metadata": {
        "id": "Wb951KG-qIA0"
      },
      "outputs": [],
      "source": []
    },
    {
      "cell_type": "markdown",
      "metadata": {
        "id": "cFVrmRfVqIA1"
      },
      "source": [
        "- - -\n",
        "6 - Renombra los registro de la columna objetivo \"Class\", remplazando valores benigno por 0 y maligno por 1"
      ]
    },
    {
      "cell_type": "code",
      "execution_count": null,
      "metadata": {
        "id": "_M7pFUjXqIA1"
      },
      "outputs": [],
      "source": []
    },
    {
      "cell_type": "markdown",
      "metadata": {
        "id": "Ebj4dLdJqIA2"
      },
      "source": [
        "- - -\n",
        "7 - ¿Hay alguna columna que crees que no va a aportar información relevante? Si es así, elimínala."
      ]
    },
    {
      "cell_type": "code",
      "execution_count": null,
      "metadata": {
        "id": "VOBJ9tmUqIA2"
      },
      "outputs": [],
      "source": []
    },
    {
      "cell_type": "markdown",
      "metadata": {
        "id": "CmaslZwdqIA3"
      },
      "source": [
        "- - -\n",
        "8 - Emplea un bucle for para realizar un print de los nombres de las columnas del dataset"
      ]
    },
    {
      "cell_type": "code",
      "execution_count": null,
      "metadata": {
        "id": "TCRx6wBpqIA3"
      },
      "outputs": [],
      "source": []
    },
    {
      "cell_type": "markdown",
      "metadata": {
        "id": "DEu8MJHAqIA3"
      },
      "source": [
        "- - -\n",
        "9 - Muestra los valores únicos de la columna \"Clump_Thickness\""
      ]
    },
    {
      "cell_type": "code",
      "execution_count": null,
      "metadata": {
        "id": "09mhzhb6qIA4"
      },
      "outputs": [],
      "source": []
    },
    {
      "cell_type": "markdown",
      "metadata": {
        "id": "p_SD99CuqIA4"
      },
      "source": [
        "- - -\n",
        "10 - Haciendo uso de un bucle for, realiza un print de los nombre de todas las columnas y sus valores únicos"
      ]
    },
    {
      "cell_type": "code",
      "execution_count": null,
      "metadata": {
        "id": "FOQ684jhqIA5"
      },
      "outputs": [],
      "source": []
    },
    {
      "cell_type": "markdown",
      "metadata": {
        "id": "G65ZhPkxqIA6"
      },
      "source": [
        "- - -\n",
        "11 - Muestra los registros del dataset donde se cumpla la condición que los valores de la columna \"Bare_Nuclei\" sean igual a \"?\" "
      ]
    },
    {
      "cell_type": "code",
      "execution_count": null,
      "metadata": {
        "id": "sqx8nJHQqIA6"
      },
      "outputs": [],
      "source": []
    },
    {
      "cell_type": "markdown",
      "metadata": {
        "id": "D3scLCiMqIA7"
      },
      "source": [
        "- - -\n",
        "12 - Remplaza los valores \"?\" de la columna \"Bare_Nuclei\" por NaN de Numpy"
      ]
    },
    {
      "cell_type": "code",
      "execution_count": null,
      "metadata": {
        "id": "VYdNF-2nqIA7"
      },
      "outputs": [],
      "source": []
    },
    {
      "cell_type": "markdown",
      "metadata": {
        "id": "gNFSKFtWqIA8"
      },
      "source": [
        "- - -\n",
        "13 - Elimina las filas del dataset que contengan NaN "
      ]
    },
    {
      "cell_type": "code",
      "execution_count": null,
      "metadata": {
        "id": "IndDzDaKqIA8"
      },
      "outputs": [],
      "source": []
    },
    {
      "cell_type": "markdown",
      "metadata": {
        "id": "nTpjXOpVqIA9"
      },
      "source": [
        "- - -\n",
        "14 - Separa el dataset en \"X\" e \"y\""
      ]
    },
    {
      "cell_type": "code",
      "execution_count": null,
      "metadata": {
        "id": "_hRBJlhRqIA9"
      },
      "outputs": [],
      "source": []
    },
    {
      "cell_type": "markdown",
      "metadata": {
        "id": "3_T5xwrhqIA9"
      },
      "source": [
        "- - -\n",
        "15 - Realiza la separación de \"X\" e \"y\" usando train_test_split"
      ]
    },
    {
      "cell_type": "code",
      "execution_count": null,
      "metadata": {
        "id": "9b2uHUcNqIA-"
      },
      "outputs": [],
      "source": []
    },
    {
      "cell_type": "markdown",
      "metadata": {
        "id": "KZFx6Xv0qIA_"
      },
      "source": [
        "- - -\n",
        "16 - Carga los datos en el algoritmo de regresión logística efectuando un fit "
      ]
    },
    {
      "cell_type": "code",
      "execution_count": null,
      "metadata": {
        "id": "zfV4A300qIBA"
      },
      "outputs": [],
      "source": []
    },
    {
      "cell_type": "markdown",
      "metadata": {
        "id": "FqAwR2JxqIBB"
      },
      "source": [
        "- - -\n",
        "17 - Con el modelo, realiza la predicción de los valores de X_test"
      ]
    },
    {
      "cell_type": "code",
      "execution_count": null,
      "metadata": {
        "id": "Itr_s4gJqIBC"
      },
      "outputs": [],
      "source": []
    },
    {
      "cell_type": "markdown",
      "metadata": {
        "id": "4lewgWFQqIBC"
      },
      "source": [
        "- - -\n",
        "18 - Obten la métrica de Accuracy para la predicción de test"
      ]
    },
    {
      "cell_type": "code",
      "execution_count": null,
      "metadata": {
        "id": "f-4QVZYDqIBD"
      },
      "outputs": [],
      "source": []
    },
    {
      "cell_type": "markdown",
      "metadata": {
        "id": "KDZtnwcmqIBD"
      },
      "source": [
        "- - -\n",
        "19 - Obten la métrica de AUC para la predicción de test"
      ]
    },
    {
      "cell_type": "code",
      "execution_count": null,
      "metadata": {
        "id": "0dx5yyDgqIBE"
      },
      "outputs": [],
      "source": []
    },
    {
      "cell_type": "markdown",
      "metadata": {
        "id": "haGori9zqIBE"
      },
      "source": [
        "- - -\n",
        "20 - Obten la matriz de confusión de test"
      ]
    },
    {
      "cell_type": "code",
      "execution_count": null,
      "metadata": {
        "id": "O6RJF65bqIBG"
      },
      "outputs": [],
      "source": []
    },
    {
      "cell_type": "markdown",
      "metadata": {
        "id": "qGl70iawqIBG"
      },
      "source": [
        "- - -"
      ]
    }
  ],
  "metadata": {
    "kernelspec": {
      "display_name": "Python 3",
      "language": "python",
      "name": "python3"
    },
    "language_info": {
      "codemirror_mode": {
        "name": "ipython",
        "version": 3
      },
      "file_extension": ".py",
      "mimetype": "text/x-python",
      "name": "python",
      "nbconvert_exporter": "python",
      "pygments_lexer": "ipython3",
      "version": "3.8.5"
    },
    "colab": {
      "provenance": []
    }
  },
  "nbformat": 4,
  "nbformat_minor": 0
}