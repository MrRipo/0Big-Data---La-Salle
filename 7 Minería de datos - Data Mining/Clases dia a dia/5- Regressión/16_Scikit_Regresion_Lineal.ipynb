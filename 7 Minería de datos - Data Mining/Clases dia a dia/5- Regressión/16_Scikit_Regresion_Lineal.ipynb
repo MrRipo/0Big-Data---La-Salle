{
  "cells": [
    {
      "cell_type": "markdown",
      "metadata": {
        "id": "dp6LQZL8pX9Q"
      },
      "source": [
        "# Scikit 1\n",
        "- - -"
      ]
    },
    {
      "cell_type": "markdown",
      "metadata": {
        "id": "wXU-632UpX9S"
      },
      "source": [
        "## Regresión Lineal"
      ]
    },
    {
      "cell_type": "markdown",
      "metadata": {
        "id": "ZyMUBSngpX9Y"
      },
      "source": [
        "- - -"
      ]
    },
    {
      "cell_type": "code",
      "execution_count": null,
      "metadata": {
        "id": "bsYdE-zXpX9Y"
      },
      "outputs": [],
      "source": [
        "import pandas as pd\n",
        "import seaborn as sns"
      ]
    },
    {
      "cell_type": "code",
      "execution_count": null,
      "metadata": {
        "id": "1NPhQNmxpX9a"
      },
      "outputs": [],
      "source": [
        "boston = pd.read_csv(\"https://raw.githubusercontent.com/4data-lab/datasets/master/boston.csv\")"
      ]
    },
    {
      "cell_type": "code",
      "execution_count": null,
      "metadata": {
        "id": "VUkNOfBxpX9b"
      },
      "outputs": [],
      "source": [
        "boston.head()"
      ]
    },
    {
      "cell_type": "code",
      "execution_count": null,
      "metadata": {
        "id": "OilBJkUhpX9b"
      },
      "outputs": [],
      "source": [
        "#nos saltamos la primera línea del dataset\n",
        "boston = pd.read_csv(\"https://raw.githubusercontent.com/4data-lab/datasets/master/boston.csv\", skiprows=1)"
      ]
    },
    {
      "cell_type": "code",
      "execution_count": null,
      "metadata": {
        "id": "fpymi53KpX9c"
      },
      "outputs": [],
      "source": [
        "boston.head()"
      ]
    },
    {
      "cell_type": "markdown",
      "metadata": {
        "id": "yKQKZyH_pX9c"
      },
      "source": [
        "- - -\n",
        "*Contenido del dataset*:\n",
        "\n",
        "CRIM - Tasa de criminalidad per cápita por ciudad  \n",
        "ZN: Proporción de tierra residencial zonificada para lotes de más de 25000 pies cuadrados  \n",
        "INDUS - Proporción de acres de negocios no minoristas por ciudad  \n",
        "CHAS - Variable dummy del río Charles (1 si el trecho delimita el río; 0 de lo contrario)  \n",
        "NOX - Concentración de óxidos nítricos (partes por 10 millones)  \n",
        "RM - Número promedio de habitaciones por vivienda  \n",
        "AGE: Proporción de unidades ocupadas por el propietario construidas antes de 1940  \n",
        "DIS - Distancias ponderadas a cinco centros de empleo de Boston  \n",
        "RAD - Índice de accesibilidad a autopistas radiales  \n",
        "TAX: Tasa de impuesto a la propiedad de valor total por $ 10000  \n",
        "PTRATIO - Proporción alumno-profesor por ciudad  \n",
        "BLACK - \"1000 (Bk - 0.63) ^ 2\" donde Bk es la proporción de afroamericanos por ciudad  \n",
        "LSTAT - \\% Estado inferior de la población  \n",
        "\n",
        "MEDV: Valor medio de las viviendas ocupadas por sus propietarios en $ 1000\n",
        "- - -"
      ]
    },
    {
      "cell_type": "markdown",
      "metadata": {
        "id": "IK-038vDpX9d"
      },
      "source": [
        "<img src=https://i.ibb.co/kQBYbYQ/08.jpg width=\"550\">"
      ]
    },
    {
      "cell_type": "markdown",
      "metadata": {
        "id": "9au1296apX9d"
      },
      "source": [
        "- - -"
      ]
    },
    {
      "cell_type": "code",
      "execution_count": null,
      "metadata": {
        "id": "fxvmVtUXpX9e"
      },
      "outputs": [],
      "source": [
        "boston = boston.rename(columns={\"MEDV\":\"PRICE\"})"
      ]
    },
    {
      "cell_type": "code",
      "execution_count": null,
      "metadata": {
        "id": "054aRpJ4pX9e"
      },
      "outputs": [],
      "source": [
        "boston[\"PRICE\"] = boston[\"PRICE\"] * 1000"
      ]
    },
    {
      "cell_type": "code",
      "execution_count": null,
      "metadata": {
        "id": "oBu1mx4qpX9e"
      },
      "outputs": [],
      "source": [
        "boston.head(1)"
      ]
    },
    {
      "cell_type": "code",
      "execution_count": null,
      "metadata": {
        "id": "rSmGTFPCpX9f"
      },
      "outputs": [],
      "source": [
        "boston.columns"
      ]
    },
    {
      "cell_type": "code",
      "execution_count": null,
      "metadata": {
        "id": "aQcymo3JpX9f"
      },
      "outputs": [],
      "source": [
        "boston.shape"
      ]
    },
    {
      "cell_type": "markdown",
      "metadata": {
        "id": "GtqkQLLGpX9g"
      },
      "source": [
        "- - -\n",
        "## Preparar los datos para el modelo"
      ]
    },
    {
      "cell_type": "code",
      "execution_count": null,
      "metadata": {
        "id": "0S7SS7YGpX9g"
      },
      "outputs": [],
      "source": [
        "#Separamos en X (features) e y (target)\n",
        "X = boston[[\"CRIM\", \"ZN\", \"INDUS\", \"CHAS\", \"NOX\", \"RM\", \"AGE\", \"DIS\", \"RAD\", \"TAX\", \"PTRATIO\", \"B\", \"LSTAT\"]]"
      ]
    },
    {
      "cell_type": "code",
      "execution_count": null,
      "metadata": {
        "id": "v05_Z1t4pX9g"
      },
      "outputs": [],
      "source": [
        "y = boston[\"PRICE\"]"
      ]
    },
    {
      "cell_type": "code",
      "execution_count": null,
      "metadata": {
        "id": "VaW2jLLSpX9h"
      },
      "outputs": [],
      "source": [
        "X.head()"
      ]
    },
    {
      "cell_type": "code",
      "execution_count": null,
      "metadata": {
        "id": "q4i4rns2pX9i"
      },
      "outputs": [],
      "source": [
        "y.head()"
      ]
    },
    {
      "cell_type": "markdown",
      "metadata": {
        "id": "ESSS3MLkpX9i"
      },
      "source": [
        "- - -\n",
        "A continuación, separaremos nuestros datos para tener un conjunto de entrenamiento y uno de prueba"
      ]
    },
    {
      "cell_type": "markdown",
      "metadata": {
        "id": "IygMcsNnpX9i"
      },
      "source": [
        "<img src=https://i.ibb.co/JzRSbqx/09.png width=\"400\">"
      ]
    },
    {
      "cell_type": "markdown",
      "metadata": {
        "id": "cnpt4eq2pX9j"
      },
      "source": [
        "- - -"
      ]
    },
    {
      "cell_type": "markdown",
      "metadata": {
        "id": "0CTLDkHYpX9j"
      },
      "source": [
        "## Realizamos train test split"
      ]
    },
    {
      "cell_type": "code",
      "execution_count": null,
      "metadata": {
        "id": "Hr4UvZ1-pX9j"
      },
      "outputs": [],
      "source": [
        "from sklearn.model_selection import train_test_split"
      ]
    },
    {
      "cell_type": "code",
      "execution_count": null,
      "metadata": {
        "id": "lGvT0_nDpX9k"
      },
      "outputs": [],
      "source": [
        "X_train, X_test, y_train, y_test = train_test_split(X, y, train_size=0.80, random_state=5)"
      ]
    },
    {
      "cell_type": "markdown",
      "metadata": {
        "id": "OxhaKadQpX9k"
      },
      "source": [
        "Alternativamente podemos definir el tamaño del split de las siguientes maneras:\n",
        "```\n",
        "X_train, X_test, y_train, y_test = train_test_split(X, y, test_size=0.20, random_state=5)\n",
        "\n",
        "X_train, X_test, y_train, y_test = train_test_split(X, y, train_size=0.80, test_size=0.20, random_state=5)\n",
        "\n",
        "```"
      ]
    },
    {
      "cell_type": "code",
      "execution_count": null,
      "metadata": {
        "id": "ZDVFUg9LpX9l"
      },
      "outputs": [],
      "source": [
        "X_train.head()"
      ]
    },
    {
      "cell_type": "code",
      "execution_count": null,
      "metadata": {
        "id": "J2C0W3BMpX9l"
      },
      "outputs": [],
      "source": [
        "y_train.head()"
      ]
    },
    {
      "cell_type": "code",
      "execution_count": null,
      "metadata": {
        "id": "RKe3x4-XpX9m"
      },
      "outputs": [],
      "source": [
        "X_test.head()"
      ]
    },
    {
      "cell_type": "code",
      "execution_count": null,
      "metadata": {
        "id": "episgz1MpX9m"
      },
      "outputs": [],
      "source": [
        "y_test.head()"
      ]
    },
    {
      "cell_type": "markdown",
      "metadata": {
        "id": "VQMYw3AEpX9m"
      },
      "source": [
        "- - -"
      ]
    },
    {
      "cell_type": "markdown",
      "metadata": {
        "id": "gOPKkLCrpX9m"
      },
      "source": [
        "## Entrenamos el modelo"
      ]
    },
    {
      "cell_type": "code",
      "execution_count": null,
      "metadata": {
        "id": "9Fkt-OwbpX9n"
      },
      "outputs": [],
      "source": [
        "from sklearn.linear_model import LinearRegression"
      ]
    },
    {
      "cell_type": "code",
      "execution_count": null,
      "metadata": {
        "id": "XqAczmo_pX9n"
      },
      "outputs": [],
      "source": [
        "lr = LinearRegression()"
      ]
    },
    {
      "cell_type": "code",
      "execution_count": null,
      "metadata": {
        "id": "Sun7HyMtpX9n"
      },
      "outputs": [],
      "source": [
        "lr.fit(X_train, y_train)"
      ]
    },
    {
      "cell_type": "markdown",
      "metadata": {
        "id": "fs-8JOAGpX9o"
      },
      "source": [
        "- - -"
      ]
    },
    {
      "cell_type": "code",
      "execution_count": null,
      "metadata": {
        "id": "EEEIDuJqpX9o"
      },
      "outputs": [],
      "source": [
        "lr.intercept_"
      ]
    },
    {
      "cell_type": "code",
      "execution_count": null,
      "metadata": {
        "id": "rXLI89rJpX9o"
      },
      "outputs": [],
      "source": [
        "lr.coef_"
      ]
    },
    {
      "cell_type": "code",
      "execution_count": null,
      "metadata": {
        "id": "obJ_z4ROpX9p"
      },
      "outputs": [],
      "source": [
        "pd.DataFrame(data=lr.coef_, index=X.columns, columns=[\"COEFICIENTES\"])"
      ]
    },
    {
      "cell_type": "markdown",
      "metadata": {
        "id": "GHxovvW6pX9p"
      },
      "source": [
        "También podríamos haber escrito nuestra linea de la siguiente manera sin necesidad de indicar data= e index="
      ]
    },
    {
      "cell_type": "code",
      "source": [
        "#pd.DataFrame(lr.coef_, X.columns, [\"COEFICIENTES\"])"
      ],
      "metadata": {
        "id": "-_347-C0tR-v"
      },
      "execution_count": null,
      "outputs": []
    },
    {
      "cell_type": "markdown",
      "metadata": {
        "id": "Qfhq4hovpX9p"
      },
      "source": [
        "- - -\n",
        "El incremento de una unidad de RM (Número promedio de habitaciones por vivienda)\n",
        "\n",
        "Sin verse alteradas las restantes variables.\n",
        "\n",
        "Incrementa el valor de la vivienda en **3413** Dolares aproximadamente\n",
        "- - -\n",
        "Otro ejemplo es que por cada unidad de NOX (Concentración de óxidos nítricos)\n",
        "\n",
        "Sin verse alteradas las restantes variables.\n",
        "\n",
        "Desciende el valor de la vivienda en **15957** Dolares aproximadamente.\n",
        "- - -"
      ]
    },
    {
      "cell_type": "markdown",
      "metadata": {
        "id": "fmTxo0h4pX9q"
      },
      "source": [
        "A continuación usaremos el método *predict* al que le pasaremos los datos que tenemos separados para hacer nuestro test.  \n",
        "El método *predict* usará el modelo entrenado de Regresión Lineal para realizar predicciones del target. "
      ]
    },
    {
      "cell_type": "code",
      "execution_count": null,
      "metadata": {
        "id": "mdgGld40pX9q"
      },
      "outputs": [],
      "source": [
        "y_pred = lr.predict(X_test)"
      ]
    },
    {
      "cell_type": "code",
      "execution_count": null,
      "metadata": {
        "id": "sH1OKJDPpX9q"
      },
      "outputs": [],
      "source": [
        "print(\"Valores de la predicción:\")\n",
        "list(y_pred)[0:15]"
      ]
    },
    {
      "cell_type": "code",
      "execution_count": null,
      "metadata": {
        "id": "zcF6vnp5pX9r"
      },
      "outputs": [],
      "source": [
        "print(\"Valores del target:\")\n",
        "list(y_test)[0:15]"
      ]
    },
    {
      "cell_type": "markdown",
      "metadata": {
        "id": "o9m_bHr-pX9r"
      },
      "source": [
        "- - -\n",
        "    Para tener una idea aproximada del éxito de nuestro modelo \n",
        "    podemos realizar un scatterplot con los valores de la predicción y los del target."
      ]
    },
    {
      "cell_type": "code",
      "execution_count": null,
      "metadata": {
        "id": "llWTQkL9pX9r"
      },
      "outputs": [],
      "source": [
        "import matplotlib.pyplot as plt"
      ]
    },
    {
      "cell_type": "code",
      "execution_count": null,
      "metadata": {
        "id": "2GrCBKoOpX9s"
      },
      "outputs": [],
      "source": [
        "import seaborn as sns"
      ]
    },
    {
      "cell_type": "code",
      "execution_count": null,
      "metadata": {
        "scrolled": false,
        "id": "VEPO2bsjpX9s"
      },
      "outputs": [],
      "source": [
        "plt.figure(figsize=(10,5))\n",
        "sns.scatterplot(x=y_test, y=y_pred)"
      ]
    },
    {
      "cell_type": "markdown",
      "metadata": {
        "id": "7mpxnyr2pX9s"
      },
      "source": [
        "    Lo que esperamos ver es una concentración de puntos sobre la diagonal de nuestro plot con una tendecia ascendente."
      ]
    },
    {
      "cell_type": "markdown",
      "metadata": {
        "id": "TNOTlv1WpX9s"
      },
      "source": [
        "- - -"
      ]
    },
    {
      "cell_type": "markdown",
      "metadata": {
        "id": "StLJLLTJpX9t"
      },
      "source": [
        "## Evaluamos el modelo"
      ]
    },
    {
      "cell_type": "markdown",
      "metadata": {
        "id": "QPPBuwt4pX9t"
      },
      "source": [
        "- - -\n",
        "\n",
        "Para evaluar el modelo usaremos el método score que determinara lo bien que se ajusta la línea de regresión a los datos.  \n",
        "\n",
        "Cuanto más cerca sea su valor a 1 mejor lo hace.\n",
        "\n",
        "Para ello le pasaremos como primer valor los datos de test con los cuales probar el modelo y, luego, el target que deberíamos obtener.\n",
        "- - -"
      ]
    },
    {
      "cell_type": "code",
      "execution_count": null,
      "metadata": {
        "id": "HluVbZYipX9t"
      },
      "outputs": [],
      "source": [
        "lr.score(X_test, y_test)"
      ]
    },
    {
      "cell_type": "markdown",
      "metadata": {
        "id": "oK0mpAkfpX9t"
      },
      "source": [
        "Si los valores de la predicción fuesen identicos a los del target el resultado del score sería 1. A modo de ejemplo de prueba, si le pasamos los datos de nuestra predicción como si fueran los valores del target podríamos ver este comportamiento."
      ]
    },
    {
      "cell_type": "markdown",
      "metadata": {
        "id": "xhpAxns8pX9u"
      },
      "source": [
        "<img src=https://i.ibb.co/XLHftzg/07.jpg width=\"475\">"
      ]
    },
    {
      "cell_type": "markdown",
      "metadata": {
        "id": "8LukB0bfpX9u"
      },
      "source": [
        "La diferencia entre el valor predicho y el valor real se le denomina residuo.\n",
        "\n",
        "En un modelo de regresión siempre es necesario minimizar la diferencia entre el valor predicho y el valor real.\n",
        "\n",
        "De esta forma el valor de R2 muestra qué tan buena es la línea del modelo de regresión lineal."
      ]
    },
    {
      "cell_type": "markdown",
      "metadata": {
        "id": "yTfbuaZDpX9u"
      },
      "source": [
        "- - -\n",
        "0,00 ---> No existe correlación lineal alguna entre las variables  \n",
        "0,10 ---> Correlación positiva débil  \n",
        "0,50 ---> Correlación positiva media  \n",
        "0,75 ---> Correlación positiva considerable  \n",
        "0,90 ---> Correlación positiva muy fuerte  \n",
        "1,00 ---> Correlación positiva perfecta\n",
        "- - -"
      ]
    },
    {
      "cell_type": "markdown",
      "metadata": {
        "id": "pQZ1-HArpX9u"
      },
      "source": [
        "Más información:\n",
        "\n",
        "https://scikit-learn.org/stable/modules/generated/sklearn.linear_model.LinearRegression.html\n",
        "\n",
        "https://en.wikipedia.org/wiki/Coefficient_of_determination"
      ]
    },
    {
      "cell_type": "code",
      "source": [
        "import numpy as np\n",
        "from sklearn.metrics import mean_squared_error, r2_score\n",
        "rmse_Lreg = np.sqrt(mean_squared_error(y_test, y_pred))\n",
        "print('RMSE value is = {}'.format(rmse_Lreg))\n",
        "#Método alternativo para calcular la r2_score\n",
        "r2_Lreg = r2_score(y_test, y_pred)\n",
        "print('R-squared value is {}'.format(r2_Lreg))"
      ],
      "metadata": {
        "id": "MEKrVHs0uvk_"
      },
      "execution_count": null,
      "outputs": []
    },
    {
      "cell_type": "markdown",
      "metadata": {
        "id": "XQWVn9NJpX9v"
      },
      "source": [
        "- - -"
      ]
    },
    {
      "cell_type": "markdown",
      "source": [
        "#Problemas éticos con el dataset"
      ],
      "metadata": {
        "id": "HuI0CXO2j53M"
      }
    },
    {
      "cell_type": "code",
      "source": [
        "#¿Hay que usar siempre todos los datos que tenemos disponibles?\n",
        "plt.figure(figsize=(10,10))\n",
        "corr = boston.corr()\n",
        "sns.heatmap(data=corr, square=True , annot=True, cbar=True,linewidth=2);"
      ],
      "metadata": {
        "id": "nxnatNyKj7rJ"
      },
      "execution_count": null,
      "outputs": []
    },
    {
      "cell_type": "code",
      "source": [
        "X = boston[[\"CRIM\", \"ZN\", \"INDUS\", \"CHAS\", \"NOX\", \"RM\", \"AGE\", \"DIS\", \"RAD\", \"TAX\", \"PTRATIO\", \"LSTAT\"]]\n",
        "y = boston[\"PRICE\"]\n",
        "print(X.shape)"
      ],
      "metadata": {
        "id": "36OUgN39kZts"
      },
      "execution_count": null,
      "outputs": []
    },
    {
      "cell_type": "code",
      "source": [
        "X_train, X_test, y_train, y_test = train_test_split(X, y, train_size=0.80, random_state=5)\n",
        "lr = LinearRegression()\n",
        "lr.fit(X_train, y_train)\n",
        "y_pred = lr.predict(X_test)\n",
        "rmse_Lreg = np.sqrt(mean_squared_error(y_test, y_pred))\n",
        "print('RMSE value is = {}'.format(rmse_Lreg))\n",
        "#Método alternativo para calcular la r2_score\n",
        "r2_Lreg = r2_score(y_test, y_pred)\n",
        "print('R-squared value is {}'.format(r2_Lreg))\n",
        "\n",
        "#ANTES: RMSE value is = 4568.292042303144\n",
        "#AHORA: R-squared value is 0.733449214745315\n"
      ],
      "metadata": {
        "id": "L5xvKLAa5CdX"
      },
      "execution_count": null,
      "outputs": []
    }
  ],
  "metadata": {
    "kernelspec": {
      "display_name": "Python 3",
      "language": "python",
      "name": "python3"
    },
    "language_info": {
      "codemirror_mode": {
        "name": "ipython",
        "version": 3
      },
      "file_extension": ".py",
      "mimetype": "text/x-python",
      "name": "python",
      "nbconvert_exporter": "python",
      "pygments_lexer": "ipython3",
      "version": "3.8.5"
    },
    "colab": {
      "provenance": []
    }
  },
  "nbformat": 4,
  "nbformat_minor": 0
}