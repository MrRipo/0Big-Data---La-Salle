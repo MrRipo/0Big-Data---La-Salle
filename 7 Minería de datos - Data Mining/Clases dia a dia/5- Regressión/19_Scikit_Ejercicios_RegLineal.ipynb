{
  "nbformat": 4,
  "nbformat_minor": 0,
  "metadata": {
    "colab": {
      "provenance": []
    },
    "kernelspec": {
      "name": "python3",
      "display_name": "Python 3"
    },
    "language_info": {
      "name": "python"
    }
  },
  "cells": [
    {
      "cell_type": "markdown",
      "source": [
        "# Scikit - Ejercicios Regresión lineal\n",
        "\n",
        "\n",
        "---"
      ],
      "metadata": {
        "id": "888m7oNLucD1"
      }
    },
    {
      "cell_type": "markdown",
      "source": [
        "*Para realizar los ejercicios emplea la cantidad de celdas que te sean necesarias*"
      ],
      "metadata": {
        "id": "R9QRW8dNujNh"
      }
    },
    {
      "cell_type": "code",
      "execution_count": null,
      "metadata": {
        "id": "QSJl4bhmuSwT"
      },
      "outputs": [],
      "source": [
        "from sklearn.datasets import fetch_california_housing\n",
        "import pandas as pd\n",
        "\n"
      ]
    },
    {
      "cell_type": "code",
      "source": [
        "data = fetch_california_housing(as_frame = True)\n",
        "X = data.data\n",
        "y = data.target\n",
        "full = data.frame\n",
        "\n",
        "print(X.head())\n",
        "print(y.head())\n",
        "print(full.head())"
      ],
      "metadata": {
        "id": "FsThDxS_u_ou"
      },
      "execution_count": null,
      "outputs": []
    },
    {
      "cell_type": "code",
      "source": [
        "#Busca en el significado de cada columna del dataset y anótalo debajo"
      ],
      "metadata": {
        "id": "Or3GP9qWwOi8"
      },
      "execution_count": null,
      "outputs": []
    },
    {
      "cell_type": "code",
      "source": [],
      "metadata": {
        "id": "3o6-qzL3ygim"
      },
      "execution_count": null,
      "outputs": []
    },
    {
      "cell_type": "markdown",
      "source": [
        "1 - Obten el número de filas y columnas de las que consta el dataframe (incluyendo el target)."
      ],
      "metadata": {
        "id": "dvAeNTo3whQ7"
      }
    },
    {
      "cell_type": "code",
      "source": [],
      "metadata": {
        "id": "CV5N-qfZwbCn"
      },
      "execution_count": null,
      "outputs": []
    },
    {
      "cell_type": "markdown",
      "source": [
        "2 - ¿Hay algún valor NaN en alguna de las categorías?"
      ],
      "metadata": {
        "id": "XiJw6hphwk8u"
      }
    },
    {
      "cell_type": "code",
      "source": [],
      "metadata": {
        "id": "8Ga3i5kmwpvE"
      },
      "execution_count": null,
      "outputs": []
    },
    {
      "cell_type": "markdown",
      "source": [
        "3 - ¿Qué variables van a ser más relevantes para la regresión sobre la variable MedHousVal?\n",
        "\n"
      ],
      "metadata": {
        "id": "K1OO5kgSz8BY"
      }
    },
    {
      "cell_type": "code",
      "source": [],
      "metadata": {
        "id": "TSgGAq5szr-I"
      },
      "execution_count": null,
      "outputs": []
    },
    {
      "cell_type": "markdown",
      "source": [
        "4- Divide el dataset en Train (75%) y Test (25%)."
      ],
      "metadata": {
        "id": "DG7iLmHz0sB9"
      }
    },
    {
      "cell_type": "code",
      "source": [],
      "metadata": {
        "id": "K-6jr1Iq0rqE"
      },
      "execution_count": null,
      "outputs": []
    },
    {
      "cell_type": "markdown",
      "source": [
        "5- Entrena un regresor y evalúa los datos de test."
      ],
      "metadata": {
        "id": "RfBMjEpZ1J-v"
      }
    },
    {
      "cell_type": "code",
      "source": [],
      "metadata": {
        "id": "gKImEb3S1N39"
      },
      "execution_count": null,
      "outputs": []
    },
    {
      "cell_type": "markdown",
      "source": [
        "6- Evalúa el modelo con las métricas R2 y RMSE."
      ],
      "metadata": {
        "id": "32PTjaJ30fbF"
      }
    },
    {
      "cell_type": "code",
      "source": [],
      "metadata": {
        "id": "25bti3Hh0njQ"
      },
      "execution_count": null,
      "outputs": []
    },
    {
      "cell_type": "markdown",
      "source": [
        "7- Escoge únicamente 2 variables y entrena otro regresor.\n",
        "¿Cuál ha funcionado mejor?"
      ],
      "metadata": {
        "id": "ta1Nf1GF0Xm7"
      }
    },
    {
      "cell_type": "code",
      "source": [],
      "metadata": {
        "id": "s71pck6T0fKM"
      },
      "execution_count": null,
      "outputs": []
    }
  ]
}