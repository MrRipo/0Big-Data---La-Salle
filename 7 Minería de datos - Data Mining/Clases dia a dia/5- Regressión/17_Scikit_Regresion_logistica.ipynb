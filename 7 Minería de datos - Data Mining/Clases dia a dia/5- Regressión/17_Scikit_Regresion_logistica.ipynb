{
  "cells": [
    {
      "cell_type": "markdown",
      "metadata": {
        "id": "5NiV-r8-2o9a"
      },
      "source": [
        "# Scikit Learn 2\n",
        "- - -"
      ]
    },
    {
      "cell_type": "markdown",
      "metadata": {
        "id": "ZNFR1Yen2o9f"
      },
      "source": [
        "## Regresión Logística"
      ]
    },
    {
      "cell_type": "markdown",
      "metadata": {
        "id": "n8pIXyfE2o9f"
      },
      "source": [
        "La Regresión logística es un tipo de análisis de regresión utilizado para predecir el resultado de una variable categórica.\n",
        "\n",
        "Ejemplo de ello, puede ser predecir el resultado de problemas de clasificación tales como:\n",
        "\n",
        "+ Detección de transacciones fraudulentas.\n",
        "+ Detección de Spam.\n",
        "+ Otros...\n",
        "\n",
        "Por lo que con problemas de este tipo podriamos, etiquetar un correo que es Spam como 1 y un correo que no es Spam como 0.\n",
        "\n",
        "La clave de la regresión logística es el uso de la función sigmoide.\n",
        "\n",
        "<img src=https://i.ibb.co/wJMYnnv/01.png width=\"450\">\n",
        "\n",
        "Con esta función siempre obtendremos alguna **probabilidad** comprendida entre 0 y 1.\n",
        "\n",
        "Eso significa que podemos establecer un punto de corte.\n",
        "\n",
        "Dicho corte es el que determinara si nuestra predicción pertencece a una clase u otra.\n",
        "\n",
        "Generalmente este corte esta establecido en 0.5 con lo cual si resulta un 0.5 o menor irá a la clase 0, en caso contrario irá a la clase 1."
      ]
    },
    {
      "cell_type": "markdown",
      "metadata": {
        "id": "u7OJiIuC2o9g"
      },
      "source": [
        "- - -"
      ]
    },
    {
      "cell_type": "markdown",
      "metadata": {
        "id": "_DIK7Gax2o9h"
      },
      "source": [
        "### Dataset Pima Indians Diabetes\n",
        "\n",
        "+ Subconjunto de datos de la base de datos del Instituto Nacional de la Diabetes y las Enfermedades Digestivas y Renales.\n",
        "\n",
        "+ Los datos han sido fitrados para centrarse en pacientes femeninos con herencia de indios pima.  \n",
        "\n",
        "+ Se incluyen información médica como niveles de glucosa e insulina y factores de estilo de vida.  "
      ]
    },
    {
      "cell_type": "markdown",
      "metadata": {
        "id": "6t09JuY92o9i"
      },
      "source": [
        "- - -"
      ]
    },
    {
      "cell_type": "code",
      "execution_count": null,
      "metadata": {
        "id": "PVpbVdNq2o9i"
      },
      "outputs": [],
      "source": [
        "import pandas as pd"
      ]
    },
    {
      "cell_type": "code",
      "execution_count": null,
      "metadata": {
        "id": "XDTy_RZR2o9k"
      },
      "outputs": [],
      "source": [
        "import warnings\n",
        "warnings.filterwarnings(action=\"ignore\")"
      ]
    },
    {
      "cell_type": "code",
      "execution_count": null,
      "metadata": {
        "id": "baGvofiV2o9l"
      },
      "outputs": [],
      "source": [
        "diabetes = pd.read_csv(\"https://raw.githubusercontent.com/4data-lab/datasets/master/diabetes.csv\")"
      ]
    },
    {
      "cell_type": "code",
      "execution_count": null,
      "metadata": {
        "id": "CTH9Gdki2o9l"
      },
      "outputs": [],
      "source": [
        "diabetes.head()"
      ]
    },
    {
      "cell_type": "code",
      "execution_count": null,
      "metadata": {
        "id": "f8Zl_7Ix2o9m"
      },
      "outputs": [],
      "source": [
        "diabetes = pd.read_csv(\"https://raw.githubusercontent.com/4data-lab/datasets/master/diabetes.csv\", header=None)"
      ]
    },
    {
      "cell_type": "code",
      "execution_count": null,
      "metadata": {
        "id": "DXzvK6yG2o9n"
      },
      "outputs": [],
      "source": [
        "diabetes.head()"
      ]
    },
    {
      "cell_type": "markdown",
      "metadata": {
        "id": "bgFGbg9h2o9o"
      },
      "source": [
        "- - -\n",
        "*Contenido del dataset*:\n",
        "\n",
        "0. Number of times pregnant\n",
        "1. Plasma glucose concentration a 2 hours in an oral glucose tolerance test\n",
        "2. Diastolic blood pressure (mm Hg)\n",
        "3. Triceps skin fold thickness (mm)\n",
        "4. 2-Hour serum insulin (mu U/ml)\n",
        "5. Body mass index (weight in kg/(height in m)^2)\n",
        "6. Diabetes pedigree function\n",
        "7. Age (years)\n",
        "\n",
        "\n",
        "8. Diabetes  \n",
        "    - 0\n",
        "    - 1\n",
        "- - -"
      ]
    },
    {
      "cell_type": "markdown",
      "metadata": {
        "id": "5s8eMwA_2o9o"
      },
      "source": [
        "<img src=https://i.ibb.co/8xd44kb/02.jpg width=\"450\">"
      ]
    },
    {
      "cell_type": "markdown",
      "metadata": {
        "id": "A6fn5kzT2o9p"
      },
      "source": [
        "- - -"
      ]
    },
    {
      "cell_type": "code",
      "execution_count": null,
      "metadata": {
        "id": "QYDyYfmI2o9q"
      },
      "outputs": [],
      "source": [
        "diabetes.columns = [\"num_preg\", \"glucose_conc\", \"diastolic_bp\", \"thickness\", \"insulin\", \"bmi\", \"diab_pred\", \"age\", \"diabetes\"]"
      ]
    },
    {
      "cell_type": "code",
      "execution_count": null,
      "metadata": {
        "id": "r6KV91XK2o9q"
      },
      "outputs": [],
      "source": [
        "diabetes.head()"
      ]
    },
    {
      "cell_type": "code",
      "execution_count": null,
      "metadata": {
        "id": "kUKLVnKL2o9r"
      },
      "outputs": [],
      "source": [
        "diabetes.shape"
      ]
    },
    {
      "cell_type": "markdown",
      "metadata": {
        "id": "bbC7C3tZ2o9r"
      },
      "source": [
        "- - -"
      ]
    },
    {
      "cell_type": "code",
      "source": [
        "#Alternativa, antes hemos visto antes que podemos declarar así nuestras X e y, abajo tenemos una alternativa.\n",
        "#X = diabetes[[\"num_preg\", \"glucose_conc\", \"diastolic_bp\", \"thickness\", \"insulin\", \"bmi\", \"diab_pred\", \"age\"]]\n",
        "#y = diabetes[\"diabetes\"]"
      ],
      "metadata": {
        "id": "mdw_Ly113Jtz"
      },
      "execution_count": null,
      "outputs": []
    },
    {
      "cell_type": "markdown",
      "metadata": {
        "id": "OB6u-HG02o9s"
      },
      "source": [
        "- - -"
      ]
    },
    {
      "cell_type": "markdown",
      "metadata": {
        "id": "0dnpbS3u2o9t"
      },
      "source": [
        "Alternativamente podriamos separar \"X\" e \"y\" de la siguiente manera:"
      ]
    },
    {
      "cell_type": "code",
      "execution_count": null,
      "metadata": {
        "id": "rpRtnfTB2o9t"
      },
      "outputs": [],
      "source": [
        "X = diabetes.drop([\"diabetes\"], axis=1)"
      ]
    },
    {
      "cell_type": "code",
      "execution_count": null,
      "metadata": {
        "id": "qlcv6yNk2o9t"
      },
      "outputs": [],
      "source": [
        "y = diabetes[\"diabetes\"]"
      ]
    },
    {
      "cell_type": "code",
      "execution_count": null,
      "metadata": {
        "id": "dj0_usMO2o9u"
      },
      "outputs": [],
      "source": [
        "X.shape"
      ]
    },
    {
      "cell_type": "code",
      "execution_count": null,
      "metadata": {
        "id": "MCqYTZde2o9u"
      },
      "outputs": [],
      "source": [
        "y.shape"
      ]
    },
    {
      "cell_type": "code",
      "source": [
        "print('Hay {} mujeres con diabetes'.format(y[y==1].count()))\n",
        "print('Hay {} mujeres sin diabetes'.format(y[y==0].count()))"
      ],
      "metadata": {
        "id": "8y20w4RTVkvB"
      },
      "execution_count": null,
      "outputs": []
    },
    {
      "cell_type": "markdown",
      "metadata": {
        "id": "kcNk5Rcr2o9v"
      },
      "source": [
        "- - -"
      ]
    },
    {
      "cell_type": "code",
      "execution_count": null,
      "metadata": {
        "id": "XevElzET2o9v"
      },
      "outputs": [],
      "source": [
        "from sklearn.model_selection import train_test_split"
      ]
    },
    {
      "cell_type": "code",
      "execution_count": null,
      "metadata": {
        "id": "xgQmmGNO2o9w"
      },
      "outputs": [],
      "source": [
        "X_train, X_test, y_train, y_test = train_test_split(X, y, stratify=y, test_size=0.3, random_state=2)\n",
        "#stratify hace que se mantengan las proporciones del dataset\n",
        "print(\"Shape de X_train: {}, shape de X_test: {}\".format(X_train.shape, X_test.shape))"
      ]
    },
    {
      "cell_type": "markdown",
      "metadata": {
        "id": "1o78EXMI2o9w"
      },
      "source": [
        "<img src=https://i.ibb.co/Sw6x2W4/03.png width=\"450\">"
      ]
    },
    {
      "cell_type": "code",
      "execution_count": null,
      "metadata": {
        "id": "wgnODXLX2o9x"
      },
      "outputs": [],
      "source": [
        "from sklearn.linear_model import LogisticRegression"
      ]
    },
    {
      "cell_type": "code",
      "execution_count": null,
      "metadata": {
        "id": "qGzBXGjY2o9y"
      },
      "outputs": [],
      "source": [
        "LR = LogisticRegression()"
      ]
    },
    {
      "cell_type": "code",
      "execution_count": null,
      "metadata": {
        "id": "pgM4wA9k2o9z"
      },
      "outputs": [],
      "source": [
        "LR.fit(X_train, y_train)"
      ]
    },
    {
      "cell_type": "code",
      "execution_count": null,
      "metadata": {
        "id": "0BiayyxU2o90"
      },
      "outputs": [],
      "source": [
        "y_train_pred = LR.predict(X_train)"
      ]
    },
    {
      "cell_type": "code",
      "execution_count": null,
      "metadata": {
        "id": "1FiQDcGP2o91"
      },
      "outputs": [],
      "source": [
        "y_test_pred = LR.predict(X_test)"
      ]
    },
    {
      "cell_type": "markdown",
      "metadata": {
        "id": "W-zGnmw52o92"
      },
      "source": [
        "- - -"
      ]
    },
    {
      "cell_type": "code",
      "execution_count": null,
      "metadata": {
        "id": "dJO6N26-2o92"
      },
      "outputs": [],
      "source": [
        "from sklearn.metrics import accuracy_score"
      ]
    },
    {
      "cell_type": "code",
      "execution_count": null,
      "metadata": {
        "id": "mxSN9PAu2o92"
      },
      "outputs": [],
      "source": [
        "print(\"Accuracy - Datos de train\")\n",
        "accuracy_score(y_train, y_train_pred)"
      ]
    },
    {
      "cell_type": "code",
      "execution_count": null,
      "metadata": {
        "id": "3n1Tk6_22o93"
      },
      "outputs": [],
      "source": [
        "print(\"Accuracy - Datos de test\")\n",
        "accuracy_score(y_test, y_test_pred)"
      ]
    },
    {
      "cell_type": "markdown",
      "metadata": {
        "id": "0hBRc_8o2o94"
      },
      "source": [
        "- - -"
      ]
    },
    {
      "cell_type": "markdown",
      "metadata": {
        "id": "kLCtQDFG2o94"
      },
      "source": [
        "### Matrix de confusión"
      ]
    },
    {
      "cell_type": "code",
      "execution_count": null,
      "metadata": {
        "id": "JwUFujT72o95"
      },
      "outputs": [],
      "source": [
        "from sklearn.metrics import confusion_matrix\n",
        "from sklearn.metrics import ConfusionMatrixDisplay\n"
      ]
    },
    {
      "cell_type": "code",
      "execution_count": null,
      "metadata": {
        "id": "GcSCDrbV2o96"
      },
      "outputs": [],
      "source": [
        "matriz_de_confusión = confusion_matrix(y_train, y_train_pred)"
      ]
    },
    {
      "cell_type": "code",
      "execution_count": null,
      "metadata": {
        "id": "1TA1uwjt2o96"
      },
      "outputs": [],
      "source": [
        "print(\"Matriz de confusión datos de train\")\n",
        "ConfusionMatrixDisplay.from_predictions(y_train, y_train_pred);\n",
        "\n",
        "\n"
      ]
    },
    {
      "cell_type": "code",
      "source": [
        "print(\"Matriz de confusión datos de test\")\n",
        "ConfusionMatrixDisplay.from_predictions(y_test, y_test_pred);"
      ],
      "metadata": {
        "id": "bySrehCuZpoP"
      },
      "execution_count": null,
      "outputs": []
    },
    {
      "cell_type": "markdown",
      "metadata": {
        "id": "P0P27sc82o97"
      },
      "source": [
        "- - -\n",
        "| *Matriz Confusión*        | Predicción Negativa    | Predicción Positiva     |\n",
        "| -------------             | :-------------:          | :-------------:           |\n",
        "| **Observación Negativa** | Verdaderos Negativo (VN)  | Falsos Positivo (FP)      |\n",
        "| **Observación Positiva** | Falsos Negativo (FN)      | Verdaderos Positivos (VP) |"
      ]
    },
    {
      "cell_type": "markdown",
      "metadata": {
        "id": "oqjco8xD2o97"
      },
      "source": [
        "- - -\n",
        "| *Matriz Confusión*                | Predicción igual a 0 | Predicción igual a 1 |\n",
        "| ---------------------------       | :-------------:      | :-------------:      |\n",
        "| **Observación igual a Valor = 0** | 311                  | 39                   |\n",
        "| **Observación igual a Valor = 1** | 79                   | 108                  |"
      ]
    },
    {
      "cell_type": "markdown",
      "metadata": {
        "id": "O41ldkUU2o97"
      },
      "source": [
        "- - -"
      ]
    },
    {
      "cell_type": "code",
      "execution_count": null,
      "metadata": {
        "id": "L1uMe3Il2o97"
      },
      "outputs": [],
      "source": [
        "VN = matriz_de_confusión[0][0]"
      ]
    },
    {
      "cell_type": "code",
      "execution_count": null,
      "metadata": {
        "id": "6BvuYUa02o98"
      },
      "outputs": [],
      "source": [
        "FP = matriz_de_confusión[0][1]"
      ]
    },
    {
      "cell_type": "code",
      "execution_count": null,
      "metadata": {
        "id": "pG-hdKLW2o98"
      },
      "outputs": [],
      "source": [
        "FN = matriz_de_confusión[1][0]"
      ]
    },
    {
      "cell_type": "code",
      "execution_count": null,
      "metadata": {
        "id": "poAKt2qI2o98"
      },
      "outputs": [],
      "source": [
        "VP = matriz_de_confusión[1][1]"
      ]
    },
    {
      "cell_type": "markdown",
      "metadata": {
        "id": "qix9xcAw2o99"
      },
      "source": [
        "- - -\n",
        "#### ACCURACY (aka exactitud):\n",
        "Accuracy = (VP+VN)/(VP+VN+FP+FN)\n",
        "\n",
        "Accuracy = (108+311)/(108+311+39+79)\n",
        "\n",
        "Accuracy = 0.78"
      ]
    },
    {
      "cell_type": "code",
      "execution_count": null,
      "metadata": {
        "id": "SPrgN5W22o99"
      },
      "outputs": [],
      "source": [
        "(VP+VN)/(VP+VN+FP+FN)"
      ]
    },
    {
      "cell_type": "markdown",
      "metadata": {
        "id": "Zjl7yEGA2o99"
      },
      "source": [
        "- - -\n",
        "#### ESPECIFICIDAD:\n",
        "Frecuencia que con nuestro valor negativo obtenemos una predicción que también lo es.  \n",
        "\n",
        "Especificidad = VN/(VN+FP)\n",
        "\n",
        "Especificidad = 311/(311+39)\n",
        "\n",
        "Especificidad = 0.88"
      ]
    },
    {
      "cell_type": "code",
      "execution_count": null,
      "metadata": {
        "id": "5zsZ6RAN2o9-"
      },
      "outputs": [],
      "source": [
        "(VN/(VN+FP))"
      ]
    },
    {
      "cell_type": "markdown",
      "metadata": {
        "id": "oIc9JcDD2o9-"
      },
      "source": [
        "- - -\n",
        "#### SENSIBILIDAD:  \n",
        "Frecuencia que con nuestro valor positivo obtenermos una predicción que también lo es.  \n",
        "\n",
        "Sensibilidad = VP/(VP+FN)\n",
        "\n",
        "Sensibilidad = 108/(108+79)\n",
        "\n",
        "Sensibilidad = 0.57"
      ]
    },
    {
      "cell_type": "code",
      "execution_count": null,
      "metadata": {
        "scrolled": true,
        "id": "RAvZ9XIq2o9-"
      },
      "outputs": [],
      "source": [
        "VP/(VP+FN)"
      ]
    },
    {
      "cell_type": "markdown",
      "metadata": {
        "id": "2qOc9P992o9_"
      },
      "source": [
        "- - -"
      ]
    },
    {
      "cell_type": "markdown",
      "metadata": {
        "id": "HbqsmZtl2o9_"
      },
      "source": [
        "Lo que veremos a continuación son algunos de los valores reales del target de entrenamiento y algunos valores se su predicción.\n",
        "\n",
        "Lo que ha sucedido es que nuestro modelo  ha resultado ser mucho más específico que sensible por lo que para resolver este problema podemos modificar el umbral de corte.  "
      ]
    },
    {
      "cell_type": "code",
      "execution_count": null,
      "metadata": {
        "id": "zg_IEniR2o9_"
      },
      "outputs": [],
      "source": [
        "print(\"Valores Reales:\")\n",
        "list(y_train)[0:24]"
      ]
    },
    {
      "cell_type": "code",
      "execution_count": null,
      "metadata": {
        "id": "Tixfn2Kk2o-A"
      },
      "outputs": [],
      "source": [
        "print(\"Valores Predicción:\")\n",
        "list(y_train_pred)[0:24]"
      ]
    },
    {
      "cell_type": "markdown",
      "metadata": {
        "id": "G9CD7FRV2o-A"
      },
      "source": [
        "- - -"
      ]
    },
    {
      "cell_type": "markdown",
      "metadata": {
        "id": "uqW2kKhg2o-A"
      },
      "source": [
        "### Modificar el umbral"
      ]
    },
    {
      "cell_type": "code",
      "execution_count": null,
      "metadata": {
        "id": "HSKJk4QG2o-A"
      },
      "outputs": [],
      "source": [
        "y_train_pred_proba = LR.predict_proba(X_train)\n",
        "#nos devuelve la probabilidad de que sea 0 y la probabilidad de que sea 1."
      ]
    },
    {
      "cell_type": "code",
      "execution_count": null,
      "metadata": {
        "id": "tWzaUXXd2o-B"
      },
      "outputs": [],
      "source": [
        "list(y_train_pred_proba)[0:5]"
      ]
    },
    {
      "cell_type": "markdown",
      "metadata": {
        "id": "P1kxRM6Z2o-B"
      },
      "source": [
        "    Usaremos sliding para  seleccionar tanto filas como columnas columnas."
      ]
    },
    {
      "cell_type": "code",
      "execution_count": null,
      "metadata": {
        "id": "73BSzaiA2o-B"
      },
      "outputs": [],
      "source": [
        "list(y_train_pred_proba[0:15,1])\n",
        "#Nos hemos quedado con la probabilidad de que sea 1."
      ]
    },
    {
      "cell_type": "markdown",
      "metadata": {
        "id": "U8uShEJl2o-C"
      },
      "source": [
        "- - -"
      ]
    },
    {
      "cell_type": "markdown",
      "metadata": {
        "id": "xPQGohtx2o-C"
      },
      "source": [
        "    A continuación vamos a replicar el proceso de binarización con el corte por defecto y luego realizaremos un corte custom"
      ]
    },
    {
      "cell_type": "code",
      "execution_count": null,
      "metadata": {
        "id": "LnUgRw9L2o-C"
      },
      "outputs": [],
      "source": [
        "from sklearn.preprocessing import binarize"
      ]
    },
    {
      "cell_type": "code",
      "execution_count": null,
      "metadata": {
        "id": "fp1imJTc2o-C"
      },
      "outputs": [],
      "source": [
        "y_pred_class = binarize(y_train_pred_proba, threshold=0.50)"
      ]
    },
    {
      "cell_type": "code",
      "execution_count": null,
      "metadata": {
        "id": "BCy85SO_2o-C"
      },
      "outputs": [],
      "source": [
        "print(y_pred_class[0:24,1])"
      ]
    },
    {
      "cell_type": "code",
      "execution_count": null,
      "metadata": {
        "id": "CQqaUdpV2o-C"
      },
      "outputs": [],
      "source": [
        "y_pred_class = binarize(y_train_pred_proba, threshold=0.25)"
      ]
    },
    {
      "cell_type": "code",
      "execution_count": null,
      "metadata": {
        "id": "AgZ_gwGd2o-D"
      },
      "outputs": [],
      "source": [
        "otra_matriz_de_confusión = confusion_matrix(y_train, y_pred_class[:,1])\n",
        "print(otra_matriz_de_confusión)"
      ]
    },
    {
      "cell_type": "code",
      "execution_count": null,
      "metadata": {
        "id": "rIYU0j5B2o-D"
      },
      "outputs": [],
      "source": [
        "VN = otra_matriz_de_confusión[0][0]\n",
        "FP = otra_matriz_de_confusión[0][1]\n",
        "FN = otra_matriz_de_confusión[1][0]\n",
        "VP = otra_matriz_de_confusión[1][1]"
      ]
    },
    {
      "cell_type": "code",
      "execution_count": null,
      "metadata": {
        "id": "DsD2WD4i2o-D"
      },
      "outputs": [],
      "source": [
        "print(\"Especificidad\")\n",
        "print((VN/(VN+FP)))\n",
        "print(\"Sensibilidad\")\n",
        "print((VP/(VP+FN)))"
      ]
    },
    {
      "cell_type": "markdown",
      "metadata": {
        "id": "5QNzKekw2o-E"
      },
      "source": [
        "- - -"
      ]
    },
    {
      "cell_type": "markdown",
      "metadata": {
        "id": "Xd83pIyq2o-E"
      },
      "source": [
        "### Curva ROC"
      ]
    },
    {
      "cell_type": "markdown",
      "metadata": {
        "id": "2gEYTZPy2o-E"
      },
      "source": [
        "Una curva ROC (Receiver Operating Characteristic) es una representación gráfica que nos indica la relación entre la sensibilidad y la especificidad de un sistema clasificador para diferentes puntos de corte."
      ]
    },
    {
      "cell_type": "code",
      "execution_count": null,
      "metadata": {
        "id": "L34lT_wU2o-E"
      },
      "outputs": [],
      "source": [
        "from sklearn.metrics import roc_curve"
      ]
    },
    {
      "cell_type": "code",
      "execution_count": null,
      "metadata": {
        "id": "_7kE0QWX2o-F"
      },
      "outputs": [],
      "source": [
        "RFP, RVP, umbrales = roc_curve(y_train, y_train_pred_proba[:,1])"
      ]
    },
    {
      "cell_type": "markdown",
      "metadata": {
        "id": "kr11Fmdf2o-F"
      },
      "source": [
        "- - -"
      ]
    },
    {
      "cell_type": "code",
      "execution_count": null,
      "metadata": {
        "id": "Xa9SOmFk2o-F"
      },
      "outputs": [],
      "source": [
        "import matplotlib.pyplot as plt"
      ]
    },
    {
      "cell_type": "code",
      "execution_count": null,
      "metadata": {
        "id": "p0y9rijR2o-F"
      },
      "outputs": [],
      "source": [
        "from IPython.display import set_matplotlib_formats\n",
        "set_matplotlib_formats(\"retina\")"
      ]
    },
    {
      "cell_type": "code",
      "execution_count": null,
      "metadata": {
        "id": "wC9bLz_W2o-G"
      },
      "outputs": [],
      "source": [
        "plt.plot(RFP, RVP)"
      ]
    },
    {
      "cell_type": "code",
      "execution_count": null,
      "metadata": {
        "id": "R7sQhbMj2o-G"
      },
      "outputs": [],
      "source": [
        "plt.plot(RFP, RVP)\n",
        "plt.plot([0, 1], [0, 1], color=\"black\", lw=1, linestyle=\"--\")\n",
        "plt.xlim([0.0, 1.0])\n",
        "plt.ylim([0.0, 1.0])\n",
        "plt.title(\"Especificidad\\n1.0                0.8                0.6                0.4                0.2                0.0\", fontsize=10)\n",
        "plt.xlabel(\"1 - Especificidad = Ratio de falsos positivos\")\n",
        "plt.ylabel(\"Sensibilidad = Ratio verdaderos positivos\")\n",
        "plt.grid(True)"
      ]
    },
    {
      "cell_type": "markdown",
      "metadata": {
        "id": "GbLG9aJR2o-G"
      },
      "source": [
        "- - -\n",
        "Alternativamente podriamos hacer este plot con seaborn de la siguiente manera:"
      ]
    },
    {
      "cell_type": "code",
      "source": [
        "import seaborn as sns\n",
        "\n",
        "sns.lineplot(x=RFP, y=RVP)\n",
        "sns.lineplot(x=[0, 1], y=[0, 1], color=\"black\", lw=1, linestyle=\"--\")\n",
        "plt.xlim([0.0, 1.0])\n",
        "plt.ylim([0.0, 1.0])\n",
        "plt.title(\"Especificidad\\n1.0                0.8                0.6                0.4                0.2                0.0\", fontsize=10)\n",
        "plt.xlabel(\"1 - Especificidad = Ratio de falsos positivos\")\n",
        "plt.ylabel(\"Sensibilidad = Ratio verdaderos positivos\")\n",
        "plt.grid(True)"
      ],
      "metadata": {
        "id": "MTJSWsUtIrFl"
      },
      "execution_count": null,
      "outputs": []
    },
    {
      "cell_type": "markdown",
      "metadata": {
        "id": "Ae5nmhTe2o-H"
      },
      "source": [
        "- - -"
      ]
    },
    {
      "cell_type": "markdown",
      "metadata": {
        "id": "eZfjOq-D2o-H"
      },
      "source": [
        "### Área bajo la curva"
      ]
    },
    {
      "cell_type": "markdown",
      "metadata": {
        "id": "7gaVqzR22o-H"
      },
      "source": [
        "Si queremos calcular la eficiencia de nuestro modelo de manera general, indiferentemente del umbral de corte podemos usar la métrica de AUC.\n",
        "\n",
        "Cuando más se aproxime nuestro valor de AUC a 1, mejor sera el rendimiento de nuestro modelo."
      ]
    },
    {
      "cell_type": "code",
      "execution_count": null,
      "metadata": {
        "id": "LCCYYLC62o-H"
      },
      "outputs": [],
      "source": [
        "from sklearn.metrics import roc_auc_score"
      ]
    },
    {
      "cell_type": "code",
      "execution_count": null,
      "metadata": {
        "id": "KFOMBuJB2o-H"
      },
      "outputs": [],
      "source": [
        "print(\"AUC - Datos de test\")\n",
        "roc_auc_score(y_test, y_test_pred)"
      ]
    },
    {
      "cell_type": "markdown",
      "metadata": {
        "id": "--EcoiDg2o-I"
      },
      "source": [
        "- - -"
      ]
    }
  ],
  "metadata": {
    "kernelspec": {
      "display_name": "Python 3",
      "language": "python",
      "name": "python3"
    },
    "language_info": {
      "codemirror_mode": {
        "name": "ipython",
        "version": 3
      },
      "file_extension": ".py",
      "mimetype": "text/x-python",
      "name": "python",
      "nbconvert_exporter": "python",
      "pygments_lexer": "ipython3",
      "version": "3.8.5"
    },
    "colab": {
      "provenance": []
    }
  },
  "nbformat": 4,
  "nbformat_minor": 0
}